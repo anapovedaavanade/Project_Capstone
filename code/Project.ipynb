{
 "cells": [
  {
   "cell_type": "markdown",
   "id": "0123e99e-c075-4cb8-be73-7197d4de79bb",
   "metadata": {},
   "source": [
    "https://github.com/arunm8489/Amazon_Fine_Food_Reviews-sentiment_analysis/blob/master/Notebooks/4.%20Logistic_regression.ipynb"
   ]
  },
  {
   "cell_type": "markdown",
   "id": "199fc425-048b-4fa9-a2a3-adc796c7b864",
   "metadata": {},
   "source": [
    "https://towardsdatascience.com/sentiment-analysis-on-amazon-food-reviews-from-eda-to-deployment-f985c417b0c"
   ]
  },
  {
   "cell_type": "markdown",
   "id": "0a036018-0067-4203-b50b-104130976e14",
   "metadata": {},
   "source": [
    "https://www.kaggle.com/code/poonaml/text-classification-using-spacy"
   ]
  },
  {
   "cell_type": "markdown",
   "id": "0e9a6d1f-7331-4bb5-aa6e-7804cf9bf52d",
   "metadata": {},
   "source": [
    "https://www.kaggle.com/code/elshatakmaev/review-classification-using-pytorch"
   ]
  },
  {
   "cell_type": "markdown",
   "id": "67cb97af-132d-4906-85dc-447087fafb60",
   "metadata": {},
   "source": [
    "#### Dependencies"
   ]
  },
  {
   "cell_type": "code",
   "execution_count": null,
   "id": "81557fd4-d7be-4dc1-b5f8-f7210bcbdbfe",
   "metadata": {},
   "outputs": [],
   "source": []
  },
  {
   "cell_type": "markdown",
   "id": "23027998-5fb3-4b44-9fa3-28996f7de01f",
   "metadata": {},
   "source": []
  },
  {
   "cell_type": "markdown",
   "id": "f96c9d9a-21f6-4477-a906-8e5eaef8759c",
   "metadata": {},
   "source": [
    "###  1. Data Processing"
   ]
  },
  {
   "cell_type": "markdown",
   "id": "16efd7e9-31dc-4761-82dd-e6e1ea43e842",
   "metadata": {},
   "source": [
    "#### Show DataFrame"
   ]
  },
  {
   "cell_type": "code",
   "execution_count": 1,
   "id": "3cdf77be-3d17-4698-a678-da2660514708",
   "metadata": {},
   "outputs": [],
   "source": [
    "import numpy as np\n",
    "import pandas as pd\n",
    "import os"
   ]
  },
  {
   "cell_type": "code",
   "execution_count": 2,
   "id": "ac1ee93f-f99c-42f6-96fa-91c57086bcd5",
   "metadata": {},
   "outputs": [],
   "source": [
    "#!pip install numpy==1.21.2"
   ]
  },
  {
   "cell_type": "code",
   "execution_count": 3,
   "id": "f84b843b-53d7-40e1-894a-16e4dfd47fa3",
   "metadata": {},
   "outputs": [],
   "source": [
    "#!pip install pandas"
   ]
  },
  {
   "cell_type": "code",
   "execution_count": 4,
   "id": "bfa961db-c4f4-4511-9475-9c42d8591a01",
   "metadata": {},
   "outputs": [],
   "source": [
    "df = pd.read_csv('../data/amazon_fine_food_reviews.csv')"
   ]
  },
  {
   "cell_type": "code",
   "execution_count": 5,
   "id": "656d05d6-cad7-4e5a-ac51-5017144ac3b3",
   "metadata": {},
   "outputs": [
    {
     "data": {
      "text/html": [
       "<div>\n",
       "<style scoped>\n",
       "    .dataframe tbody tr th:only-of-type {\n",
       "        vertical-align: middle;\n",
       "    }\n",
       "\n",
       "    .dataframe tbody tr th {\n",
       "        vertical-align: top;\n",
       "    }\n",
       "\n",
       "    .dataframe thead th {\n",
       "        text-align: right;\n",
       "    }\n",
       "</style>\n",
       "<table border=\"1\" class=\"dataframe\">\n",
       "  <thead>\n",
       "    <tr style=\"text-align: right;\">\n",
       "      <th></th>\n",
       "      <th>Id</th>\n",
       "      <th>ProductId</th>\n",
       "      <th>UserId</th>\n",
       "      <th>ProfileName</th>\n",
       "      <th>HelpfulnessNumerator</th>\n",
       "      <th>HelpfulnessDenominator</th>\n",
       "      <th>Score</th>\n",
       "      <th>Time</th>\n",
       "      <th>Summary</th>\n",
       "      <th>Text</th>\n",
       "    </tr>\n",
       "  </thead>\n",
       "  <tbody>\n",
       "    <tr>\n",
       "      <th>0</th>\n",
       "      <td>1</td>\n",
       "      <td>B001E4KFG0</td>\n",
       "      <td>A3SGXH7AUHU8GW</td>\n",
       "      <td>delmartian</td>\n",
       "      <td>1</td>\n",
       "      <td>1</td>\n",
       "      <td>5</td>\n",
       "      <td>1303862400</td>\n",
       "      <td>Good Quality Dog Food</td>\n",
       "      <td>I have bought several of the Vitality canned d...</td>\n",
       "    </tr>\n",
       "    <tr>\n",
       "      <th>1</th>\n",
       "      <td>2</td>\n",
       "      <td>B00813GRG4</td>\n",
       "      <td>A1D87F6ZCVE5NK</td>\n",
       "      <td>dll pa</td>\n",
       "      <td>0</td>\n",
       "      <td>0</td>\n",
       "      <td>1</td>\n",
       "      <td>1346976000</td>\n",
       "      <td>Not as Advertised</td>\n",
       "      <td>Product arrived labeled as Jumbo Salted Peanut...</td>\n",
       "    </tr>\n",
       "    <tr>\n",
       "      <th>2</th>\n",
       "      <td>3</td>\n",
       "      <td>B000LQOCH0</td>\n",
       "      <td>ABXLMWJIXXAIN</td>\n",
       "      <td>Natalia Corres \"Natalia Corres\"</td>\n",
       "      <td>1</td>\n",
       "      <td>1</td>\n",
       "      <td>4</td>\n",
       "      <td>1219017600</td>\n",
       "      <td>\"Delight\" says it all</td>\n",
       "      <td>This is a confection that has been around a fe...</td>\n",
       "    </tr>\n",
       "    <tr>\n",
       "      <th>3</th>\n",
       "      <td>4</td>\n",
       "      <td>B000UA0QIQ</td>\n",
       "      <td>A395BORC6FGVXV</td>\n",
       "      <td>Karl</td>\n",
       "      <td>3</td>\n",
       "      <td>3</td>\n",
       "      <td>2</td>\n",
       "      <td>1307923200</td>\n",
       "      <td>Cough Medicine</td>\n",
       "      <td>If you are looking for the secret ingredient i...</td>\n",
       "    </tr>\n",
       "    <tr>\n",
       "      <th>4</th>\n",
       "      <td>5</td>\n",
       "      <td>B006K2ZZ7K</td>\n",
       "      <td>A1UQRSCLF8GW1T</td>\n",
       "      <td>Michael D. Bigham \"M. Wassir\"</td>\n",
       "      <td>0</td>\n",
       "      <td>0</td>\n",
       "      <td>5</td>\n",
       "      <td>1350777600</td>\n",
       "      <td>Great taffy</td>\n",
       "      <td>Great taffy at a great price.  There was a wid...</td>\n",
       "    </tr>\n",
       "  </tbody>\n",
       "</table>\n",
       "</div>"
      ],
      "text/plain": [
       "   Id   ProductId          UserId                      ProfileName  \\\n",
       "0   1  B001E4KFG0  A3SGXH7AUHU8GW                       delmartian   \n",
       "1   2  B00813GRG4  A1D87F6ZCVE5NK                           dll pa   \n",
       "2   3  B000LQOCH0   ABXLMWJIXXAIN  Natalia Corres \"Natalia Corres\"   \n",
       "3   4  B000UA0QIQ  A395BORC6FGVXV                             Karl   \n",
       "4   5  B006K2ZZ7K  A1UQRSCLF8GW1T    Michael D. Bigham \"M. Wassir\"   \n",
       "\n",
       "   HelpfulnessNumerator  HelpfulnessDenominator  Score        Time  \\\n",
       "0                     1                       1      5  1303862400   \n",
       "1                     0                       0      1  1346976000   \n",
       "2                     1                       1      4  1219017600   \n",
       "3                     3                       3      2  1307923200   \n",
       "4                     0                       0      5  1350777600   \n",
       "\n",
       "                 Summary                                               Text  \n",
       "0  Good Quality Dog Food  I have bought several of the Vitality canned d...  \n",
       "1      Not as Advertised  Product arrived labeled as Jumbo Salted Peanut...  \n",
       "2  \"Delight\" says it all  This is a confection that has been around a fe...  \n",
       "3         Cough Medicine  If you are looking for the secret ingredient i...  \n",
       "4            Great taffy  Great taffy at a great price.  There was a wid...  "
      ]
     },
     "execution_count": 5,
     "metadata": {},
     "output_type": "execute_result"
    }
   ],
   "source": [
    "df.head(5)"
   ]
  },
  {
   "cell_type": "code",
   "execution_count": 6,
   "id": "f4f6735f-5122-45dd-8b9b-48abd91051fc",
   "metadata": {},
   "outputs": [
    {
     "name": "stdout",
     "output_type": "stream",
     "text": [
      "<class 'pandas.core.frame.DataFrame'>\n",
      "RangeIndex: 568454 entries, 0 to 568453\n",
      "Data columns (total 10 columns):\n",
      " #   Column                  Non-Null Count   Dtype \n",
      "---  ------                  --------------   ----- \n",
      " 0   Id                      568454 non-null  int64 \n",
      " 1   ProductId               568454 non-null  object\n",
      " 2   UserId                  568454 non-null  object\n",
      " 3   ProfileName             568428 non-null  object\n",
      " 4   HelpfulnessNumerator    568454 non-null  int64 \n",
      " 5   HelpfulnessDenominator  568454 non-null  int64 \n",
      " 6   Score                   568454 non-null  int64 \n",
      " 7   Time                    568454 non-null  int64 \n",
      " 8   Summary                 568427 non-null  object\n",
      " 9   Text                    568454 non-null  object\n",
      "dtypes: int64(5), object(5)\n",
      "memory usage: 43.4+ MB\n"
     ]
    }
   ],
   "source": [
    "df.info()"
   ]
  },
  {
   "cell_type": "code",
   "execution_count": 7,
   "id": "9c3f54e1-18ca-430f-9547-a5cd42007ec9",
   "metadata": {},
   "outputs": [
    {
     "data": {
      "text/plain": [
       "(568454, 10)"
      ]
     },
     "execution_count": 7,
     "metadata": {},
     "output_type": "execute_result"
    }
   ],
   "source": [
    "df.shape"
   ]
  },
  {
   "cell_type": "markdown",
   "id": "186c4247-9430-45cc-84e5-1592891a3f57",
   "metadata": {},
   "source": [
    "#### Data Cleaning"
   ]
  },
  {
   "cell_type": "markdown",
   "id": "b3ff276b-be19-453c-909f-cdc761391402",
   "metadata": {},
   "source": [
    "##### Remove Nan"
   ]
  },
  {
   "cell_type": "code",
   "execution_count": 8,
   "id": "8f2df8ea-1aed-4fd0-9164-829b24ce6aa4",
   "metadata": {},
   "outputs": [
    {
     "data": {
      "text/plain": [
       "27"
      ]
     },
     "execution_count": 8,
     "metadata": {},
     "output_type": "execute_result"
    }
   ],
   "source": [
    "df.Summary.isnull().sum()"
   ]
  },
  {
   "cell_type": "code",
   "execution_count": 9,
   "id": "0961d863-4047-48cc-91ad-e229705d4139",
   "metadata": {},
   "outputs": [],
   "source": [
    "df.dropna(subset=['Summary'], inplace=True)"
   ]
  },
  {
   "cell_type": "code",
   "execution_count": 10,
   "id": "c8a7a6d4-9fe2-4259-9d58-c8d171cb8d8f",
   "metadata": {},
   "outputs": [
    {
     "data": {
      "text/plain": [
       "0"
      ]
     },
     "execution_count": 10,
     "metadata": {},
     "output_type": "execute_result"
    }
   ],
   "source": [
    "df.Summary.isnull().sum()"
   ]
  },
  {
   "cell_type": "code",
   "execution_count": 11,
   "id": "99163495-3b99-43b9-9f22-02ca0faab09c",
   "metadata": {},
   "outputs": [
    {
     "name": "stdout",
     "output_type": "stream",
     "text": [
      "<class 'pandas.core.frame.DataFrame'>\n",
      "Index: 568427 entries, 0 to 568453\n",
      "Data columns (total 10 columns):\n",
      " #   Column                  Non-Null Count   Dtype \n",
      "---  ------                  --------------   ----- \n",
      " 0   Id                      568427 non-null  int64 \n",
      " 1   ProductId               568427 non-null  object\n",
      " 2   UserId                  568427 non-null  object\n",
      " 3   ProfileName             568401 non-null  object\n",
      " 4   HelpfulnessNumerator    568427 non-null  int64 \n",
      " 5   HelpfulnessDenominator  568427 non-null  int64 \n",
      " 6   Score                   568427 non-null  int64 \n",
      " 7   Time                    568427 non-null  int64 \n",
      " 8   Summary                 568427 non-null  object\n",
      " 9   Text                    568427 non-null  object\n",
      "dtypes: int64(5), object(5)\n",
      "memory usage: 47.7+ MB\n"
     ]
    }
   ],
   "source": [
    "df.info()"
   ]
  },
  {
   "cell_type": "code",
   "execution_count": 12,
   "id": "2bda2da3-3646-45ae-9e36-ea64034d227f",
   "metadata": {},
   "outputs": [
    {
     "data": {
      "text/plain": [
       "(568427, 10)"
      ]
     },
     "execution_count": 12,
     "metadata": {},
     "output_type": "execute_result"
    }
   ],
   "source": [
    "df.shape"
   ]
  },
  {
   "cell_type": "markdown",
   "id": "e1cb8dda-abcc-453f-9488-b97fc503fdb5",
   "metadata": {},
   "source": [
    "##### Deduplication"
   ]
  },
  {
   "cell_type": "code",
   "execution_count": 13,
   "id": "190548da-5b30-40de-b139-0d209a386744",
   "metadata": {},
   "outputs": [],
   "source": [
    "df.drop_duplicates(subset=['UserId','ProfileName','Time','Text'], keep='first',inplace=True)"
   ]
  },
  {
   "cell_type": "code",
   "execution_count": 14,
   "id": "1fcb84b2-3ed7-4013-bfdf-c75f7a973d6f",
   "metadata": {},
   "outputs": [
    {
     "data": {
      "text/plain": [
       "(393930, 10)"
      ]
     },
     "execution_count": 14,
     "metadata": {},
     "output_type": "execute_result"
    }
   ],
   "source": [
    "df.shape"
   ]
  },
  {
   "cell_type": "markdown",
   "id": "3b485fd2-4a47-47fd-a447-ac44501b157a",
   "metadata": {},
   "source": [
    "##### Remove colums without useful information"
   ]
  },
  {
   "cell_type": "code",
   "execution_count": 15,
   "id": "efd97729-3e36-4557-8723-db9566c66905",
   "metadata": {},
   "outputs": [],
   "source": [
    "df.drop(['Id','UserId','ProfileName'], axis=1, inplace=True)"
   ]
  },
  {
   "cell_type": "code",
   "execution_count": 16,
   "id": "524d8c4d-a5a0-4cad-8c9c-785777a4fab5",
   "metadata": {},
   "outputs": [
    {
     "data": {
      "text/plain": [
       "(393930, 7)"
      ]
     },
     "execution_count": 16,
     "metadata": {},
     "output_type": "execute_result"
    }
   ],
   "source": [
    "df.shape"
   ]
  },
  {
   "cell_type": "code",
   "execution_count": 17,
   "id": "dadadbb9-cae2-4c7b-bff3-cd26843a5bb3",
   "metadata": {},
   "outputs": [
    {
     "data": {
      "text/html": [
       "<div>\n",
       "<style scoped>\n",
       "    .dataframe tbody tr th:only-of-type {\n",
       "        vertical-align: middle;\n",
       "    }\n",
       "\n",
       "    .dataframe tbody tr th {\n",
       "        vertical-align: top;\n",
       "    }\n",
       "\n",
       "    .dataframe thead th {\n",
       "        text-align: right;\n",
       "    }\n",
       "</style>\n",
       "<table border=\"1\" class=\"dataframe\">\n",
       "  <thead>\n",
       "    <tr style=\"text-align: right;\">\n",
       "      <th></th>\n",
       "      <th>ProductId</th>\n",
       "      <th>HelpfulnessNumerator</th>\n",
       "      <th>HelpfulnessDenominator</th>\n",
       "      <th>Score</th>\n",
       "      <th>Time</th>\n",
       "      <th>Summary</th>\n",
       "      <th>Text</th>\n",
       "    </tr>\n",
       "  </thead>\n",
       "  <tbody>\n",
       "    <tr>\n",
       "      <th>0</th>\n",
       "      <td>B001E4KFG0</td>\n",
       "      <td>1</td>\n",
       "      <td>1</td>\n",
       "      <td>5</td>\n",
       "      <td>1303862400</td>\n",
       "      <td>Good Quality Dog Food</td>\n",
       "      <td>I have bought several of the Vitality canned d...</td>\n",
       "    </tr>\n",
       "    <tr>\n",
       "      <th>1</th>\n",
       "      <td>B00813GRG4</td>\n",
       "      <td>0</td>\n",
       "      <td>0</td>\n",
       "      <td>1</td>\n",
       "      <td>1346976000</td>\n",
       "      <td>Not as Advertised</td>\n",
       "      <td>Product arrived labeled as Jumbo Salted Peanut...</td>\n",
       "    </tr>\n",
       "    <tr>\n",
       "      <th>2</th>\n",
       "      <td>B000LQOCH0</td>\n",
       "      <td>1</td>\n",
       "      <td>1</td>\n",
       "      <td>4</td>\n",
       "      <td>1219017600</td>\n",
       "      <td>\"Delight\" says it all</td>\n",
       "      <td>This is a confection that has been around a fe...</td>\n",
       "    </tr>\n",
       "    <tr>\n",
       "      <th>3</th>\n",
       "      <td>B000UA0QIQ</td>\n",
       "      <td>3</td>\n",
       "      <td>3</td>\n",
       "      <td>2</td>\n",
       "      <td>1307923200</td>\n",
       "      <td>Cough Medicine</td>\n",
       "      <td>If you are looking for the secret ingredient i...</td>\n",
       "    </tr>\n",
       "    <tr>\n",
       "      <th>4</th>\n",
       "      <td>B006K2ZZ7K</td>\n",
       "      <td>0</td>\n",
       "      <td>0</td>\n",
       "      <td>5</td>\n",
       "      <td>1350777600</td>\n",
       "      <td>Great taffy</td>\n",
       "      <td>Great taffy at a great price.  There was a wid...</td>\n",
       "    </tr>\n",
       "  </tbody>\n",
       "</table>\n",
       "</div>"
      ],
      "text/plain": [
       "    ProductId  HelpfulnessNumerator  HelpfulnessDenominator  Score  \\\n",
       "0  B001E4KFG0                     1                       1      5   \n",
       "1  B00813GRG4                     0                       0      1   \n",
       "2  B000LQOCH0                     1                       1      4   \n",
       "3  B000UA0QIQ                     3                       3      2   \n",
       "4  B006K2ZZ7K                     0                       0      5   \n",
       "\n",
       "         Time                Summary  \\\n",
       "0  1303862400  Good Quality Dog Food   \n",
       "1  1346976000      Not as Advertised   \n",
       "2  1219017600  \"Delight\" says it all   \n",
       "3  1307923200         Cough Medicine   \n",
       "4  1350777600            Great taffy   \n",
       "\n",
       "                                                Text  \n",
       "0  I have bought several of the Vitality canned d...  \n",
       "1  Product arrived labeled as Jumbo Salted Peanut...  \n",
       "2  This is a confection that has been around a fe...  \n",
       "3  If you are looking for the secret ingredient i...  \n",
       "4  Great taffy at a great price.  There was a wid...  "
      ]
     },
     "execution_count": 17,
     "metadata": {},
     "output_type": "execute_result"
    }
   ],
   "source": [
    "df.head(5)"
   ]
  },
  {
   "cell_type": "markdown",
   "id": "4cd175e9-479d-404d-ae3e-24f0134cc505",
   "metadata": {},
   "source": [
    "##### Transform time format and add new column"
   ]
  },
  {
   "cell_type": "code",
   "execution_count": 18,
   "id": "ca2c5e90-4b97-46b0-bdf0-573bf556c9fb",
   "metadata": {},
   "outputs": [],
   "source": [
    "import datetime"
   ]
  },
  {
   "cell_type": "code",
   "execution_count": 19,
   "id": "2b08dea5-2c15-4629-bf1b-abeb041d02bd",
   "metadata": {},
   "outputs": [
    {
     "data": {
      "text/plain": [
       "datetime.datetime(2011, 4, 27, 2, 0)"
      ]
     },
     "execution_count": 19,
     "metadata": {},
     "output_type": "execute_result"
    }
   ],
   "source": [
    "datetime.datetime.fromtimestamp(df.loc[0,'Time'])"
   ]
  },
  {
   "cell_type": "code",
   "execution_count": 20,
   "id": "fb252f6a-2043-44e0-b7b8-22d3ab6bd70e",
   "metadata": {},
   "outputs": [],
   "source": [
    "df['DateTime'] = df['Time'].apply(lambda x: datetime.datetime.fromtimestamp(x))"
   ]
  },
  {
   "cell_type": "code",
   "execution_count": 21,
   "id": "71fdb0e9-7def-44b6-9190-506a5b549f8a",
   "metadata": {},
   "outputs": [
    {
     "data": {
      "text/html": [
       "<div>\n",
       "<style scoped>\n",
       "    .dataframe tbody tr th:only-of-type {\n",
       "        vertical-align: middle;\n",
       "    }\n",
       "\n",
       "    .dataframe tbody tr th {\n",
       "        vertical-align: top;\n",
       "    }\n",
       "\n",
       "    .dataframe thead th {\n",
       "        text-align: right;\n",
       "    }\n",
       "</style>\n",
       "<table border=\"1\" class=\"dataframe\">\n",
       "  <thead>\n",
       "    <tr style=\"text-align: right;\">\n",
       "      <th></th>\n",
       "      <th>ProductId</th>\n",
       "      <th>HelpfulnessNumerator</th>\n",
       "      <th>HelpfulnessDenominator</th>\n",
       "      <th>Score</th>\n",
       "      <th>Time</th>\n",
       "      <th>Summary</th>\n",
       "      <th>Text</th>\n",
       "      <th>DateTime</th>\n",
       "    </tr>\n",
       "  </thead>\n",
       "  <tbody>\n",
       "    <tr>\n",
       "      <th>0</th>\n",
       "      <td>B001E4KFG0</td>\n",
       "      <td>1</td>\n",
       "      <td>1</td>\n",
       "      <td>5</td>\n",
       "      <td>1303862400</td>\n",
       "      <td>Good Quality Dog Food</td>\n",
       "      <td>I have bought several of the Vitality canned d...</td>\n",
       "      <td>2011-04-27 02:00:00</td>\n",
       "    </tr>\n",
       "    <tr>\n",
       "      <th>1</th>\n",
       "      <td>B00813GRG4</td>\n",
       "      <td>0</td>\n",
       "      <td>0</td>\n",
       "      <td>1</td>\n",
       "      <td>1346976000</td>\n",
       "      <td>Not as Advertised</td>\n",
       "      <td>Product arrived labeled as Jumbo Salted Peanut...</td>\n",
       "      <td>2012-09-07 02:00:00</td>\n",
       "    </tr>\n",
       "    <tr>\n",
       "      <th>2</th>\n",
       "      <td>B000LQOCH0</td>\n",
       "      <td>1</td>\n",
       "      <td>1</td>\n",
       "      <td>4</td>\n",
       "      <td>1219017600</td>\n",
       "      <td>\"Delight\" says it all</td>\n",
       "      <td>This is a confection that has been around a fe...</td>\n",
       "      <td>2008-08-18 02:00:00</td>\n",
       "    </tr>\n",
       "    <tr>\n",
       "      <th>3</th>\n",
       "      <td>B000UA0QIQ</td>\n",
       "      <td>3</td>\n",
       "      <td>3</td>\n",
       "      <td>2</td>\n",
       "      <td>1307923200</td>\n",
       "      <td>Cough Medicine</td>\n",
       "      <td>If you are looking for the secret ingredient i...</td>\n",
       "      <td>2011-06-13 02:00:00</td>\n",
       "    </tr>\n",
       "    <tr>\n",
       "      <th>4</th>\n",
       "      <td>B006K2ZZ7K</td>\n",
       "      <td>0</td>\n",
       "      <td>0</td>\n",
       "      <td>5</td>\n",
       "      <td>1350777600</td>\n",
       "      <td>Great taffy</td>\n",
       "      <td>Great taffy at a great price.  There was a wid...</td>\n",
       "      <td>2012-10-21 02:00:00</td>\n",
       "    </tr>\n",
       "  </tbody>\n",
       "</table>\n",
       "</div>"
      ],
      "text/plain": [
       "    ProductId  HelpfulnessNumerator  HelpfulnessDenominator  Score  \\\n",
       "0  B001E4KFG0                     1                       1      5   \n",
       "1  B00813GRG4                     0                       0      1   \n",
       "2  B000LQOCH0                     1                       1      4   \n",
       "3  B000UA0QIQ                     3                       3      2   \n",
       "4  B006K2ZZ7K                     0                       0      5   \n",
       "\n",
       "         Time                Summary  \\\n",
       "0  1303862400  Good Quality Dog Food   \n",
       "1  1346976000      Not as Advertised   \n",
       "2  1219017600  \"Delight\" says it all   \n",
       "3  1307923200         Cough Medicine   \n",
       "4  1350777600            Great taffy   \n",
       "\n",
       "                                                Text            DateTime  \n",
       "0  I have bought several of the Vitality canned d... 2011-04-27 02:00:00  \n",
       "1  Product arrived labeled as Jumbo Salted Peanut... 2012-09-07 02:00:00  \n",
       "2  This is a confection that has been around a fe... 2008-08-18 02:00:00  \n",
       "3  If you are looking for the secret ingredient i... 2011-06-13 02:00:00  \n",
       "4  Great taffy at a great price.  There was a wid... 2012-10-21 02:00:00  "
      ]
     },
     "execution_count": 21,
     "metadata": {},
     "output_type": "execute_result"
    }
   ],
   "source": [
    "df.head(5)"
   ]
  },
  {
   "cell_type": "code",
   "execution_count": 22,
   "id": "b02664c0-36a4-4ce8-b1d8-799784e73f1e",
   "metadata": {},
   "outputs": [
    {
     "data": {
      "text/plain": [
       "(393930, 8)"
      ]
     },
     "execution_count": 22,
     "metadata": {},
     "output_type": "execute_result"
    }
   ],
   "source": [
    "df.shape"
   ]
  },
  {
   "cell_type": "markdown",
   "id": "d4142bfb-574a-4447-a3c4-40f7a39bf51d",
   "metadata": {},
   "source": [
    "##### Avoid HelpfulnessNumerator bigger that HelpfulnessDenominator"
   ]
  },
  {
   "cell_type": "code",
   "execution_count": 23,
   "id": "7bdd074a-d90b-40e3-81bc-7511c8ded18d",
   "metadata": {},
   "outputs": [
    {
     "data": {
      "text/html": [
       "<div>\n",
       "<style scoped>\n",
       "    .dataframe tbody tr th:only-of-type {\n",
       "        vertical-align: middle;\n",
       "    }\n",
       "\n",
       "    .dataframe tbody tr th {\n",
       "        vertical-align: top;\n",
       "    }\n",
       "\n",
       "    .dataframe thead th {\n",
       "        text-align: right;\n",
       "    }\n",
       "</style>\n",
       "<table border=\"1\" class=\"dataframe\">\n",
       "  <thead>\n",
       "    <tr style=\"text-align: right;\">\n",
       "      <th></th>\n",
       "      <th>ProductId</th>\n",
       "      <th>HelpfulnessNumerator</th>\n",
       "      <th>HelpfulnessDenominator</th>\n",
       "      <th>Score</th>\n",
       "      <th>Time</th>\n",
       "      <th>Summary</th>\n",
       "      <th>Text</th>\n",
       "      <th>DateTime</th>\n",
       "    </tr>\n",
       "  </thead>\n",
       "  <tbody>\n",
       "    <tr>\n",
       "      <th>44736</th>\n",
       "      <td>B001EQ55RW</td>\n",
       "      <td>3</td>\n",
       "      <td>2</td>\n",
       "      <td>4</td>\n",
       "      <td>1212883200</td>\n",
       "      <td>Pure cocoa taste with crunchy almonds inside</td>\n",
       "      <td>It was almost a 'love at first bite' - the per...</td>\n",
       "      <td>2008-06-08 02:00:00</td>\n",
       "    </tr>\n",
       "    <tr>\n",
       "      <th>64421</th>\n",
       "      <td>B000MIDROQ</td>\n",
       "      <td>3</td>\n",
       "      <td>1</td>\n",
       "      <td>5</td>\n",
       "      <td>1224892800</td>\n",
       "      <td>Bought This for My Son at College</td>\n",
       "      <td>My son loves spaghetti so I didn't hesitate or...</td>\n",
       "      <td>2008-10-25 02:00:00</td>\n",
       "    </tr>\n",
       "  </tbody>\n",
       "</table>\n",
       "</div>"
      ],
      "text/plain": [
       "        ProductId  HelpfulnessNumerator  HelpfulnessDenominator  Score  \\\n",
       "44736  B001EQ55RW                     3                       2      4   \n",
       "64421  B000MIDROQ                     3                       1      5   \n",
       "\n",
       "             Time                                       Summary  \\\n",
       "44736  1212883200  Pure cocoa taste with crunchy almonds inside   \n",
       "64421  1224892800             Bought This for My Son at College   \n",
       "\n",
       "                                                    Text            DateTime  \n",
       "44736  It was almost a 'love at first bite' - the per... 2008-06-08 02:00:00  \n",
       "64421  My son loves spaghetti so I didn't hesitate or... 2008-10-25 02:00:00  "
      ]
     },
     "execution_count": 23,
     "metadata": {},
     "output_type": "execute_result"
    }
   ],
   "source": [
    "df[df['HelpfulnessNumerator'] > df['HelpfulnessDenominator']]"
   ]
  },
  {
   "cell_type": "code",
   "execution_count": 24,
   "id": "2c86b240-06a3-4999-a7f8-46b3204d86a3",
   "metadata": {},
   "outputs": [],
   "source": [
    "df = df[df['HelpfulnessNumerator'] <= df['HelpfulnessDenominator']]"
   ]
  },
  {
   "cell_type": "code",
   "execution_count": 25,
   "id": "78fdeaf3-e10d-4a08-af2d-5527dcd1623c",
   "metadata": {},
   "outputs": [
    {
     "data": {
      "text/plain": [
       "(393928, 8)"
      ]
     },
     "execution_count": 25,
     "metadata": {},
     "output_type": "execute_result"
    }
   ],
   "source": [
    "df.shape"
   ]
  },
  {
   "cell_type": "code",
   "execution_count": 26,
   "id": "1c797fcc-1bb5-486e-b1c9-13b018278a6c",
   "metadata": {},
   "outputs": [],
   "source": [
    "#Checking to see how much % of data still remains\n",
    "#print(f'Remaining data is {((shape[0]*1.0)/(df.shape[0]*1.0))*100}')"
   ]
  },
  {
   "cell_type": "markdown",
   "id": "c1e870d1-5b87-4c4f-b13e-45e7a5629414",
   "metadata": {},
   "source": [
    "https://www.kaggle.com/code/prasheel1047/review-positive-or-negative?scriptVersionId=78532145&cellId=16"
   ]
  },
  {
   "cell_type": "markdown",
   "id": "5c979fa3-f54e-4950-a06d-12b63b6ad6df",
   "metadata": {},
   "source": [
    "https://www.kaggle.com/code/harits/amazon-reviews-sentiment-analysis?scriptVersionId=115541011&cellId=5"
   ]
  },
  {
   "cell_type": "markdown",
   "id": "3f6c2fff-49b3-4dc6-a790-958f29e6dc0a",
   "metadata": {},
   "source": [
    "##### Remove Special characters"
   ]
  },
  {
   "cell_type": "markdown",
   "id": "3d4d60ec-e65d-430c-a188-954ea36896c7",
   "metadata": {},
   "source": [
    "##### Tokenization"
   ]
  },
  {
   "cell_type": "markdown",
   "id": "949f7373-0c34-4954-9479-bc917ace07a6",
   "metadata": {},
   "source": [
    "##### Remove Stop-words"
   ]
  },
  {
   "cell_type": "markdown",
   "id": "80d7f487-bdf6-44d0-be95-206e6a6625ee",
   "metadata": {},
   "source": [
    "##### Text normalization\n",
    "- Convert Lower or Upper case\n",
    "- Remove punctuation\n",
    "  "
   ]
  },
  {
   "cell_type": "markdown",
   "id": "4ec45e0e-6da9-47b9-a9df-b383dc5d7325",
   "metadata": {},
   "source": [
    "##### Steamming or Lemmatization"
   ]
  },
  {
   "cell_type": "markdown",
   "id": "f56d2ab4-d855-4a5c-8f46-04cf080b8b76",
   "metadata": {},
   "source": [
    "### 2. Exploratory Data Analysis"
   ]
  },
  {
   "cell_type": "code",
   "execution_count": 27,
   "id": "b6a2854c-abed-464c-99cc-f8eda83a9941",
   "metadata": {},
   "outputs": [],
   "source": [
    "#!pip install matplotlib"
   ]
  },
  {
   "cell_type": "code",
   "execution_count": 28,
   "id": "7de00946-9843-40df-9e54-59d032daa54e",
   "metadata": {},
   "outputs": [],
   "source": [
    "import matplotlib.pyplot as plt"
   ]
  },
  {
   "cell_type": "markdown",
   "id": "9d6bf57c-78bf-4a30-ab43-4221bc2b3319",
   "metadata": {},
   "source": [
    "#### Descriptive analysis of the data (basic statistics, distributions, etc.)."
   ]
  },
  {
   "cell_type": "code",
   "execution_count": 29,
   "id": "414b4fd8-f114-411c-9c72-06746567d007",
   "metadata": {},
   "outputs": [
    {
     "data": {
      "text/html": [
       "<div>\n",
       "<style scoped>\n",
       "    .dataframe tbody tr th:only-of-type {\n",
       "        vertical-align: middle;\n",
       "    }\n",
       "\n",
       "    .dataframe tbody tr th {\n",
       "        vertical-align: top;\n",
       "    }\n",
       "\n",
       "    .dataframe thead th {\n",
       "        text-align: right;\n",
       "    }\n",
       "</style>\n",
       "<table border=\"1\" class=\"dataframe\">\n",
       "  <thead>\n",
       "    <tr style=\"text-align: right;\">\n",
       "      <th></th>\n",
       "      <th>ProductId</th>\n",
       "      <th>HelpfulnessNumerator</th>\n",
       "      <th>HelpfulnessDenominator</th>\n",
       "      <th>Score</th>\n",
       "      <th>Time</th>\n",
       "      <th>Summary</th>\n",
       "      <th>Text</th>\n",
       "      <th>DateTime</th>\n",
       "    </tr>\n",
       "  </thead>\n",
       "  <tbody>\n",
       "    <tr>\n",
       "      <th>0</th>\n",
       "      <td>B001E4KFG0</td>\n",
       "      <td>1</td>\n",
       "      <td>1</td>\n",
       "      <td>5</td>\n",
       "      <td>1303862400</td>\n",
       "      <td>Good Quality Dog Food</td>\n",
       "      <td>I have bought several of the Vitality canned d...</td>\n",
       "      <td>2011-04-27 02:00:00</td>\n",
       "    </tr>\n",
       "    <tr>\n",
       "      <th>1</th>\n",
       "      <td>B00813GRG4</td>\n",
       "      <td>0</td>\n",
       "      <td>0</td>\n",
       "      <td>1</td>\n",
       "      <td>1346976000</td>\n",
       "      <td>Not as Advertised</td>\n",
       "      <td>Product arrived labeled as Jumbo Salted Peanut...</td>\n",
       "      <td>2012-09-07 02:00:00</td>\n",
       "    </tr>\n",
       "    <tr>\n",
       "      <th>2</th>\n",
       "      <td>B000LQOCH0</td>\n",
       "      <td>1</td>\n",
       "      <td>1</td>\n",
       "      <td>4</td>\n",
       "      <td>1219017600</td>\n",
       "      <td>\"Delight\" says it all</td>\n",
       "      <td>This is a confection that has been around a fe...</td>\n",
       "      <td>2008-08-18 02:00:00</td>\n",
       "    </tr>\n",
       "    <tr>\n",
       "      <th>3</th>\n",
       "      <td>B000UA0QIQ</td>\n",
       "      <td>3</td>\n",
       "      <td>3</td>\n",
       "      <td>2</td>\n",
       "      <td>1307923200</td>\n",
       "      <td>Cough Medicine</td>\n",
       "      <td>If you are looking for the secret ingredient i...</td>\n",
       "      <td>2011-06-13 02:00:00</td>\n",
       "    </tr>\n",
       "    <tr>\n",
       "      <th>4</th>\n",
       "      <td>B006K2ZZ7K</td>\n",
       "      <td>0</td>\n",
       "      <td>0</td>\n",
       "      <td>5</td>\n",
       "      <td>1350777600</td>\n",
       "      <td>Great taffy</td>\n",
       "      <td>Great taffy at a great price.  There was a wid...</td>\n",
       "      <td>2012-10-21 02:00:00</td>\n",
       "    </tr>\n",
       "  </tbody>\n",
       "</table>\n",
       "</div>"
      ],
      "text/plain": [
       "    ProductId  HelpfulnessNumerator  HelpfulnessDenominator  Score  \\\n",
       "0  B001E4KFG0                     1                       1      5   \n",
       "1  B00813GRG4                     0                       0      1   \n",
       "2  B000LQOCH0                     1                       1      4   \n",
       "3  B000UA0QIQ                     3                       3      2   \n",
       "4  B006K2ZZ7K                     0                       0      5   \n",
       "\n",
       "         Time                Summary  \\\n",
       "0  1303862400  Good Quality Dog Food   \n",
       "1  1346976000      Not as Advertised   \n",
       "2  1219017600  \"Delight\" says it all   \n",
       "3  1307923200         Cough Medicine   \n",
       "4  1350777600            Great taffy   \n",
       "\n",
       "                                                Text            DateTime  \n",
       "0  I have bought several of the Vitality canned d... 2011-04-27 02:00:00  \n",
       "1  Product arrived labeled as Jumbo Salted Peanut... 2012-09-07 02:00:00  \n",
       "2  This is a confection that has been around a fe... 2008-08-18 02:00:00  \n",
       "3  If you are looking for the secret ingredient i... 2011-06-13 02:00:00  \n",
       "4  Great taffy at a great price.  There was a wid... 2012-10-21 02:00:00  "
      ]
     },
     "execution_count": 29,
     "metadata": {},
     "output_type": "execute_result"
    }
   ],
   "source": [
    "df.head()"
   ]
  },
  {
   "cell_type": "code",
   "execution_count": 30,
   "id": "caaf610c-66b7-40e3-9595-00c125d46eef",
   "metadata": {},
   "outputs": [
    {
     "data": {
      "text/html": [
       "<div>\n",
       "<style scoped>\n",
       "    .dataframe tbody tr th:only-of-type {\n",
       "        vertical-align: middle;\n",
       "    }\n",
       "\n",
       "    .dataframe tbody tr th {\n",
       "        vertical-align: top;\n",
       "    }\n",
       "\n",
       "    .dataframe thead th {\n",
       "        text-align: right;\n",
       "    }\n",
       "</style>\n",
       "<table border=\"1\" class=\"dataframe\">\n",
       "  <thead>\n",
       "    <tr style=\"text-align: right;\">\n",
       "      <th></th>\n",
       "      <th>HelpfulnessNumerator</th>\n",
       "      <th>HelpfulnessDenominator</th>\n",
       "      <th>Score</th>\n",
       "      <th>Time</th>\n",
       "      <th>DateTime</th>\n",
       "    </tr>\n",
       "  </thead>\n",
       "  <tbody>\n",
       "    <tr>\n",
       "      <th>count</th>\n",
       "      <td>393928.000000</td>\n",
       "      <td>393928.000000</td>\n",
       "      <td>393928.000000</td>\n",
       "      <td>3.939280e+05</td>\n",
       "      <td>393928</td>\n",
       "    </tr>\n",
       "    <tr>\n",
       "      <th>mean</th>\n",
       "      <td>1.734401</td>\n",
       "      <td>2.204758</td>\n",
       "      <td>4.179408</td>\n",
       "      <td>1.296449e+09</td>\n",
       "      <td>2011-01-31 06:26:31.618773248</td>\n",
       "    </tr>\n",
       "    <tr>\n",
       "      <th>min</th>\n",
       "      <td>0.000000</td>\n",
       "      <td>0.000000</td>\n",
       "      <td>1.000000</td>\n",
       "      <td>9.393408e+08</td>\n",
       "      <td>1999-10-08 02:00:00</td>\n",
       "    </tr>\n",
       "    <tr>\n",
       "      <th>25%</th>\n",
       "      <td>0.000000</td>\n",
       "      <td>0.000000</td>\n",
       "      <td>4.000000</td>\n",
       "      <td>1.271376e+09</td>\n",
       "      <td>2010-04-16 02:00:00</td>\n",
       "    </tr>\n",
       "    <tr>\n",
       "      <th>50%</th>\n",
       "      <td>0.000000</td>\n",
       "      <td>1.000000</td>\n",
       "      <td>5.000000</td>\n",
       "      <td>1.311638e+09</td>\n",
       "      <td>2011-07-26 02:00:00</td>\n",
       "    </tr>\n",
       "    <tr>\n",
       "      <th>75%</th>\n",
       "      <td>2.000000</td>\n",
       "      <td>2.000000</td>\n",
       "      <td>5.000000</td>\n",
       "      <td>1.332979e+09</td>\n",
       "      <td>2012-03-29 02:00:00</td>\n",
       "    </tr>\n",
       "    <tr>\n",
       "      <th>max</th>\n",
       "      <td>866.000000</td>\n",
       "      <td>923.000000</td>\n",
       "      <td>5.000000</td>\n",
       "      <td>1.351210e+09</td>\n",
       "      <td>2012-10-26 02:00:00</td>\n",
       "    </tr>\n",
       "    <tr>\n",
       "      <th>std</th>\n",
       "      <td>6.872306</td>\n",
       "      <td>7.534738</td>\n",
       "      <td>1.311925</td>\n",
       "      <td>4.840316e+07</td>\n",
       "      <td>NaN</td>\n",
       "    </tr>\n",
       "  </tbody>\n",
       "</table>\n",
       "</div>"
      ],
      "text/plain": [
       "       HelpfulnessNumerator  HelpfulnessDenominator          Score  \\\n",
       "count         393928.000000           393928.000000  393928.000000   \n",
       "mean               1.734401                2.204758       4.179408   \n",
       "min                0.000000                0.000000       1.000000   \n",
       "25%                0.000000                0.000000       4.000000   \n",
       "50%                0.000000                1.000000       5.000000   \n",
       "75%                2.000000                2.000000       5.000000   \n",
       "max              866.000000              923.000000       5.000000   \n",
       "std                6.872306                7.534738       1.311925   \n",
       "\n",
       "               Time                       DateTime  \n",
       "count  3.939280e+05                         393928  \n",
       "mean   1.296449e+09  2011-01-31 06:26:31.618773248  \n",
       "min    9.393408e+08            1999-10-08 02:00:00  \n",
       "25%    1.271376e+09            2010-04-16 02:00:00  \n",
       "50%    1.311638e+09            2011-07-26 02:00:00  \n",
       "75%    1.332979e+09            2012-03-29 02:00:00  \n",
       "max    1.351210e+09            2012-10-26 02:00:00  \n",
       "std    4.840316e+07                            NaN  "
      ]
     },
     "execution_count": 30,
     "metadata": {},
     "output_type": "execute_result"
    }
   ],
   "source": [
    "df.describe()"
   ]
  },
  {
   "cell_type": "code",
   "execution_count": 31,
   "id": "0fdddd7b-1410-44cb-b1ec-465bb5782c1f",
   "metadata": {},
   "outputs": [
    {
     "data": {
      "image/png": "[encoded data removed]",
      "text/plain": [
       "<Figure size 1000x500 with 1 Axes>"
      ]
     },
     "metadata": {},
     "output_type": "display_data"
    }
   ],
   "source": [
    "# Assuming 'DateTime' is the column containing timestamps\n",
    "# Convert the column to datetime format if needed\n",
    "df['DateTime'] = pd.to_datetime(df['DateTime'])\n",
    " \n",
    "# Extract the year and month components\n",
    "df['Year'] = df['DateTime'].dt.year\n",
    "df['Month'] = df['DateTime'].dt.month\n",
    "\n",
    "# Group by year and month, and count occurrences\n",
    "monthly_counts = df.groupby(['Year', 'Month']).size()\n",
    "\n",
    "# Create the time series plot\n",
    "plt.figure(figsize=(10, 5))\n",
    "monthly_counts.plot(kind='bar', title='Number of Reviews by Year and Month')\n",
    "\n",
    "xticks = monthly_counts.index.map(lambda x: f\"{x[0]}-{x[1]}\")\n",
    "xticks = xticks[::6]  # Selecciona cada 6 meses\n",
    "plt.gca().set_xticks(range(0, len(xticks) * 6, 6))\n",
    "plt.gca().set_xticklabels(xticks, rotation=45, ha='right')\n",
    "\n",
    "plt.ylabel('Number of Reviews')\n",
    "\n",
    "# Save the plot\n",
    "plt.savefig('../reports/images/reviews_for_Year_Month.png')\n",
    " \n",
    "# Show the plot\n",
    "plt.show()"
   ]
  },
  {
   "cell_type": "code",
   "execution_count": 32,
   "id": "f407105c-56a2-46f4-900f-4a24bd801a6f",
   "metadata": {},
   "outputs": [
    {
     "data": {
      "text/html": [
       "<div>\n",
       "<style scoped>\n",
       "    .dataframe tbody tr th:only-of-type {\n",
       "        vertical-align: middle;\n",
       "    }\n",
       "\n",
       "    .dataframe tbody tr th {\n",
       "        vertical-align: top;\n",
       "    }\n",
       "\n",
       "    .dataframe thead th {\n",
       "        text-align: right;\n",
       "    }\n",
       "</style>\n",
       "<table border=\"1\" class=\"dataframe\">\n",
       "  <thead>\n",
       "    <tr style=\"text-align: right;\">\n",
       "      <th></th>\n",
       "      <th>ProductId</th>\n",
       "      <th>HelpfulnessNumerator</th>\n",
       "      <th>HelpfulnessDenominator</th>\n",
       "      <th>Score</th>\n",
       "      <th>Time</th>\n",
       "      <th>Summary</th>\n",
       "      <th>Text</th>\n",
       "      <th>DateTime</th>\n",
       "      <th>Year</th>\n",
       "      <th>Month</th>\n",
       "    </tr>\n",
       "  </thead>\n",
       "  <tbody>\n",
       "    <tr>\n",
       "      <th>0</th>\n",
       "      <td>B001E4KFG0</td>\n",
       "      <td>1</td>\n",
       "      <td>1</td>\n",
       "      <td>5</td>\n",
       "      <td>1303862400</td>\n",
       "      <td>Good Quality Dog Food</td>\n",
       "      <td>I have bought several of the Vitality canned d...</td>\n",
       "      <td>2011-04-27 02:00:00</td>\n",
       "      <td>2011</td>\n",
       "      <td>4</td>\n",
       "    </tr>\n",
       "  </tbody>\n",
       "</table>\n",
       "</div>"
      ],
      "text/plain": [
       "    ProductId  HelpfulnessNumerator  HelpfulnessDenominator  Score  \\\n",
       "0  B001E4KFG0                     1                       1      5   \n",
       "\n",
       "         Time                Summary  \\\n",
       "0  1303862400  Good Quality Dog Food   \n",
       "\n",
       "                                                Text            DateTime  \\\n",
       "0  I have bought several of the Vitality canned d... 2011-04-27 02:00:00   \n",
       "\n",
       "   Year  Month  \n",
       "0  2011      4  "
      ]
     },
     "execution_count": 32,
     "metadata": {},
     "output_type": "execute_result"
    }
   ],
   "source": [
    "df.head(1)"
   ]
  },
  {
   "cell_type": "code",
   "execution_count": 33,
   "id": "319b1f2a-1985-4467-ace1-b46f2697efc0",
   "metadata": {},
   "outputs": [
    {
     "name": "stderr",
     "output_type": "stream",
     "text": [
      "C:\\Users\\ana.poveda.garcia\\AppData\\Local\\Temp\\ipykernel_13272\\1429197469.py:2: SettingWithCopyWarning: \n",
      "A value is trying to be set on a copy of a slice from a DataFrame.\n",
      "Try using .loc[row_indexer,col_indexer] = value instead\n",
      "\n",
      "See the caveats in the documentation: https://pandas.pydata.org/pandas-docs/stable/user_guide/indexing.html#returning-a-view-versus-a-copy\n",
      "  dff['date'] = pd.to_datetime(df['Time'],unit='s')\n"
     ]
    }
   ],
   "source": [
    "dff = df[['Text','Score']]\n",
    "dff['date'] = pd.to_datetime(df['Time'],unit='s')"
   ]
  },
  {
   "cell_type": "code",
   "execution_count": 34,
   "id": "b601f014-31bb-41d0-bbff-8769d3abe1fa",
   "metadata": {},
   "outputs": [
    {
     "data": {
      "text/html": [
       "<div>\n",
       "<style scoped>\n",
       "    .dataframe tbody tr th:only-of-type {\n",
       "        vertical-align: middle;\n",
       "    }\n",
       "\n",
       "    .dataframe tbody tr th {\n",
       "        vertical-align: top;\n",
       "    }\n",
       "\n",
       "    .dataframe thead th {\n",
       "        text-align: right;\n",
       "    }\n",
       "</style>\n",
       "<table border=\"1\" class=\"dataframe\">\n",
       "  <thead>\n",
       "    <tr style=\"text-align: right;\">\n",
       "      <th></th>\n",
       "      <th>Text</th>\n",
       "      <th>Score</th>\n",
       "      <th>date</th>\n",
       "    </tr>\n",
       "  </thead>\n",
       "  <tbody>\n",
       "    <tr>\n",
       "      <th>0</th>\n",
       "      <td>I have bought several of the Vitality canned d...</td>\n",
       "      <td>5</td>\n",
       "      <td>2011-04-27</td>\n",
       "    </tr>\n",
       "    <tr>\n",
       "      <th>1</th>\n",
       "      <td>Product arrived labeled as Jumbo Salted Peanut...</td>\n",
       "      <td>1</td>\n",
       "      <td>2012-09-07</td>\n",
       "    </tr>\n",
       "    <tr>\n",
       "      <th>2</th>\n",
       "      <td>This is a confection that has been around a fe...</td>\n",
       "      <td>4</td>\n",
       "      <td>2008-08-18</td>\n",
       "    </tr>\n",
       "    <tr>\n",
       "      <th>3</th>\n",
       "      <td>If you are looking for the secret ingredient i...</td>\n",
       "      <td>2</td>\n",
       "      <td>2011-06-13</td>\n",
       "    </tr>\n",
       "    <tr>\n",
       "      <th>4</th>\n",
       "      <td>Great taffy at a great price.  There was a wid...</td>\n",
       "      <td>5</td>\n",
       "      <td>2012-10-21</td>\n",
       "    </tr>\n",
       "    <tr>\n",
       "      <th>...</th>\n",
       "      <td>...</td>\n",
       "      <td>...</td>\n",
       "      <td>...</td>\n",
       "    </tr>\n",
       "    <tr>\n",
       "      <th>568449</th>\n",
       "      <td>Great for sesame chicken..this is a good if no...</td>\n",
       "      <td>5</td>\n",
       "      <td>2011-03-09</td>\n",
       "    </tr>\n",
       "    <tr>\n",
       "      <th>568450</th>\n",
       "      <td>I'm disappointed with the flavor. The chocolat...</td>\n",
       "      <td>2</td>\n",
       "      <td>2012-03-09</td>\n",
       "    </tr>\n",
       "    <tr>\n",
       "      <th>568451</th>\n",
       "      <td>These stars are small, so you can give 10-15 o...</td>\n",
       "      <td>5</td>\n",
       "      <td>2012-02-21</td>\n",
       "    </tr>\n",
       "    <tr>\n",
       "      <th>568452</th>\n",
       "      <td>These are the BEST treats for training and rew...</td>\n",
       "      <td>5</td>\n",
       "      <td>2012-03-13</td>\n",
       "    </tr>\n",
       "    <tr>\n",
       "      <th>568453</th>\n",
       "      <td>I am very satisfied ,product is as advertised,...</td>\n",
       "      <td>5</td>\n",
       "      <td>2012-05-31</td>\n",
       "    </tr>\n",
       "  </tbody>\n",
       "</table>\n",
       "<p>393928 rows × 3 columns</p>\n",
       "</div>"
      ],
      "text/plain": [
       "                                                     Text  Score       date\n",
       "0       I have bought several of the Vitality canned d...      5 2011-04-27\n",
       "1       Product arrived labeled as Jumbo Salted Peanut...      1 2012-09-07\n",
       "2       This is a confection that has been around a fe...      4 2008-08-18\n",
       "3       If you are looking for the secret ingredient i...      2 2011-06-13\n",
       "4       Great taffy at a great price.  There was a wid...      5 2012-10-21\n",
       "...                                                   ...    ...        ...\n",
       "568449  Great for sesame chicken..this is a good if no...      5 2011-03-09\n",
       "568450  I'm disappointed with the flavor. The chocolat...      2 2012-03-09\n",
       "568451  These stars are small, so you can give 10-15 o...      5 2012-02-21\n",
       "568452  These are the BEST treats for training and rew...      5 2012-03-13\n",
       "568453  I am very satisfied ,product is as advertised,...      5 2012-05-31\n",
       "\n",
       "[393928 rows x 3 columns]"
      ]
     },
     "execution_count": 34,
     "metadata": {},
     "output_type": "execute_result"
    }
   ],
   "source": [
    "dff"
   ]
  },
  {
   "cell_type": "markdown",
   "id": "fbf910f9-452f-49d8-9fef-af71446cea10",
   "metadata": {},
   "source": [
    "More year, more internet, more reviews"
   ]
  },
  {
   "cell_type": "markdown",
   "id": "4125c936-cd66-46c8-b294-57ee10cc7dbb",
   "metadata": {},
   "source": [
    "##### Reviews Days"
   ]
  },
  {
   "cell_type": "code",
   "execution_count": 35,
   "id": "9eda21db-200b-4fba-a9c2-68df58815294",
   "metadata": {},
   "outputs": [
    {
     "data": {
      "image/png": "[encoded data removed]",
      "text/plain": [
       "<Figure size 2000x800 with 1 Axes>"
      ]
     },
     "metadata": {},
     "output_type": "display_data"
    }
   ],
   "source": [
    "# Assuming 'dff' is your DataFrame\n",
    "\n",
    "# Convert 'date' to datetime\n",
    "#dff.date = df.date.dt.strftime('%Y-%m-%d')\n",
    "#dff['date'] = pd.to_datetime(dff['date'] )\n",
    "\n",
    "# Filter and count by score\n",
    "scores = [1, 2, 3, 4, 5]\n",
    "plt.figure(figsize=(20, 8))\n",
    "for score in scores:\n",
    "    dff_score = dff[dff['Score'] == score].groupby('date').size().reset_index(name='Count')\n",
    "    plt.plot_date(x=dff_score['date'], y=dff_score['Count'], label=f'Score={score}')\n",
    "\n",
    "# Customize the plot\n",
    "plt.grid(linewidth=0.5, alpha=0.75)\n",
    "plt.xticks(rotation=90)\n",
    "plt.xlim(pd.Timestamp('2000-01-01'), pd.Timestamp('2012-10-01'))\n",
    "plt.xlabel('Date', fontsize=22)\n",
    "plt.ylabel('Number of review', fontsize=22)\n",
    "plt.title('Review trend from 2000 to 2012', fontsize=24)\n",
    "\n",
    "# Save the plot\n",
    "plt.savefig('../reports/images/review_trend_day.png')\n",
    "\n",
    "# Show the legend\n",
    "plt.legend()\n",
    "\n",
    "# Show the plot\n",
    "plt.show()"
   ]
  },
  {
   "cell_type": "markdown",
   "id": "10c75ce0-e3cf-472a-9990-a8b59df00e67",
   "metadata": {},
   "source": [
    "##### Reviews Month"
   ]
  },
  {
   "cell_type": "code",
   "execution_count": 36,
   "id": "6c272c17-6330-4bbf-8d6d-f7fd8c50d963",
   "metadata": {},
   "outputs": [
    {
     "name": "stderr",
     "output_type": "stream",
     "text": [
      "C:\\Users\\ana.poveda.garcia\\AppData\\Local\\Temp\\ipykernel_13272\\1326253661.py:4: SettingWithCopyWarning: \n",
      "A value is trying to be set on a copy of a slice from a DataFrame.\n",
      "Try using .loc[row_indexer,col_indexer] = value instead\n",
      "\n",
      "See the caveats in the documentation: https://pandas.pydata.org/pandas-docs/stable/user_guide/indexing.html#returning-a-view-versus-a-copy\n",
      "  dff.date = dff.date.dt.strftime('%Y-%m')\n",
      "C:\\Users\\ana.poveda.garcia\\AppData\\Local\\Temp\\ipykernel_13272\\1326253661.py:5: SettingWithCopyWarning: \n",
      "A value is trying to be set on a copy of a slice from a DataFrame.\n",
      "Try using .loc[row_indexer,col_indexer] = value instead\n",
      "\n",
      "See the caveats in the documentation: https://pandas.pydata.org/pandas-docs/stable/user_guide/indexing.html#returning-a-view-versus-a-copy\n",
      "  dff['date'] = pd.to_datetime(dff['date'] )\n"
     ]
    },
    {
     "data": {
      "text/html": [
       "<div>\n",
       "<style scoped>\n",
       "    .dataframe tbody tr th:only-of-type {\n",
       "        vertical-align: middle;\n",
       "    }\n",
       "\n",
       "    .dataframe tbody tr th {\n",
       "        vertical-align: top;\n",
       "    }\n",
       "\n",
       "    .dataframe thead th {\n",
       "        text-align: right;\n",
       "    }\n",
       "</style>\n",
       "<table border=\"1\" class=\"dataframe\">\n",
       "  <thead>\n",
       "    <tr style=\"text-align: right;\">\n",
       "      <th></th>\n",
       "      <th>Text</th>\n",
       "      <th>Score</th>\n",
       "      <th>date</th>\n",
       "    </tr>\n",
       "  </thead>\n",
       "  <tbody>\n",
       "    <tr>\n",
       "      <th>0</th>\n",
       "      <td>I have bought several of the Vitality canned d...</td>\n",
       "      <td>5</td>\n",
       "      <td>2011-04-01</td>\n",
       "    </tr>\n",
       "    <tr>\n",
       "      <th>1</th>\n",
       "      <td>Product arrived labeled as Jumbo Salted Peanut...</td>\n",
       "      <td>1</td>\n",
       "      <td>2012-09-01</td>\n",
       "    </tr>\n",
       "    <tr>\n",
       "      <th>2</th>\n",
       "      <td>This is a confection that has been around a fe...</td>\n",
       "      <td>4</td>\n",
       "      <td>2008-08-01</td>\n",
       "    </tr>\n",
       "    <tr>\n",
       "      <th>3</th>\n",
       "      <td>If you are looking for the secret ingredient i...</td>\n",
       "      <td>2</td>\n",
       "      <td>2011-06-01</td>\n",
       "    </tr>\n",
       "    <tr>\n",
       "      <th>4</th>\n",
       "      <td>Great taffy at a great price.  There was a wid...</td>\n",
       "      <td>5</td>\n",
       "      <td>2012-10-01</td>\n",
       "    </tr>\n",
       "    <tr>\n",
       "      <th>...</th>\n",
       "      <td>...</td>\n",
       "      <td>...</td>\n",
       "      <td>...</td>\n",
       "    </tr>\n",
       "    <tr>\n",
       "      <th>568449</th>\n",
       "      <td>Great for sesame chicken..this is a good if no...</td>\n",
       "      <td>5</td>\n",
       "      <td>2011-03-01</td>\n",
       "    </tr>\n",
       "    <tr>\n",
       "      <th>568450</th>\n",
       "      <td>I'm disappointed with the flavor. The chocolat...</td>\n",
       "      <td>2</td>\n",
       "      <td>2012-03-01</td>\n",
       "    </tr>\n",
       "    <tr>\n",
       "      <th>568451</th>\n",
       "      <td>These stars are small, so you can give 10-15 o...</td>\n",
       "      <td>5</td>\n",
       "      <td>2012-02-01</td>\n",
       "    </tr>\n",
       "    <tr>\n",
       "      <th>568452</th>\n",
       "      <td>These are the BEST treats for training and rew...</td>\n",
       "      <td>5</td>\n",
       "      <td>2012-03-01</td>\n",
       "    </tr>\n",
       "    <tr>\n",
       "      <th>568453</th>\n",
       "      <td>I am very satisfied ,product is as advertised,...</td>\n",
       "      <td>5</td>\n",
       "      <td>2012-05-01</td>\n",
       "    </tr>\n",
       "  </tbody>\n",
       "</table>\n",
       "<p>393928 rows × 3 columns</p>\n",
       "</div>"
      ],
      "text/plain": [
       "                                                     Text  Score       date\n",
       "0       I have bought several of the Vitality canned d...      5 2011-04-01\n",
       "1       Product arrived labeled as Jumbo Salted Peanut...      1 2012-09-01\n",
       "2       This is a confection that has been around a fe...      4 2008-08-01\n",
       "3       If you are looking for the secret ingredient i...      2 2011-06-01\n",
       "4       Great taffy at a great price.  There was a wid...      5 2012-10-01\n",
       "...                                                   ...    ...        ...\n",
       "568449  Great for sesame chicken..this is a good if no...      5 2011-03-01\n",
       "568450  I'm disappointed with the flavor. The chocolat...      2 2012-03-01\n",
       "568451  These stars are small, so you can give 10-15 o...      5 2012-02-01\n",
       "568452  These are the BEST treats for training and rew...      5 2012-03-01\n",
       "568453  I am very satisfied ,product is as advertised,...      5 2012-05-01\n",
       "\n",
       "[393928 rows x 3 columns]"
      ]
     },
     "metadata": {},
     "output_type": "display_data"
    },
    {
     "data": {
      "image/png": "[encoded data removed]",
      "text/plain": [
       "<Figure size 2000x800 with 1 Axes>"
      ]
     },
     "metadata": {},
     "output_type": "display_data"
    }
   ],
   "source": [
    "# Assuming 'dff' is your DataFrame\n",
    "\n",
    "# Convert 'date' to datetime\n",
    "dff.date = dff.date.dt.strftime('%Y-%m')\n",
    "dff['date'] = pd.to_datetime(dff['date'] )\n",
    "display(dff)\n",
    "\n",
    "# Filter and count by score\n",
    "scores = [1, 2, 3, 4, 5]\n",
    "plt.figure(figsize=(20, 8))\n",
    "for score in scores:\n",
    "    dff_score = dff[dff['Score'] == score].groupby('date').size().reset_index(name='Count')\n",
    "    plt.plot_date(x=dff_score['date'], y=dff_score['Count'], label=f'Score={score}')\n",
    "\n",
    "# Customize the plot\n",
    "plt.grid(linewidth=0.5, alpha=0.75)\n",
    "plt.xticks(rotation=90)\n",
    "plt.xlim(pd.Timestamp('2000-01-01'), pd.Timestamp('2012-10-01'))\n",
    "plt.xlabel('Date', fontsize=22)\n",
    "plt.ylabel('Number of review', fontsize=22)\n",
    "plt.title('Review trend from 2000 to 2012', fontsize=24)\n",
    "\n",
    "# Save the plot\n",
    "plt.savefig('../reports/images/review_trend_month.png')\n",
    "\n",
    "# Show the legend\n",
    "plt.legend()\n",
    "\n",
    "# Show the plot\n",
    "plt.show()"
   ]
  },
  {
   "cell_type": "markdown",
   "id": "deee11cb-7798-490b-bc5a-e4c2b8e67983",
   "metadata": {},
   "source": [
    "#### Visualisation of the distribution of ratings (score column)"
   ]
  },
  {
   "cell_type": "code",
   "execution_count": 37,
   "id": "3a254627-b32f-4aa1-a856-646c184ffacc",
   "metadata": {},
   "outputs": [
    {
     "data": {
      "image/png": "[encoded data removed]",
      "text/plain": [
       "<Figure size 1000x500 with 1 Axes>"
      ]
     },
     "metadata": {},
     "output_type": "display_data"
    }
   ],
   "source": [
    "ax = df['Score'].value_counts().sort_index().plot(kind='bar',\n",
    "          title='Count of Reviews by Stars',\n",
    "          figsize=(10, 5))\n",
    "ax.set_xlabel('Review Stars')\n",
    "\n",
    "# Save the plot\n",
    "plt.savefig('../reports/images/review_score.png')\n",
    "\n",
    "plt.show()"
   ]
  },
  {
   "cell_type": "markdown",
   "id": "86f64604-bc3d-4cb6-9a3a-e41add0b45d5",
   "metadata": {},
   "source": [
    "The dataset is unbalanced"
   ]
  },
  {
   "cell_type": "markdown",
   "id": "a3e085b6-18c6-4638-bda6-6c81db142416",
   "metadata": {},
   "source": [
    "##### Top 10 Reviewed Poducts"
   ]
  },
  {
   "cell_type": "code",
   "execution_count": 38,
   "id": "42e031d1-7b64-4985-847f-98251c6e0907",
   "metadata": {},
   "outputs": [
    {
     "data": {
      "text/html": [
       "<div>\n",
       "<style scoped>\n",
       "    .dataframe tbody tr th:only-of-type {\n",
       "        vertical-align: middle;\n",
       "    }\n",
       "\n",
       "    .dataframe tbody tr th {\n",
       "        vertical-align: top;\n",
       "    }\n",
       "\n",
       "    .dataframe thead th {\n",
       "        text-align: right;\n",
       "    }\n",
       "</style>\n",
       "<table border=\"1\" class=\"dataframe\">\n",
       "  <thead>\n",
       "    <tr style=\"text-align: right;\">\n",
       "      <th></th>\n",
       "      <th>ProductId</th>\n",
       "      <th>HelpfulnessNumerator</th>\n",
       "      <th>HelpfulnessDenominator</th>\n",
       "      <th>Score</th>\n",
       "      <th>Time</th>\n",
       "      <th>Summary</th>\n",
       "      <th>Text</th>\n",
       "      <th>DateTime</th>\n",
       "      <th>Year</th>\n",
       "      <th>Month</th>\n",
       "    </tr>\n",
       "  </thead>\n",
       "  <tbody>\n",
       "    <tr>\n",
       "      <th>0</th>\n",
       "      <td>B001E4KFG0</td>\n",
       "      <td>1</td>\n",
       "      <td>1</td>\n",
       "      <td>5</td>\n",
       "      <td>1303862400</td>\n",
       "      <td>Good Quality Dog Food</td>\n",
       "      <td>I have bought several of the Vitality canned d...</td>\n",
       "      <td>2011-04-27 02:00:00</td>\n",
       "      <td>2011</td>\n",
       "      <td>4</td>\n",
       "    </tr>\n",
       "    <tr>\n",
       "      <th>1</th>\n",
       "      <td>B00813GRG4</td>\n",
       "      <td>0</td>\n",
       "      <td>0</td>\n",
       "      <td>1</td>\n",
       "      <td>1346976000</td>\n",
       "      <td>Not as Advertised</td>\n",
       "      <td>Product arrived labeled as Jumbo Salted Peanut...</td>\n",
       "      <td>2012-09-07 02:00:00</td>\n",
       "      <td>2012</td>\n",
       "      <td>9</td>\n",
       "    </tr>\n",
       "    <tr>\n",
       "      <th>2</th>\n",
       "      <td>B000LQOCH0</td>\n",
       "      <td>1</td>\n",
       "      <td>1</td>\n",
       "      <td>4</td>\n",
       "      <td>1219017600</td>\n",
       "      <td>\"Delight\" says it all</td>\n",
       "      <td>This is a confection that has been around a fe...</td>\n",
       "      <td>2008-08-18 02:00:00</td>\n",
       "      <td>2008</td>\n",
       "      <td>8</td>\n",
       "    </tr>\n",
       "    <tr>\n",
       "      <th>3</th>\n",
       "      <td>B000UA0QIQ</td>\n",
       "      <td>3</td>\n",
       "      <td>3</td>\n",
       "      <td>2</td>\n",
       "      <td>1307923200</td>\n",
       "      <td>Cough Medicine</td>\n",
       "      <td>If you are looking for the secret ingredient i...</td>\n",
       "      <td>2011-06-13 02:00:00</td>\n",
       "      <td>2011</td>\n",
       "      <td>6</td>\n",
       "    </tr>\n",
       "    <tr>\n",
       "      <th>4</th>\n",
       "      <td>B006K2ZZ7K</td>\n",
       "      <td>0</td>\n",
       "      <td>0</td>\n",
       "      <td>5</td>\n",
       "      <td>1350777600</td>\n",
       "      <td>Great taffy</td>\n",
       "      <td>Great taffy at a great price.  There was a wid...</td>\n",
       "      <td>2012-10-21 02:00:00</td>\n",
       "      <td>2012</td>\n",
       "      <td>10</td>\n",
       "    </tr>\n",
       "    <tr>\n",
       "      <th>...</th>\n",
       "      <td>...</td>\n",
       "      <td>...</td>\n",
       "      <td>...</td>\n",
       "      <td>...</td>\n",
       "      <td>...</td>\n",
       "      <td>...</td>\n",
       "      <td>...</td>\n",
       "      <td>...</td>\n",
       "      <td>...</td>\n",
       "      <td>...</td>\n",
       "    </tr>\n",
       "    <tr>\n",
       "      <th>568449</th>\n",
       "      <td>B001EO7N10</td>\n",
       "      <td>0</td>\n",
       "      <td>0</td>\n",
       "      <td>5</td>\n",
       "      <td>1299628800</td>\n",
       "      <td>Will not do without</td>\n",
       "      <td>Great for sesame chicken..this is a good if no...</td>\n",
       "      <td>2011-03-09 01:00:00</td>\n",
       "      <td>2011</td>\n",
       "      <td>3</td>\n",
       "    </tr>\n",
       "    <tr>\n",
       "      <th>568450</th>\n",
       "      <td>B003S1WTCU</td>\n",
       "      <td>0</td>\n",
       "      <td>0</td>\n",
       "      <td>2</td>\n",
       "      <td>1331251200</td>\n",
       "      <td>disappointed</td>\n",
       "      <td>I'm disappointed with the flavor. The chocolat...</td>\n",
       "      <td>2012-03-09 01:00:00</td>\n",
       "      <td>2012</td>\n",
       "      <td>3</td>\n",
       "    </tr>\n",
       "    <tr>\n",
       "      <th>568451</th>\n",
       "      <td>B004I613EE</td>\n",
       "      <td>2</td>\n",
       "      <td>2</td>\n",
       "      <td>5</td>\n",
       "      <td>1329782400</td>\n",
       "      <td>Perfect for our maltipoo</td>\n",
       "      <td>These stars are small, so you can give 10-15 o...</td>\n",
       "      <td>2012-02-21 01:00:00</td>\n",
       "      <td>2012</td>\n",
       "      <td>2</td>\n",
       "    </tr>\n",
       "    <tr>\n",
       "      <th>568452</th>\n",
       "      <td>B004I613EE</td>\n",
       "      <td>1</td>\n",
       "      <td>1</td>\n",
       "      <td>5</td>\n",
       "      <td>1331596800</td>\n",
       "      <td>Favorite Training and reward treat</td>\n",
       "      <td>These are the BEST treats for training and rew...</td>\n",
       "      <td>2012-03-13 01:00:00</td>\n",
       "      <td>2012</td>\n",
       "      <td>3</td>\n",
       "    </tr>\n",
       "    <tr>\n",
       "      <th>568453</th>\n",
       "      <td>B001LR2CU2</td>\n",
       "      <td>0</td>\n",
       "      <td>0</td>\n",
       "      <td>5</td>\n",
       "      <td>1338422400</td>\n",
       "      <td>Great Honey</td>\n",
       "      <td>I am very satisfied ,product is as advertised,...</td>\n",
       "      <td>2012-05-31 02:00:00</td>\n",
       "      <td>2012</td>\n",
       "      <td>5</td>\n",
       "    </tr>\n",
       "  </tbody>\n",
       "</table>\n",
       "<p>393928 rows × 10 columns</p>\n",
       "</div>"
      ],
      "text/plain": [
       "         ProductId  HelpfulnessNumerator  HelpfulnessDenominator  Score  \\\n",
       "0       B001E4KFG0                     1                       1      5   \n",
       "1       B00813GRG4                     0                       0      1   \n",
       "2       B000LQOCH0                     1                       1      4   \n",
       "3       B000UA0QIQ                     3                       3      2   \n",
       "4       B006K2ZZ7K                     0                       0      5   \n",
       "...            ...                   ...                     ...    ...   \n",
       "568449  B001EO7N10                     0                       0      5   \n",
       "568450  B003S1WTCU                     0                       0      2   \n",
       "568451  B004I613EE                     2                       2      5   \n",
       "568452  B004I613EE                     1                       1      5   \n",
       "568453  B001LR2CU2                     0                       0      5   \n",
       "\n",
       "              Time                             Summary  \\\n",
       "0       1303862400               Good Quality Dog Food   \n",
       "1       1346976000                   Not as Advertised   \n",
       "2       1219017600               \"Delight\" says it all   \n",
       "3       1307923200                      Cough Medicine   \n",
       "4       1350777600                         Great taffy   \n",
       "...            ...                                 ...   \n",
       "568449  1299628800                 Will not do without   \n",
       "568450  1331251200                        disappointed   \n",
       "568451  1329782400            Perfect for our maltipoo   \n",
       "568452  1331596800  Favorite Training and reward treat   \n",
       "568453  1338422400                         Great Honey   \n",
       "\n",
       "                                                     Text            DateTime  \\\n",
       "0       I have bought several of the Vitality canned d... 2011-04-27 02:00:00   \n",
       "1       Product arrived labeled as Jumbo Salted Peanut... 2012-09-07 02:00:00   \n",
       "2       This is a confection that has been around a fe... 2008-08-18 02:00:00   \n",
       "3       If you are looking for the secret ingredient i... 2011-06-13 02:00:00   \n",
       "4       Great taffy at a great price.  There was a wid... 2012-10-21 02:00:00   \n",
       "...                                                   ...                 ...   \n",
       "568449  Great for sesame chicken..this is a good if no... 2011-03-09 01:00:00   \n",
       "568450  I'm disappointed with the flavor. The chocolat... 2012-03-09 01:00:00   \n",
       "568451  These stars are small, so you can give 10-15 o... 2012-02-21 01:00:00   \n",
       "568452  These are the BEST treats for training and rew... 2012-03-13 01:00:00   \n",
       "568453  I am very satisfied ,product is as advertised,... 2012-05-31 02:00:00   \n",
       "\n",
       "        Year  Month  \n",
       "0       2011      4  \n",
       "1       2012      9  \n",
       "2       2008      8  \n",
       "3       2011      6  \n",
       "4       2012     10  \n",
       "...      ...    ...  \n",
       "568449  2011      3  \n",
       "568450  2012      3  \n",
       "568451  2012      2  \n",
       "568452  2012      3  \n",
       "568453  2012      5  \n",
       "\n",
       "[393928 rows x 10 columns]"
      ]
     },
     "execution_count": 38,
     "metadata": {},
     "output_type": "execute_result"
    }
   ],
   "source": [
    "df"
   ]
  },
  {
   "cell_type": "code",
   "execution_count": 39,
   "id": "251707c2-f273-4a15-880e-750579990570",
   "metadata": {},
   "outputs": [
    {
     "data": {
      "text/plain": [
       "Text(0.5, 1.0, 'Top 10 Reviewed Products')"
      ]
     },
     "execution_count": 39,
     "metadata": {},
     "output_type": "execute_result"
    },
    {
     "data": {
      "image/png": "[encoded data removed]",
      "text/plain": [
       "<Figure size 640x480 with 1 Axes>"
      ]
     },
     "metadata": {},
     "output_type": "display_data"
    }
   ],
   "source": [
    "prod = df['ProductId'].value_counts().head(10) \n",
    "prod.plot(kind='bar') \n",
    "ax.set_title('Top 10 Reviewed Products')"
   ]
  },
  {
   "cell_type": "markdown",
   "id": "430bff28-d2a6-4884-99e6-16f10166956a",
   "metadata": {},
   "source": [
    "##### Top 5 Reviewed Products for each Year"
   ]
  },
  {
   "cell_type": "code",
   "execution_count": 40,
   "id": "b08f7397-c58e-4315-9b21-114ab3b4bd7e",
   "metadata": {},
   "outputs": [
    {
     "data": {
      "image/png": "[encoded data removed]",
      "text/plain": [
       "<Figure size 1500x800 with 1 Axes>"
      ]
     },
     "metadata": {},
     "output_type": "display_data"
    }
   ],
   "source": [
    "# Convert 'Time' column to datetime\n",
    "df['Year'] = pd.to_datetime(df['Time'], unit='s').dt.year\n",
    " \n",
    "# Group by year and product, and count the number of reviews\n",
    "grouped_df = df.groupby(['Year', 'ProductId']).size().reset_index(name='ReviewCount')\n",
    " \n",
    "# Get the top 10 reviewed products for each year\n",
    "top_products_per_year = grouped_df.groupby('Year').apply(lambda x: x.nlargest(5, 'ReviewCount')).reset_index(drop=True)\n",
    " \n",
    "# Plotting\n",
    "fig, ax = plt.subplots(figsize=(15, 8))\n",
    " \n",
    "for year in sorted(top_products_per_year['Year'].unique()):\n",
    "    year_data = top_products_per_year[top_products_per_year['Year'] == year]\n",
    "    ax.barh(year_data['ProductId'], year_data['ReviewCount'], label=str(year))\n",
    " \n",
    "ax.set_title('Top  Reviewed Products Per Year')\n",
    "ax.set_xlabel('Number of Reviews')\n",
    "ax.set_ylabel('Product ID')\n",
    "ax.legend(title='Year')\n",
    "plt.show()\n",
    " "
   ]
  },
  {
   "cell_type": "markdown",
   "id": "5eac80de-0b5c-40e4-9f4d-5225d4ed5626",
   "metadata": {},
   "source": [
    "### 3. Exploratory Data Text"
   ]
  },
  {
   "cell_type": "markdown",
   "id": "a715af49-8b0f-410b-8797-5e607e3b6460",
   "metadata": {},
   "source": [
    "#### Text Preprocessing "
   ]
  },
  {
   "cell_type": "markdown",
   "id": "32c7d83f-a733-4412-9fb5-6cf22faacf00",
   "metadata": {},
   "source": [
    "https://www.kaggle.com/code/prasheel1047/review-positive-or-negative?scriptVersionId=78532145&cellId=16\n",
    "https://www.kaggle.com/code/harits/amazon-reviews-sentiment-analysis?scriptVersionId=115541011&cellId=5"
   ]
  },
  {
   "cell_type": "markdown",
   "id": "d0297712-cea3-49f3-98ea-3a6913ff6c18",
   "metadata": {},
   "source": [
    "##### Remove Special characters"
   ]
  },
  {
   "cell_type": "code",
   "execution_count": 41,
   "id": "61f5eaee-0ab2-42ff-b438-d3fc0245aa45",
   "metadata": {},
   "outputs": [],
   "source": [
    "def remove_sub_text(pattern, text):\n",
    "    pattern = re.compile(pattern) \n",
    "    clean_text = re.sub(pattern, ' ', text)\n",
    "    return clean_text"
   ]
  },
  {
   "cell_type": "code",
   "execution_count": 42,
   "id": "cadda535-e1ef-43f9-b8e3-13d3d6b129e2",
   "metadata": {},
   "outputs": [
    {
     "data": {
      "text/plain": [
       "pandas.core.series.Series"
      ]
     },
     "execution_count": 42,
     "metadata": {},
     "output_type": "execute_result"
    }
   ],
   "source": [
    "type(df[\"Text\"])"
   ]
  },
  {
   "cell_type": "code",
   "execution_count": 43,
   "id": "6ff8fb4d-9a0c-489e-85e0-382f774701a0",
   "metadata": {},
   "outputs": [],
   "source": [
    "#!pip install tqdm"
   ]
  },
  {
   "cell_type": "code",
   "execution_count": 44,
   "id": "d55806dc-1e8f-4487-ad60-c7fb12c49d33",
   "metadata": {},
   "outputs": [],
   "source": [
    "import re\n",
    "from tqdm.notebook import tqdm"
   ]
  },
  {
   "cell_type": "code",
   "execution_count": 45,
   "id": "6a0f4358-d580-4d09-a2ae-38ee37b62291",
   "metadata": {},
   "outputs": [],
   "source": [
    "tqdm.pandas()"
   ]
  },
  {
   "cell_type": "code",
   "execution_count": 46,
   "id": "7d0b5ae8-c44a-4c21-bb09-1e2365e61250",
   "metadata": {},
   "outputs": [
    {
     "data": {
      "application/vnd.jupyter.widget-view+json": {
       "model_id": "fe99d625559841b3b856ee8fc043336d",
       "version_major": 2,
       "version_minor": 0
      },
      "text/plain": [
       "  0%|          | 0/393928 [00:00<?, ?it/s]"
      ]
     },
     "metadata": {},
     "output_type": "display_data"
    },
    {
     "name": "stdout",
     "output_type": "stream",
     "text": [
      "Remove URL: Okay\n"
     ]
    }
   ],
   "source": [
    "# Remove URL\n",
    "url_pattern = r\"(?i)\\b((?:https?://|www\\d{0,3}[.]|[a-z0-9.\\-]+[.][a-z]{2,4}/)(?:[^\\s()<>]+|\\(([^\\s()<>]+|(\\([^\\s()<>]+\\)))*\\))+(?:\\(([^\\s()<>]+|(\\([^\\s()<>]+\\)))*\\)|[^\\s`!()\\[\\]{};:'\\\".,<>?«»“”‘’]))\"\n",
    "df[\"CleanText\"] = df[\"Text\"].progress_apply(lambda x: re.sub(url_pattern, ' ', x))\n",
    "print(\"Remove URL: Okay\")"
   ]
  },
  {
   "cell_type": "code",
   "execution_count": 47,
   "id": "0a31b791-f218-44c9-ab5b-a2c81d5764bd",
   "metadata": {},
   "outputs": [
    {
     "data": {
      "application/vnd.jupyter.widget-view+json": {
       "model_id": "f6098eac5f5a43fd8b87bd39b9730d15",
       "version_major": 2,
       "version_minor": 0
      },
      "text/plain": [
       "  0%|          | 0/393928 [00:00<?, ?it/s]"
      ]
     },
     "metadata": {},
     "output_type": "display_data"
    },
    {
     "name": "stdout",
     "output_type": "stream",
     "text": [
      "Remove HTML: Okay\n"
     ]
    }
   ],
   "source": [
    "# Remove HTML\n",
    "pattern = '<.*?>|&([a-z0-9]+|#[0-9]{1,6}|#x[0-9a-f]{1,6});'\n",
    "df[\"CleanText\"] = df[\"CleanText\"].progress_apply(lambda x: remove_sub_text(pattern, x))\n",
    "print(\"Remove HTML: Okay\")"
   ]
  },
  {
   "cell_type": "code",
   "execution_count": 48,
   "id": "30117056-e421-4930-a948-e81326f4472c",
   "metadata": {},
   "outputs": [
    {
     "data": {
      "application/vnd.jupyter.widget-view+json": {
       "model_id": "62b0ede6ceba427d80ceba9481889b2a",
       "version_major": 2,
       "version_minor": 0
      },
      "text/plain": [
       "  0%|          | 0/393928 [00:00<?, ?it/s]"
      ]
     },
     "metadata": {},
     "output_type": "display_data"
    },
    {
     "name": "stdout",
     "output_type": "stream",
     "text": [
      "Remove Number: Okay\n"
     ]
    }
   ],
   "source": [
    "# Remove Number\n",
    "df[\"CleanText\"] = df[\"CleanText\"].progress_apply(lambda x: ''.join(s for s in x if not s.isdigit()))\n",
    "print(\"Remove Number: Okay\")"
   ]
  },
  {
   "cell_type": "code",
   "execution_count": 49,
   "id": "d0fbe27e-69f3-40c2-a5ca-708763d8126a",
   "metadata": {},
   "outputs": [
    {
     "data": {
      "application/vnd.jupyter.widget-view+json": {
       "model_id": "f1fc820390294595aa7179036277d2e0",
       "version_major": 2,
       "version_minor": 0
      },
      "text/plain": [
       "  0%|          | 0/393928 [00:00<?, ?it/s]"
      ]
     },
     "metadata": {},
     "output_type": "display_data"
    },
    {
     "name": "stdout",
     "output_type": "stream",
     "text": [
      "Remove Extra Spaces: Okay\n"
     ]
    }
   ],
   "source": [
    "# Remove Extra Spaces\n",
    "df[\"CleanText\"] = df[\"CleanText\"].progress_apply(lambda x: ' '.join(x.split()))\n",
    "print(\"Remove Extra Spaces: Okay\")"
   ]
  },
  {
   "cell_type": "markdown",
   "id": "5cdcc78c-27cd-43f9-9ac3-d83d5d65d5a3",
   "metadata": {},
   "source": [
    "##### Tokenization"
   ]
  },
  {
   "cell_type": "code",
   "execution_count": 50,
   "id": "66625f91-112c-4395-b6d6-e61b635600fe",
   "metadata": {},
   "outputs": [],
   "source": [
    "#!pip install keras"
   ]
  },
  {
   "cell_type": "code",
   "execution_count": 51,
   "id": "4fca338d-df2f-456a-8cb1-6c471e73a56c",
   "metadata": {},
   "outputs": [],
   "source": [
    "#!pip install tensorflow"
   ]
  },
  {
   "cell_type": "code",
   "execution_count": 52,
   "id": "d1f74ae3-ef85-4f01-9ae9-c9622eb1d995",
   "metadata": {},
   "outputs": [],
   "source": [
    "from keras.preprocessing.text import text_to_word_sequence"
   ]
  },
  {
   "cell_type": "code",
   "execution_count": 53,
   "id": "e76e8603-4e49-41e9-95b0-1468e668622e",
   "metadata": {},
   "outputs": [
    {
     "data": {
      "application/vnd.jupyter.widget-view+json": {
       "model_id": "c9c4a24911514b258ac61e417899ac2e",
       "version_major": 2,
       "version_minor": 0
      },
      "text/plain": [
       "  0%|          | 0/393928 [00:00<?, ?it/s]"
      ]
     },
     "metadata": {},
     "output_type": "display_data"
    },
    {
     "name": "stdout",
     "output_type": "stream",
     "text": [
      "Tokenization: Okay\n"
     ]
    }
   ],
   "source": [
    "# Tokenization\n",
    "df[\"TokenText\"] = df[\"CleanText\"].progress_apply(lambda x: text_to_word_sequence(x))\n",
    "print(\"Tokenization: Okay\")"
   ]
  },
  {
   "cell_type": "markdown",
   "id": "e41e8ee2-aaa6-4f9b-912f-4e7ac5ab010f",
   "metadata": {},
   "source": [
    "##### Remove Stop-words"
   ]
  },
  {
   "cell_type": "code",
   "execution_count": 54,
   "id": "de9ccea8-1348-49fa-92e7-dd8352440cd4",
   "metadata": {},
   "outputs": [
    {
     "name": "stdout",
     "output_type": "stream",
     "text": [
      "Requirement already satisfied: nltk in c:\\users\\ana.poveda.garcia\\anaconda3\\envs\\project\\lib\\site-packages (3.8.1)\n",
      "Requirement already satisfied: click in c:\\users\\ana.poveda.garcia\\anaconda3\\envs\\project\\lib\\site-packages (from nltk) (8.1.7)\n",
      "Requirement already satisfied: joblib in c:\\users\\ana.poveda.garcia\\anaconda3\\envs\\project\\lib\\site-packages (from nltk) (1.3.2)\n",
      "Requirement already satisfied: regex>=2021.8.3 in c:\\users\\ana.poveda.garcia\\anaconda3\\envs\\project\\lib\\site-packages (from nltk) (2023.12.25)\n",
      "Requirement already satisfied: tqdm in c:\\users\\ana.poveda.garcia\\anaconda3\\envs\\project\\lib\\site-packages (from nltk) (4.66.2)\n",
      "Requirement already satisfied: colorama in c:\\users\\ana.poveda.garcia\\anaconda3\\envs\\project\\lib\\site-packages (from click->nltk) (0.4.6)\n"
     ]
    }
   ],
   "source": [
    "#!pip install nltk"
   ]
  },
  {
   "cell_type": "code",
   "execution_count": 55,
   "id": "49eb9fb6-3570-44b6-9298-84928e155278",
   "metadata": {},
   "outputs": [],
   "source": [
    "import nltk\n",
    "from nltk.corpus import stopwords"
   ]
  },
  {
   "cell_type": "code",
   "execution_count": 56,
   "id": "a806923e-6708-4fad-ab03-6d3e5398f2d8",
   "metadata": {},
   "outputs": [
    {
     "name": "stderr",
     "output_type": "stream",
     "text": [
      "[nltk_data] Downloading package stopwords to\n",
      "[nltk_data]     C:\\Users\\ana.poveda.garcia\\AppData\\Roaming\\nltk_data..\n",
      "[nltk_data]     .\n",
      "[nltk_data]   Package stopwords is already up-to-date!\n"
     ]
    },
    {
     "data": {
      "text/plain": [
       "True"
      ]
     },
     "execution_count": 56,
     "metadata": {},
     "output_type": "execute_result"
    }
   ],
   "source": [
    "nltk.download('stopwords')"
   ]
  },
  {
   "cell_type": "code",
   "execution_count": 57,
   "id": "756f79ec-698c-40ac-8d39-86310fec18de",
   "metadata": {},
   "outputs": [],
   "source": [
    "#!pip install textblob"
   ]
  },
  {
   "cell_type": "code",
   "execution_count": 58,
   "id": "5df2064c-c311-4fcd-9be3-dbb0003f1256",
   "metadata": {},
   "outputs": [],
   "source": [
    "#!python -m textblob.download_corpora lite"
   ]
  },
  {
   "cell_type": "code",
   "execution_count": 59,
   "id": "56125120-f8f8-460a-8289-c1cb0ce12db5",
   "metadata": {},
   "outputs": [
    {
     "data": {
      "application/vnd.jupyter.widget-view+json": {
       "model_id": "72426dfda2a840f98a6749c9d1b26bf7",
       "version_major": 2,
       "version_minor": 0
      },
      "text/plain": [
       "  0%|          | 0/393928 [00:00<?, ?it/s]"
      ]
     },
     "metadata": {},
     "output_type": "display_data"
    },
    {
     "name": "stdout",
     "output_type": "stream",
     "text": [
      "Remove Stopwords: Okay\n"
     ]
    }
   ],
   "source": [
    "# Remove Stopwords\n",
    "stop = set(stopwords.words('english'))\n",
    "df[\"TokenText\"] = df[\"TokenText\"].progress_apply(lambda x: [word for word in x if word not in stop])\n",
    "print(\"Remove Stopwords: Okay\")"
   ]
  },
  {
   "cell_type": "markdown",
   "id": "eae8a875-22d2-4160-afd1-8bae21e35f90",
   "metadata": {},
   "source": [
    "##### Text normalization\n",
    "- Convert Lower or Upper case\n",
    "- Remove punctuation"
   ]
  },
  {
   "cell_type": "code",
   "execution_count": 60,
   "id": "4b0d8dde-d5fe-44bb-a5d5-87a2465b56a4",
   "metadata": {},
   "outputs": [
    {
     "data": {
      "application/vnd.jupyter.widget-view+json": {
       "model_id": "97bce23b070f4ba09bb3a33e68ffbebc",
       "version_major": 2,
       "version_minor": 0
      },
      "text/plain": [
       "  0%|          | 0/393928 [00:00<?, ?it/s]"
      ]
     },
     "metadata": {},
     "output_type": "display_data"
    },
    {
     "name": "stdout",
     "output_type": "stream",
     "text": [
      "Lower Casing: Okay\n"
     ]
    }
   ],
   "source": [
    "# Lower Casing\n",
    "df[\"CleanText\"] = df[\"CleanText\"].progress_apply(lambda x: x.lower())\n",
    "print(\"Lower Casing: Okay\")"
   ]
  },
  {
   "cell_type": "markdown",
   "id": "3b845641-c9e8-4f3a-b76c-176c9c8cde80",
   "metadata": {},
   "source": [
    "##### Tagging (optional)"
   ]
  },
  {
   "cell_type": "code",
   "execution_count": 61,
   "id": "9e7d3e2f-6893-4350-bbbe-1662ada5fb91",
   "metadata": {},
   "outputs": [],
   "source": [
    "# def pos_tagging(token):\n",
    "#     pos_dict = {'J':wordnet.ADJ, 'V':wordnet.VERB, 'N':wordnet.NOUN, 'R':wordnet.ADV}\n",
    "#     tags = pos_tag(token)\n",
    "#     newlist = []\n",
    "#     for word, tag in tags:\n",
    "#         newlist.append(tuple([word, pos_dict.get(tag[0])]))\n",
    "#     return newlist"
   ]
  },
  {
   "cell_type": "code",
   "execution_count": 62,
   "id": "8d9cda78-584a-44b6-8039-cc7634ac810f",
   "metadata": {},
   "outputs": [],
   "source": [
    "# import time\n",
    "# from multiprocessing import Pool"
   ]
  },
  {
   "cell_type": "code",
   "execution_count": 63,
   "id": "7360ecfb-7771-47f3-8056-688bcc0242bd",
   "metadata": {},
   "outputs": [],
   "source": [
    "# # POS Tagging\n",
    "# start_time = time.time()\n",
    "# pos_tagging_result = []\n",
    "# with Pool() as pool:\n",
    "#     result = pool.map_async(pos_tagging, df['TokenText'])\n",
    "#     for result in result.get():\n",
    "#         pos_tagging_result.append(result)\n",
    "#     pool.close()\n",
    "#     pool.join()\n",
    "# df[\"POSTagged\"] = pos_tagging_result\n",
    "# print(\"--- %s seconds ---\" % (time.time() - start_time))\n",
    "# print(\"POS Tagging: Okay\")"
   ]
  },
  {
   "cell_type": "code",
   "execution_count": 76,
   "id": "7d236131-892e-41a7-aeed-13c60f004089",
   "metadata": {},
   "outputs": [],
   "source": [
    "from nltk.corpus import wordnet\n",
    "from nltk import pos_tag\n",
    "import time"
   ]
  },
  {
   "cell_type": "code",
   "execution_count": 79,
   "id": "8d551e6a-0be7-4da6-aae7-7b1912fb6a68",
   "metadata": {},
   "outputs": [],
   "source": [
    "def pos_tagging(tokens):\n",
    "    # Mapping dictionary for part-of-speech tags\n",
    "    pos_dict = {'J':wordnet.ADJ, 'V':wordnet.VERB, 'N':wordnet.NOUN, 'R':wordnet.ADV}\n",
    "    # Perform POS tagging and mapping of tags to WordNet POS tags\n",
    "    tagged_tokens = []\n",
    "    for token in tokens:\n",
    "        tags = pos_tag(token)\n",
    "        newlist = [(word, pos_dict.get(tag[0])) for word, tag in tags]\n",
    "        tagged_tokens.append(newlist)\n",
    "    return tagged_tokens\n"
   ]
  },
  {
   "cell_type": "code",
   "execution_count": 80,
   "id": "d24b5c64-68e4-40ca-b123-042821d51757",
   "metadata": {},
   "outputs": [],
   "source": [
    "# Use the pos_tagging function\n",
    "start_time = time.time()\n",
    "pos_tagging_result = pos_tagging(df['TokenText'])\n",
    "\n",
    "# Assign result to a column in the DataFrame df\n",
    "df[\"POSTagged\"] = pos_tagging_result"
   ]
  },
  {
   "cell_type": "code",
   "execution_count": 81,
   "id": "d39f799b-3277-4f08-89cb-1291452064ac",
   "metadata": {},
   "outputs": [
    {
     "name": "stdout",
     "output_type": "stream",
     "text": [
      "--- 1372.7638425827026 seconds ---\n",
      "POS Tagging: Okay\n"
     ]
    }
   ],
   "source": [
    "print(\"--- %s seconds ---\" % (time.time() - start_time))\n",
    "print(\"POS Tagging: Okay\")"
   ]
  },
  {
   "cell_type": "markdown",
   "id": "61b82ec3-3d96-4407-9d58-42bb78133364",
   "metadata": {},
   "source": [
    "##### Steamming or Lemmatization"
   ]
  },
  {
   "cell_type": "code",
   "execution_count": 82,
   "id": "667d4821-41e5-4929-82ec-d085ca44202d",
   "metadata": {},
   "outputs": [],
   "source": [
    "from nltk.stem import WordNetLemmatizer"
   ]
  },
  {
   "cell_type": "code",
   "execution_count": 83,
   "id": "0bc1f75b-9158-412d-8b3d-19b62951a56e",
   "metadata": {},
   "outputs": [],
   "source": [
    "def lemmatize(pos_data):\n",
    "    wordnet_lemmatizer = WordNetLemmatizer()\n",
    "    lemma_rew = \" \"\n",
    "    for word, pos in pos_data:\n",
    "        if not pos:\n",
    "            lemma = word\n",
    "            lemma_rew = lemma_rew + \" \" + lemma\n",
    "        else:\n",
    "            lemma = wordnet_lemmatizer.lemmatize(word, pos=pos)\n",
    "            lemma_rew = lemma_rew + \" \" + lemma\n",
    "    return lemma_rew"
   ]
  },
  {
   "cell_type": "code",
   "execution_count": 84,
   "id": "f8534e92-5dc1-44ac-ae6d-f756f4921fdb",
   "metadata": {},
   "outputs": [
    {
     "data": {
      "application/vnd.jupyter.widget-view+json": {
       "model_id": "8f1cd626340c4fe2b968394387a27849",
       "version_major": 2,
       "version_minor": 0
      },
      "text/plain": [
       "  0%|          | 0/393928 [00:00<?, ?it/s]"
      ]
     },
     "metadata": {},
     "output_type": "display_data"
    },
    {
     "name": "stdout",
     "output_type": "stream",
     "text": [
      "Lemmatization\n"
     ]
    }
   ],
   "source": [
    "# Lemmatization\n",
    "df['FinalText'] = df['POSTagged'].progress_apply(lemmatize)\n",
    "print(\"Lemmatization\")"
   ]
  },
  {
   "cell_type": "code",
   "execution_count": 85,
   "id": "df8bf5b3-60d2-4a4c-a71d-3e6855abcd58",
   "metadata": {},
   "outputs": [
    {
     "data": {
      "application/vnd.jupyter.widget-view+json": {
       "model_id": "8c365a8f7f4f43389875308ead65ef1d",
       "version_major": 2,
       "version_minor": 0
      },
      "text/plain": [
       "  0%|          | 0/393928 [00:00<?, ?it/s]"
      ]
     },
     "metadata": {},
     "output_type": "display_data"
    },
    {
     "name": "stdout",
     "output_type": "stream",
     "text": [
      "Remove Extra Spaces Again: Okay\n",
      "Remove NaN Final Text: Okay\n"
     ]
    },
    {
     "data": {
      "application/vnd.jupyter.widget-view+json": {
       "model_id": "fa535de716c34061ba2dd07c7aac1faf",
       "version_major": 2,
       "version_minor": 0
      },
      "text/plain": [
       "  0%|          | 0/393928 [00:00<?, ?it/s]"
      ]
     },
     "metadata": {},
     "output_type": "display_data"
    },
    {
     "name": "stdout",
     "output_type": "stream",
     "text": [
      "Remove Final Text with Only 1 Word: Okay\n"
     ]
    }
   ],
   "source": [
    "# Remove Extra Spaces Again\n",
    "df[\"FinalText\"] = df[\"FinalText\"].progress_apply(lambda x: ' '.join(x.split()))\n",
    "print(\"Remove Extra Spaces Again: Okay\")\n",
    "\n",
    "# Remove NaN Final Text\n",
    "df = df.dropna(subset=[\"FinalText\"])\n",
    "print(\"Remove NaN Final Text: Okay\")\n",
    "\n",
    "# Remove Final Text with Only 1 Word\n",
    "df[\"WordCount\"] = df[\"FinalText\"].progress_apply(lambda x: len(x.split()))\n",
    "df = df[df[\"WordCount\"]>1]\n",
    "print(\"Remove Final Text with Only 1 Word: Okay\")"
   ]
  },
  {
   "cell_type": "code",
   "execution_count": 86,
   "id": "31c2967d-62a6-4902-99da-8b7013cdb7a0",
   "metadata": {},
   "outputs": [
    {
     "data": {
      "text/html": [
       "<div>\n",
       "<style scoped>\n",
       "    .dataframe tbody tr th:only-of-type {\n",
       "        vertical-align: middle;\n",
       "    }\n",
       "\n",
       "    .dataframe tbody tr th {\n",
       "        vertical-align: top;\n",
       "    }\n",
       "\n",
       "    .dataframe thead th {\n",
       "        text-align: right;\n",
       "    }\n",
       "</style>\n",
       "<table border=\"1\" class=\"dataframe\">\n",
       "  <thead>\n",
       "    <tr style=\"text-align: right;\">\n",
       "      <th></th>\n",
       "      <th>ProductId</th>\n",
       "      <th>HelpfulnessNumerator</th>\n",
       "      <th>HelpfulnessDenominator</th>\n",
       "      <th>Score</th>\n",
       "      <th>Time</th>\n",
       "      <th>Summary</th>\n",
       "      <th>Text</th>\n",
       "      <th>DateTime</th>\n",
       "      <th>Year</th>\n",
       "      <th>Month</th>\n",
       "      <th>CleanText</th>\n",
       "      <th>TokenText</th>\n",
       "      <th>POSTagged</th>\n",
       "      <th>FinalText</th>\n",
       "      <th>WordCount</th>\n",
       "    </tr>\n",
       "  </thead>\n",
       "  <tbody>\n",
       "    <tr>\n",
       "      <th>0</th>\n",
       "      <td>B001E4KFG0</td>\n",
       "      <td>1</td>\n",
       "      <td>1</td>\n",
       "      <td>5</td>\n",
       "      <td>1303862400</td>\n",
       "      <td>Good Quality Dog Food</td>\n",
       "      <td>I have bought several of the Vitality canned d...</td>\n",
       "      <td>2011-04-27 02:00:00</td>\n",
       "      <td>2011</td>\n",
       "      <td>4</td>\n",
       "      <td>i have bought several of the vitality canned d...</td>\n",
       "      <td>[bought, several, vitality, canned, dog, food,...</td>\n",
       "      <td>[(bought, v), (several, a), (vitality, n), (ca...</td>\n",
       "      <td>buy several vitality can dog food product find...</td>\n",
       "      <td>23</td>\n",
       "    </tr>\n",
       "    <tr>\n",
       "      <th>1</th>\n",
       "      <td>B00813GRG4</td>\n",
       "      <td>0</td>\n",
       "      <td>0</td>\n",
       "      <td>1</td>\n",
       "      <td>1346976000</td>\n",
       "      <td>Not as Advertised</td>\n",
       "      <td>Product arrived labeled as Jumbo Salted Peanut...</td>\n",
       "      <td>2012-09-07 02:00:00</td>\n",
       "      <td>2012</td>\n",
       "      <td>9</td>\n",
       "      <td>product arrived labeled as jumbo salted peanut...</td>\n",
       "      <td>[product, arrived, labeled, jumbo, salted, pea...</td>\n",
       "      <td>[(product, n), (arrived, v), (labeled, a), (ju...</td>\n",
       "      <td>product arrive labeled jumbo salt peanut peanu...</td>\n",
       "      <td>18</td>\n",
       "    </tr>\n",
       "    <tr>\n",
       "      <th>2</th>\n",
       "      <td>B000LQOCH0</td>\n",
       "      <td>1</td>\n",
       "      <td>1</td>\n",
       "      <td>4</td>\n",
       "      <td>1219017600</td>\n",
       "      <td>\"Delight\" says it all</td>\n",
       "      <td>This is a confection that has been around a fe...</td>\n",
       "      <td>2008-08-18 02:00:00</td>\n",
       "      <td>2008</td>\n",
       "      <td>8</td>\n",
       "      <td>this is a confection that has been around a fe...</td>\n",
       "      <td>[confection, around, centuries, light, pillowy...</td>\n",
       "      <td>[(confection, n), (around, None), (centuries, ...</td>\n",
       "      <td>confection around century light pillowy citrus...</td>\n",
       "      <td>40</td>\n",
       "    </tr>\n",
       "    <tr>\n",
       "      <th>3</th>\n",
       "      <td>B000UA0QIQ</td>\n",
       "      <td>3</td>\n",
       "      <td>3</td>\n",
       "      <td>2</td>\n",
       "      <td>1307923200</td>\n",
       "      <td>Cough Medicine</td>\n",
       "      <td>If you are looking for the secret ingredient i...</td>\n",
       "      <td>2011-06-13 02:00:00</td>\n",
       "      <td>2011</td>\n",
       "      <td>6</td>\n",
       "      <td>if you are looking for the secret ingredient i...</td>\n",
       "      <td>[looking, secret, ingredient, robitussin, beli...</td>\n",
       "      <td>[(looking, v), (secret, a), (ingredient, n), (...</td>\n",
       "      <td>look secret ingredient robitussin believe find...</td>\n",
       "      <td>18</td>\n",
       "    </tr>\n",
       "    <tr>\n",
       "      <th>4</th>\n",
       "      <td>B006K2ZZ7K</td>\n",
       "      <td>0</td>\n",
       "      <td>0</td>\n",
       "      <td>5</td>\n",
       "      <td>1350777600</td>\n",
       "      <td>Great taffy</td>\n",
       "      <td>Great taffy at a great price.  There was a wid...</td>\n",
       "      <td>2012-10-21 02:00:00</td>\n",
       "      <td>2012</td>\n",
       "      <td>10</td>\n",
       "      <td>great taffy at a great price. there was a wide...</td>\n",
       "      <td>[great, taffy, great, price, wide, assortment,...</td>\n",
       "      <td>[(great, a), (taffy, a), (great, a), (price, n...</td>\n",
       "      <td>great taffy great price wide assortment yummy ...</td>\n",
       "      <td>13</td>\n",
       "    </tr>\n",
       "  </tbody>\n",
       "</table>\n",
       "</div>"
      ],
      "text/plain": [
       "    ProductId  HelpfulnessNumerator  HelpfulnessDenominator  Score  \\\n",
       "0  B001E4KFG0                     1                       1      5   \n",
       "1  B00813GRG4                     0                       0      1   \n",
       "2  B000LQOCH0                     1                       1      4   \n",
       "3  B000UA0QIQ                     3                       3      2   \n",
       "4  B006K2ZZ7K                     0                       0      5   \n",
       "\n",
       "         Time                Summary  \\\n",
       "0  1303862400  Good Quality Dog Food   \n",
       "1  1346976000      Not as Advertised   \n",
       "2  1219017600  \"Delight\" says it all   \n",
       "3  1307923200         Cough Medicine   \n",
       "4  1350777600            Great taffy   \n",
       "\n",
       "                                                Text            DateTime  \\\n",
       "0  I have bought several of the Vitality canned d... 2011-04-27 02:00:00   \n",
       "1  Product arrived labeled as Jumbo Salted Peanut... 2012-09-07 02:00:00   \n",
       "2  This is a confection that has been around a fe... 2008-08-18 02:00:00   \n",
       "3  If you are looking for the secret ingredient i... 2011-06-13 02:00:00   \n",
       "4  Great taffy at a great price.  There was a wid... 2012-10-21 02:00:00   \n",
       "\n",
       "   Year  Month                                          CleanText  \\\n",
       "0  2011      4  i have bought several of the vitality canned d...   \n",
       "1  2012      9  product arrived labeled as jumbo salted peanut...   \n",
       "2  2008      8  this is a confection that has been around a fe...   \n",
       "3  2011      6  if you are looking for the secret ingredient i...   \n",
       "4  2012     10  great taffy at a great price. there was a wide...   \n",
       "\n",
       "                                           TokenText  \\\n",
       "0  [bought, several, vitality, canned, dog, food,...   \n",
       "1  [product, arrived, labeled, jumbo, salted, pea...   \n",
       "2  [confection, around, centuries, light, pillowy...   \n",
       "3  [looking, secret, ingredient, robitussin, beli...   \n",
       "4  [great, taffy, great, price, wide, assortment,...   \n",
       "\n",
       "                                           POSTagged  \\\n",
       "0  [(bought, v), (several, a), (vitality, n), (ca...   \n",
       "1  [(product, n), (arrived, v), (labeled, a), (ju...   \n",
       "2  [(confection, n), (around, None), (centuries, ...   \n",
       "3  [(looking, v), (secret, a), (ingredient, n), (...   \n",
       "4  [(great, a), (taffy, a), (great, a), (price, n...   \n",
       "\n",
       "                                           FinalText  WordCount  \n",
       "0  buy several vitality can dog food product find...         23  \n",
       "1  product arrive labeled jumbo salt peanut peanu...         18  \n",
       "2  confection around century light pillowy citrus...         40  \n",
       "3  look secret ingredient robitussin believe find...         18  \n",
       "4  great taffy great price wide assortment yummy ...         13  "
      ]
     },
     "execution_count": 86,
     "metadata": {},
     "output_type": "execute_result"
    }
   ],
   "source": [
    "df.head(5)"
   ]
  },
  {
   "cell_type": "code",
   "execution_count": null,
   "id": "8635804c-9865-485b-beef-a1a20bab9a52",
   "metadata": {},
   "outputs": [],
   "source": [
    "# Guardar el DataFrame como un archivo CSV\n",
    "df.to_csv('../data/reviews_clean.csv', index=False)"
   ]
  },
  {
   "cell_type": "markdown",
   "id": "a2c18640-bc2f-496f-8584-531c316af855",
   "metadata": {},
   "source": [
    "### 3. Sentiment Analysis"
   ]
  },
  {
   "cell_type": "markdown",
   "id": "0077d95d-4a5b-48f1-92f7-5510df83b7f4",
   "metadata": {},
   "source": [
    "https://www.kaggle.com/code/harits/amazon-reviews-sentiment-analysis"
   ]
  },
  {
   "cell_type": "markdown",
   "id": "fd1ef74e-de8a-4914-a38f-ac6bd721ea0a",
   "metadata": {},
   "source": [
    "#### OUTLIERS SENTIMENT ANALYSIS"
   ]
  },
  {
   "cell_type": "code",
   "execution_count": null,
   "id": "0244b9e9-8cc4-47cc-87db-2d69531c82b1",
   "metadata": {},
   "outputs": [],
   "source": [
    "# Box plot of sentiment grouped by stars\n",
    "df.boxplot(column='sentiment', by='stars') "
   ]
  },
  {
   "cell_type": "markdown",
   "id": "14a2d871-377d-4403-8ce2-fad7dcaa948f",
   "metadata": {},
   "source": [
    "#### Analysis of the most frequent words in the reviews"
   ]
  },
  {
   "cell_type": "markdown",
   "id": "d96211ce-a7c2-4174-8814-82268822ef6e",
   "metadata": {},
   "source": [
    "#### Visualise the most frequent words in positive and negative reviews."
   ]
  },
  {
   "cell_type": "markdown",
   "id": "29859c85-4abc-4323-b14b-b4289d0d5c59",
   "metadata": {},
   "source": [
    "#### Analysis of the length of the reviews."
   ]
  },
  {
   "cell_type": "code",
   "execution_count": 88,
   "id": "9577ed7c-1651-4b2e-b506-8bc7df67b617",
   "metadata": {},
   "outputs": [],
   "source": [
    "# Calculate the length of each review\n",
    "df['ReviewLength'] = df['Text'].apply(len)"
   ]
  },
  {
   "cell_type": "code",
   "execution_count": 89,
   "id": "d3e61d93-1f67-44dd-b4d7-ff5d448fc7e2",
   "metadata": {},
   "outputs": [
    {
     "data": {
      "text/html": [
       "<div>\n",
       "<style scoped>\n",
       "    .dataframe tbody tr th:only-of-type {\n",
       "        vertical-align: middle;\n",
       "    }\n",
       "\n",
       "    .dataframe tbody tr th {\n",
       "        vertical-align: top;\n",
       "    }\n",
       "\n",
       "    .dataframe thead th {\n",
       "        text-align: right;\n",
       "    }\n",
       "</style>\n",
       "<table border=\"1\" class=\"dataframe\">\n",
       "  <thead>\n",
       "    <tr style=\"text-align: right;\">\n",
       "      <th></th>\n",
       "      <th>ProductId</th>\n",
       "      <th>HelpfulnessNumerator</th>\n",
       "      <th>HelpfulnessDenominator</th>\n",
       "      <th>Score</th>\n",
       "      <th>Time</th>\n",
       "      <th>Summary</th>\n",
       "      <th>Text</th>\n",
       "      <th>DateTime</th>\n",
       "      <th>Year</th>\n",
       "      <th>Month</th>\n",
       "      <th>CleanText</th>\n",
       "      <th>TokenText</th>\n",
       "      <th>POSTagged</th>\n",
       "      <th>FinalText</th>\n",
       "      <th>WordCount</th>\n",
       "      <th>ReviewLength</th>\n",
       "    </tr>\n",
       "  </thead>\n",
       "  <tbody>\n",
       "    <tr>\n",
       "      <th>0</th>\n",
       "      <td>B001E4KFG0</td>\n",
       "      <td>1</td>\n",
       "      <td>1</td>\n",
       "      <td>5</td>\n",
       "      <td>1303862400</td>\n",
       "      <td>Good Quality Dog Food</td>\n",
       "      <td>I have bought several of the Vitality canned d...</td>\n",
       "      <td>2011-04-27 02:00:00</td>\n",
       "      <td>2011</td>\n",
       "      <td>4</td>\n",
       "      <td>i have bought several of the vitality canned d...</td>\n",
       "      <td>[bought, several, vitality, canned, dog, food,...</td>\n",
       "      <td>[(bought, v), (several, a), (vitality, n), (ca...</td>\n",
       "      <td>buy several vitality can dog food product find...</td>\n",
       "      <td>23</td>\n",
       "      <td>263</td>\n",
       "    </tr>\n",
       "    <tr>\n",
       "      <th>1</th>\n",
       "      <td>B00813GRG4</td>\n",
       "      <td>0</td>\n",
       "      <td>0</td>\n",
       "      <td>1</td>\n",
       "      <td>1346976000</td>\n",
       "      <td>Not as Advertised</td>\n",
       "      <td>Product arrived labeled as Jumbo Salted Peanut...</td>\n",
       "      <td>2012-09-07 02:00:00</td>\n",
       "      <td>2012</td>\n",
       "      <td>9</td>\n",
       "      <td>product arrived labeled as jumbo salted peanut...</td>\n",
       "      <td>[product, arrived, labeled, jumbo, salted, pea...</td>\n",
       "      <td>[(product, n), (arrived, v), (labeled, a), (ju...</td>\n",
       "      <td>product arrive labeled jumbo salt peanut peanu...</td>\n",
       "      <td>18</td>\n",
       "      <td>190</td>\n",
       "    </tr>\n",
       "    <tr>\n",
       "      <th>2</th>\n",
       "      <td>B000LQOCH0</td>\n",
       "      <td>1</td>\n",
       "      <td>1</td>\n",
       "      <td>4</td>\n",
       "      <td>1219017600</td>\n",
       "      <td>\"Delight\" says it all</td>\n",
       "      <td>This is a confection that has been around a fe...</td>\n",
       "      <td>2008-08-18 02:00:00</td>\n",
       "      <td>2008</td>\n",
       "      <td>8</td>\n",
       "      <td>this is a confection that has been around a fe...</td>\n",
       "      <td>[confection, around, centuries, light, pillowy...</td>\n",
       "      <td>[(confection, n), (around, None), (centuries, ...</td>\n",
       "      <td>confection around century light pillowy citrus...</td>\n",
       "      <td>40</td>\n",
       "      <td>509</td>\n",
       "    </tr>\n",
       "    <tr>\n",
       "      <th>3</th>\n",
       "      <td>B000UA0QIQ</td>\n",
       "      <td>3</td>\n",
       "      <td>3</td>\n",
       "      <td>2</td>\n",
       "      <td>1307923200</td>\n",
       "      <td>Cough Medicine</td>\n",
       "      <td>If you are looking for the secret ingredient i...</td>\n",
       "      <td>2011-06-13 02:00:00</td>\n",
       "      <td>2011</td>\n",
       "      <td>6</td>\n",
       "      <td>if you are looking for the secret ingredient i...</td>\n",
       "      <td>[looking, secret, ingredient, robitussin, beli...</td>\n",
       "      <td>[(looking, v), (secret, a), (ingredient, n), (...</td>\n",
       "      <td>look secret ingredient robitussin believe find...</td>\n",
       "      <td>18</td>\n",
       "      <td>219</td>\n",
       "    </tr>\n",
       "    <tr>\n",
       "      <th>4</th>\n",
       "      <td>B006K2ZZ7K</td>\n",
       "      <td>0</td>\n",
       "      <td>0</td>\n",
       "      <td>5</td>\n",
       "      <td>1350777600</td>\n",
       "      <td>Great taffy</td>\n",
       "      <td>Great taffy at a great price.  There was a wid...</td>\n",
       "      <td>2012-10-21 02:00:00</td>\n",
       "      <td>2012</td>\n",
       "      <td>10</td>\n",
       "      <td>great taffy at a great price. there was a wide...</td>\n",
       "      <td>[great, taffy, great, price, wide, assortment,...</td>\n",
       "      <td>[(great, a), (taffy, a), (great, a), (price, n...</td>\n",
       "      <td>great taffy great price wide assortment yummy ...</td>\n",
       "      <td>13</td>\n",
       "      <td>140</td>\n",
       "    </tr>\n",
       "    <tr>\n",
       "      <th>...</th>\n",
       "      <td>...</td>\n",
       "      <td>...</td>\n",
       "      <td>...</td>\n",
       "      <td>...</td>\n",
       "      <td>...</td>\n",
       "      <td>...</td>\n",
       "      <td>...</td>\n",
       "      <td>...</td>\n",
       "      <td>...</td>\n",
       "      <td>...</td>\n",
       "      <td>...</td>\n",
       "      <td>...</td>\n",
       "      <td>...</td>\n",
       "      <td>...</td>\n",
       "      <td>...</td>\n",
       "      <td>...</td>\n",
       "    </tr>\n",
       "    <tr>\n",
       "      <th>568449</th>\n",
       "      <td>B001EO7N10</td>\n",
       "      <td>0</td>\n",
       "      <td>0</td>\n",
       "      <td>5</td>\n",
       "      <td>1299628800</td>\n",
       "      <td>Will not do without</td>\n",
       "      <td>Great for sesame chicken..this is a good if no...</td>\n",
       "      <td>2011-03-09 01:00:00</td>\n",
       "      <td>2011</td>\n",
       "      <td>3</td>\n",
       "      <td>great for sesame chicken..this is a good if no...</td>\n",
       "      <td>[great, sesame, chicken, good, better, restura...</td>\n",
       "      <td>[(great, a), (sesame, n), (chicken, n), (good,...</td>\n",
       "      <td>great sesame chicken good good resturants eate...</td>\n",
       "      <td>12</td>\n",
       "      <td>149</td>\n",
       "    </tr>\n",
       "    <tr>\n",
       "      <th>568450</th>\n",
       "      <td>B003S1WTCU</td>\n",
       "      <td>0</td>\n",
       "      <td>0</td>\n",
       "      <td>2</td>\n",
       "      <td>1331251200</td>\n",
       "      <td>disappointed</td>\n",
       "      <td>I'm disappointed with the flavor. The chocolat...</td>\n",
       "      <td>2012-03-09 01:00:00</td>\n",
       "      <td>2012</td>\n",
       "      <td>3</td>\n",
       "      <td>i'm disappointed with the flavor. the chocolat...</td>\n",
       "      <td>[i'm, disappointed, flavor, chocolate, notes, ...</td>\n",
       "      <td>[(i'm, n), (disappointed, v), (flavor, n), (ch...</td>\n",
       "      <td>i'm disappoint flavor chocolate note especiall...</td>\n",
       "      <td>25</td>\n",
       "      <td>252</td>\n",
       "    </tr>\n",
       "    <tr>\n",
       "      <th>568451</th>\n",
       "      <td>B004I613EE</td>\n",
       "      <td>2</td>\n",
       "      <td>2</td>\n",
       "      <td>5</td>\n",
       "      <td>1329782400</td>\n",
       "      <td>Perfect for our maltipoo</td>\n",
       "      <td>These stars are small, so you can give 10-15 o...</td>\n",
       "      <td>2012-02-21 01:00:00</td>\n",
       "      <td>2012</td>\n",
       "      <td>2</td>\n",
       "      <td>these stars are small, so you can give - of th...</td>\n",
       "      <td>[stars, small, give, one, training, session, t...</td>\n",
       "      <td>[(stars, n), (small, a), (give, v), (one, None...</td>\n",
       "      <td>star small give one training session try train...</td>\n",
       "      <td>37</td>\n",
       "      <td>372</td>\n",
       "    </tr>\n",
       "    <tr>\n",
       "      <th>568452</th>\n",
       "      <td>B004I613EE</td>\n",
       "      <td>1</td>\n",
       "      <td>1</td>\n",
       "      <td>5</td>\n",
       "      <td>1331596800</td>\n",
       "      <td>Favorite Training and reward treat</td>\n",
       "      <td>These are the BEST treats for training and rew...</td>\n",
       "      <td>2012-03-13 01:00:00</td>\n",
       "      <td>2012</td>\n",
       "      <td>3</td>\n",
       "      <td>these are the best treats for training and rew...</td>\n",
       "      <td>[best, treats, training, rewarding, dog, good,...</td>\n",
       "      <td>[(best, a), (treats, n), (training, v), (rewar...</td>\n",
       "      <td>best treat train reward dog good groom low cal...</td>\n",
       "      <td>18</td>\n",
       "      <td>200</td>\n",
       "    </tr>\n",
       "    <tr>\n",
       "      <th>568453</th>\n",
       "      <td>B001LR2CU2</td>\n",
       "      <td>0</td>\n",
       "      <td>0</td>\n",
       "      <td>5</td>\n",
       "      <td>1338422400</td>\n",
       "      <td>Great Honey</td>\n",
       "      <td>I am very satisfied ,product is as advertised,...</td>\n",
       "      <td>2012-05-31 02:00:00</td>\n",
       "      <td>2012</td>\n",
       "      <td>5</td>\n",
       "      <td>i am very satisfied ,product is as advertised,...</td>\n",
       "      <td>[satisfied, product, advertised, use, cereal, ...</td>\n",
       "      <td>[(satisfied, a), (product, n), (advertised, v)...</td>\n",
       "      <td>satisfied product advertise use cereal raw vin...</td>\n",
       "      <td>9</td>\n",
       "      <td>111</td>\n",
       "    </tr>\n",
       "  </tbody>\n",
       "</table>\n",
       "<p>393924 rows × 16 columns</p>\n",
       "</div>"
      ],
      "text/plain": [
       "         ProductId  HelpfulnessNumerator  HelpfulnessDenominator  Score  \\\n",
       "0       B001E4KFG0                     1                       1      5   \n",
       "1       B00813GRG4                     0                       0      1   \n",
       "2       B000LQOCH0                     1                       1      4   \n",
       "3       B000UA0QIQ                     3                       3      2   \n",
       "4       B006K2ZZ7K                     0                       0      5   \n",
       "...            ...                   ...                     ...    ...   \n",
       "568449  B001EO7N10                     0                       0      5   \n",
       "568450  B003S1WTCU                     0                       0      2   \n",
       "568451  B004I613EE                     2                       2      5   \n",
       "568452  B004I613EE                     1                       1      5   \n",
       "568453  B001LR2CU2                     0                       0      5   \n",
       "\n",
       "              Time                             Summary  \\\n",
       "0       1303862400               Good Quality Dog Food   \n",
       "1       1346976000                   Not as Advertised   \n",
       "2       1219017600               \"Delight\" says it all   \n",
       "3       1307923200                      Cough Medicine   \n",
       "4       1350777600                         Great taffy   \n",
       "...            ...                                 ...   \n",
       "568449  1299628800                 Will not do without   \n",
       "568450  1331251200                        disappointed   \n",
       "568451  1329782400            Perfect for our maltipoo   \n",
       "568452  1331596800  Favorite Training and reward treat   \n",
       "568453  1338422400                         Great Honey   \n",
       "\n",
       "                                                     Text            DateTime  \\\n",
       "0       I have bought several of the Vitality canned d... 2011-04-27 02:00:00   \n",
       "1       Product arrived labeled as Jumbo Salted Peanut... 2012-09-07 02:00:00   \n",
       "2       This is a confection that has been around a fe... 2008-08-18 02:00:00   \n",
       "3       If you are looking for the secret ingredient i... 2011-06-13 02:00:00   \n",
       "4       Great taffy at a great price.  There was a wid... 2012-10-21 02:00:00   \n",
       "...                                                   ...                 ...   \n",
       "568449  Great for sesame chicken..this is a good if no... 2011-03-09 01:00:00   \n",
       "568450  I'm disappointed with the flavor. The chocolat... 2012-03-09 01:00:00   \n",
       "568451  These stars are small, so you can give 10-15 o... 2012-02-21 01:00:00   \n",
       "568452  These are the BEST treats for training and rew... 2012-03-13 01:00:00   \n",
       "568453  I am very satisfied ,product is as advertised,... 2012-05-31 02:00:00   \n",
       "\n",
       "        Year  Month                                          CleanText  \\\n",
       "0       2011      4  i have bought several of the vitality canned d...   \n",
       "1       2012      9  product arrived labeled as jumbo salted peanut...   \n",
       "2       2008      8  this is a confection that has been around a fe...   \n",
       "3       2011      6  if you are looking for the secret ingredient i...   \n",
       "4       2012     10  great taffy at a great price. there was a wide...   \n",
       "...      ...    ...                                                ...   \n",
       "568449  2011      3  great for sesame chicken..this is a good if no...   \n",
       "568450  2012      3  i'm disappointed with the flavor. the chocolat...   \n",
       "568451  2012      2  these stars are small, so you can give - of th...   \n",
       "568452  2012      3  these are the best treats for training and rew...   \n",
       "568453  2012      5  i am very satisfied ,product is as advertised,...   \n",
       "\n",
       "                                                TokenText  \\\n",
       "0       [bought, several, vitality, canned, dog, food,...   \n",
       "1       [product, arrived, labeled, jumbo, salted, pea...   \n",
       "2       [confection, around, centuries, light, pillowy...   \n",
       "3       [looking, secret, ingredient, robitussin, beli...   \n",
       "4       [great, taffy, great, price, wide, assortment,...   \n",
       "...                                                   ...   \n",
       "568449  [great, sesame, chicken, good, better, restura...   \n",
       "568450  [i'm, disappointed, flavor, chocolate, notes, ...   \n",
       "568451  [stars, small, give, one, training, session, t...   \n",
       "568452  [best, treats, training, rewarding, dog, good,...   \n",
       "568453  [satisfied, product, advertised, use, cereal, ...   \n",
       "\n",
       "                                                POSTagged  \\\n",
       "0       [(bought, v), (several, a), (vitality, n), (ca...   \n",
       "1       [(product, n), (arrived, v), (labeled, a), (ju...   \n",
       "2       [(confection, n), (around, None), (centuries, ...   \n",
       "3       [(looking, v), (secret, a), (ingredient, n), (...   \n",
       "4       [(great, a), (taffy, a), (great, a), (price, n...   \n",
       "...                                                   ...   \n",
       "568449  [(great, a), (sesame, n), (chicken, n), (good,...   \n",
       "568450  [(i'm, n), (disappointed, v), (flavor, n), (ch...   \n",
       "568451  [(stars, n), (small, a), (give, v), (one, None...   \n",
       "568452  [(best, a), (treats, n), (training, v), (rewar...   \n",
       "568453  [(satisfied, a), (product, n), (advertised, v)...   \n",
       "\n",
       "                                                FinalText  WordCount  \\\n",
       "0       buy several vitality can dog food product find...         23   \n",
       "1       product arrive labeled jumbo salt peanut peanu...         18   \n",
       "2       confection around century light pillowy citrus...         40   \n",
       "3       look secret ingredient robitussin believe find...         18   \n",
       "4       great taffy great price wide assortment yummy ...         13   \n",
       "...                                                   ...        ...   \n",
       "568449  great sesame chicken good good resturants eate...         12   \n",
       "568450  i'm disappoint flavor chocolate note especiall...         25   \n",
       "568451  star small give one training session try train...         37   \n",
       "568452  best treat train reward dog good groom low cal...         18   \n",
       "568453  satisfied product advertise use cereal raw vin...          9   \n",
       "\n",
       "        ReviewLength  \n",
       "0                263  \n",
       "1                190  \n",
       "2                509  \n",
       "3                219  \n",
       "4                140  \n",
       "...              ...  \n",
       "568449           149  \n",
       "568450           252  \n",
       "568451           372  \n",
       "568452           200  \n",
       "568453           111  \n",
       "\n",
       "[393924 rows x 16 columns]"
      ]
     },
     "execution_count": 89,
     "metadata": {},
     "output_type": "execute_result"
    }
   ],
   "source": [
    "df"
   ]
  },
  {
   "cell_type": "code",
   "execution_count": 90,
   "id": "65383249-e24b-449f-961a-1f4a0cdffc69",
   "metadata": {},
   "outputs": [],
   "source": [
    "#!pip install seaborn"
   ]
  },
  {
   "cell_type": "code",
   "execution_count": 91,
   "id": "afbe3f63-3ebd-4fd1-9924-0492903c7e33",
   "metadata": {},
   "outputs": [],
   "source": [
    "import seaborn as sns"
   ]
  },
  {
   "cell_type": "code",
   "execution_count": 92,
   "id": "2c18a6c8-98d6-459d-baa5-01f9add6086c",
   "metadata": {},
   "outputs": [
    {
     "data": {
      "image/png": "[encoded data removed]",
      "text/plain": [
       "<Figure size 640x480 with 1 Axes>"
      ]
     },
     "metadata": {},
     "output_type": "display_data"
    }
   ],
   "source": [
    "sns.histplot(df['ReviewLength'], bins=30) \n",
    "ax.set_title('Distribution of Review Lengths')\n",
    "\n",
    "# Save the plot\n",
    "plt.savefig('../reports/images/review_lenghts_distribution.png')"
   ]
  },
  {
   "cell_type": "markdown",
   "id": "0071a2e5-774b-42a4-8f91-fbb1671ab758",
   "metadata": {},
   "source": [
    "#### Display the relationship between review length and score."
   ]
  },
  {
   "cell_type": "code",
   "execution_count": 93,
   "id": "1cec2332-4dc4-4dc7-9cff-52d83c72d139",
   "metadata": {},
   "outputs": [],
   "source": [
    "# Calculate the length of each review\n",
    "df['ReviewLength'] = df['Text'].apply(len)"
   ]
  },
  {
   "cell_type": "code",
   "execution_count": 94,
   "id": "3c43531b-a799-4218-9edc-42f97b2e90ff",
   "metadata": {},
   "outputs": [
    {
     "data": {
      "image/png": "[encoded data removed]",
      "text/plain": [
       "<Figure size 1000x600 with 1 Axes>"
      ]
     },
     "metadata": {},
     "output_type": "display_data"
    }
   ],
   "source": [
    " # Create a scatterplot\n",
    "plt.figure(figsize=(10, 6))\n",
    "plt.scatter(df['ReviewLength'], df['Score'], alpha=0.5)\n",
    "plt.title('Scatterplot of Review Length vs. Score')\n",
    "plt.xlabel('Review Length (Number of Characters)')\n",
    "plt.ylabel('Score')\n",
    "plt.grid(True)\n",
    "\n",
    "# Save the plot\n",
    "plt.savefig('../reports/images/review_lenghts_text_score.png')\n",
    "\n",
    "plt.show()"
   ]
  },
  {
   "cell_type": "markdown",
   "id": "de59c0b3-abec-48ed-bbdf-18184309236e",
   "metadata": {},
   "source": [
    "### 4. Deep Learning with TensorFlow/Keras"
   ]
  },
  {
   "cell_type": "markdown",
   "id": "7af34ecc-3434-4ad9-9e3a-9bf43b470754",
   "metadata": {},
   "source": []
  },
  {
   "cell_type": "markdown",
   "id": "2da0defd-00d0-421a-9212-5980eb917f8e",
   "metadata": {},
   "source": [
    "https://www.kaggle.com/code/raman007/amazon-finefood-sentiment-classification-using-knn"
   ]
  },
  {
   "cell_type": "markdown",
   "id": "4a699f4c-64f8-4495-bbc2-71122f4d8014",
   "metadata": {},
   "source": [
    "#### Matrix confusion to see the correlation"
   ]
  },
  {
   "cell_type": "markdown",
   "id": "05ae65b6-4926-4270-bdf9-a05e5bc52954",
   "metadata": {},
   "source": [
    "#### Grid Search --> try all methods ML"
   ]
  },
  {
   "cell_type": "markdown",
   "id": "8615794a-2e1c-480c-9163-99a94ae64778",
   "metadata": {},
   "source": [
    "#### See all metrics"
   ]
  },
  {
   "cell_type": "markdown",
   "id": "fac5e2ea-da23-4013-aabb-97f5c509f6ee",
   "metadata": {},
   "source": [
    "### 5. Parameter Tuning"
   ]
  },
  {
   "cell_type": "markdown",
   "id": "9eb49807-b5a7-446e-9c8e-93d3a68a4b93",
   "metadata": {},
   "source": [
    "#### Grid Search"
   ]
  },
  {
   "cell_type": "markdown",
   "id": "36e58cef-7ea4-4275-9e63-3b9171e41e91",
   "metadata": {},
   "source": []
  },
  {
   "cell_type": "markdown",
   "id": "e57fb91f-88c2-401e-8f59-699a2ed5a7ef",
   "metadata": {},
   "source": [
    "### 6. Integration with Azure ML"
   ]
  },
  {
   "cell_type": "markdown",
   "id": "6042c735-2b0b-460d-bb4f-03d25752d41e",
   "metadata": {},
   "source": []
  },
  {
   "cell_type": "markdown",
   "id": "663629c6-a406-4d88-81c3-471e0ffdca0b",
   "metadata": {},
   "source": []
  },
  {
   "cell_type": "markdown",
   "id": "31a06049-4436-4c1b-bfd5-8472f7dccf0e",
   "metadata": {},
   "source": [
    "### 7. Model Evaluation and Interpretation"
   ]
  },
  {
   "cell_type": "markdown",
   "id": "8143ac4f-d968-44f7-8fdc-7bf53c998823",
   "metadata": {},
   "source": []
  },
  {
   "cell_type": "markdown",
   "id": "cf4ea356-0f29-4a7b-893e-53a4285c5e22",
   "metadata": {},
   "source": []
  },
  {
   "cell_type": "markdown",
   "id": "4370eb06-e9cf-4a4d-9335-4f47147f59e8",
   "metadata": {},
   "source": [
    "### 8. Visualization with Python's Data Visualization Libraries"
   ]
  },
  {
   "cell_type": "markdown",
   "id": "9f8563ec-33a8-44b6-b066-06b214d6d012",
   "metadata": {},
   "source": []
  },
  {
   "cell_type": "markdown",
   "id": "d842f4d2-aa70-493f-850e-b15529ac5ffd",
   "metadata": {},
   "source": []
  }
 ],
 "metadata": {
  "kernelspec": {
   "display_name": "Python 3 (ipykernel)",
   "language": "python",
   "name": "python3"
  },
  "language_info": {
   "codemirror_mode": {
    "name": "ipython",
    "version": 3
   },
   "file_extension": ".py",
   "mimetype": "text/x-python",
   "name": "python",
   "nbconvert_exporter": "python",
   "pygments_lexer": "ipython3",
   "version": "3.8.0"
  }
 },
 "nbformat": 4,
 "nbformat_minor": 5
}
