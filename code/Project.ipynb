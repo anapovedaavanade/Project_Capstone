{
 "cells": [
  {
   "cell_type": "markdown",
   "id": "0123e99e-c075-4cb8-be73-7197d4de79bb",
   "metadata": {},
   "source": [
    "https://github.com/arunm8489/Amazon_Fine_Food_Reviews-sentiment_analysis/blob/master/Notebooks/4.%20Logistic_regression.ipynb"
   ]
  },
  {
   "cell_type": "markdown",
   "id": "199fc425-048b-4fa9-a2a3-adc796c7b864",
   "metadata": {},
   "source": [
    "https://towardsdatascience.com/sentiment-analysis-on-amazon-food-reviews-from-eda-to-deployment-f985c417b0c"
   ]
  },
  {
   "cell_type": "markdown",
   "id": "0a036018-0067-4203-b50b-104130976e14",
   "metadata": {},
   "source": [
    "https://www.kaggle.com/code/poonaml/text-classification-using-spacy"
   ]
  },
  {
   "cell_type": "markdown",
   "id": "0e9a6d1f-7331-4bb5-aa6e-7804cf9bf52d",
   "metadata": {},
   "source": [
    "https://www.kaggle.com/code/elshatakmaev/review-classification-using-pytorch"
   ]
  },
  {
   "cell_type": "markdown",
   "id": "67cb97af-132d-4906-85dc-447087fafb60",
   "metadata": {},
   "source": [
    "#### Dependencies"
   ]
  },
  {
   "cell_type": "code",
   "execution_count": null,
   "id": "81557fd4-d7be-4dc1-b5f8-f7210bcbdbfe",
   "metadata": {},
   "outputs": [],
   "source": []
  },
  {
   "cell_type": "markdown",
   "id": "23027998-5fb3-4b44-9fa3-28996f7de01f",
   "metadata": {},
   "source": []
  },
  {
   "cell_type": "markdown",
   "id": "f96c9d9a-21f6-4477-a906-8e5eaef8759c",
   "metadata": {},
   "source": [
    "###  1. Data Processing"
   ]
  },
  {
   "cell_type": "markdown",
   "id": "16efd7e9-31dc-4761-82dd-e6e1ea43e842",
   "metadata": {},
   "source": [
    "#### Show DataFrame"
   ]
  },
  {
   "cell_type": "code",
   "execution_count": 6,
   "id": "3cdf77be-3d17-4698-a678-da2660514708",
   "metadata": {},
   "outputs": [],
   "source": [
    "import numpy as np\n",
    "import pandas as pd\n",
    "import os"
   ]
  },
  {
   "cell_type": "code",
   "execution_count": 8,
   "id": "ac1ee93f-f99c-42f6-96fa-91c57086bcd5",
   "metadata": {},
   "outputs": [],
   "source": [
    "#!pip install numpy==1.21.2"
   ]
  },
  {
   "cell_type": "code",
   "execution_count": 7,
   "id": "f84b843b-53d7-40e1-894a-16e4dfd47fa3",
   "metadata": {},
   "outputs": [],
   "source": [
    "#!pip install pandas"
   ]
  },
  {
   "cell_type": "code",
   "execution_count": 90,
   "id": "bfa961db-c4f4-4511-9475-9c42d8591a01",
   "metadata": {},
   "outputs": [],
   "source": [
    "df = pd.read_csv('../data/amazon_fine_food_reviews.csv')"
   ]
  },
  {
   "cell_type": "code",
   "execution_count": 62,
   "id": "656d05d6-cad7-4e5a-ac51-5017144ac3b3",
   "metadata": {},
   "outputs": [
    {
     "data": {
      "text/html": [
       "<div>\n",
       "<style scoped>\n",
       "    .dataframe tbody tr th:only-of-type {\n",
       "        vertical-align: middle;\n",
       "    }\n",
       "\n",
       "    .dataframe tbody tr th {\n",
       "        vertical-align: top;\n",
       "    }\n",
       "\n",
       "    .dataframe thead th {\n",
       "        text-align: right;\n",
       "    }\n",
       "</style>\n",
       "<table border=\"1\" class=\"dataframe\">\n",
       "  <thead>\n",
       "    <tr style=\"text-align: right;\">\n",
       "      <th></th>\n",
       "      <th>Id</th>\n",
       "      <th>ProductId</th>\n",
       "      <th>UserId</th>\n",
       "      <th>ProfileName</th>\n",
       "      <th>HelpfulnessNumerator</th>\n",
       "      <th>HelpfulnessDenominator</th>\n",
       "      <th>Score</th>\n",
       "      <th>Time</th>\n",
       "      <th>Summary</th>\n",
       "      <th>Text</th>\n",
       "    </tr>\n",
       "  </thead>\n",
       "  <tbody>\n",
       "    <tr>\n",
       "      <th>0</th>\n",
       "      <td>1</td>\n",
       "      <td>B001E4KFG0</td>\n",
       "      <td>A3SGXH7AUHU8GW</td>\n",
       "      <td>delmartian</td>\n",
       "      <td>1</td>\n",
       "      <td>1</td>\n",
       "      <td>5</td>\n",
       "      <td>1303862400</td>\n",
       "      <td>Good Quality Dog Food</td>\n",
       "      <td>I have bought several of the Vitality canned d...</td>\n",
       "    </tr>\n",
       "    <tr>\n",
       "      <th>1</th>\n",
       "      <td>2</td>\n",
       "      <td>B00813GRG4</td>\n",
       "      <td>A1D87F6ZCVE5NK</td>\n",
       "      <td>dll pa</td>\n",
       "      <td>0</td>\n",
       "      <td>0</td>\n",
       "      <td>1</td>\n",
       "      <td>1346976000</td>\n",
       "      <td>Not as Advertised</td>\n",
       "      <td>Product arrived labeled as Jumbo Salted Peanut...</td>\n",
       "    </tr>\n",
       "    <tr>\n",
       "      <th>2</th>\n",
       "      <td>3</td>\n",
       "      <td>B000LQOCH0</td>\n",
       "      <td>ABXLMWJIXXAIN</td>\n",
       "      <td>Natalia Corres \"Natalia Corres\"</td>\n",
       "      <td>1</td>\n",
       "      <td>1</td>\n",
       "      <td>4</td>\n",
       "      <td>1219017600</td>\n",
       "      <td>\"Delight\" says it all</td>\n",
       "      <td>This is a confection that has been around a fe...</td>\n",
       "    </tr>\n",
       "    <tr>\n",
       "      <th>3</th>\n",
       "      <td>4</td>\n",
       "      <td>B000UA0QIQ</td>\n",
       "      <td>A395BORC6FGVXV</td>\n",
       "      <td>Karl</td>\n",
       "      <td>3</td>\n",
       "      <td>3</td>\n",
       "      <td>2</td>\n",
       "      <td>1307923200</td>\n",
       "      <td>Cough Medicine</td>\n",
       "      <td>If you are looking for the secret ingredient i...</td>\n",
       "    </tr>\n",
       "    <tr>\n",
       "      <th>4</th>\n",
       "      <td>5</td>\n",
       "      <td>B006K2ZZ7K</td>\n",
       "      <td>A1UQRSCLF8GW1T</td>\n",
       "      <td>Michael D. Bigham \"M. Wassir\"</td>\n",
       "      <td>0</td>\n",
       "      <td>0</td>\n",
       "      <td>5</td>\n",
       "      <td>1350777600</td>\n",
       "      <td>Great taffy</td>\n",
       "      <td>Great taffy at a great price.  There was a wid...</td>\n",
       "    </tr>\n",
       "  </tbody>\n",
       "</table>\n",
       "</div>"
      ],
      "text/plain": [
       "   Id   ProductId          UserId                      ProfileName  \\\n",
       "0   1  B001E4KFG0  A3SGXH7AUHU8GW                       delmartian   \n",
       "1   2  B00813GRG4  A1D87F6ZCVE5NK                           dll pa   \n",
       "2   3  B000LQOCH0   ABXLMWJIXXAIN  Natalia Corres \"Natalia Corres\"   \n",
       "3   4  B000UA0QIQ  A395BORC6FGVXV                             Karl   \n",
       "4   5  B006K2ZZ7K  A1UQRSCLF8GW1T    Michael D. Bigham \"M. Wassir\"   \n",
       "\n",
       "   HelpfulnessNumerator  HelpfulnessDenominator  Score        Time  \\\n",
       "0                     1                       1      5  1303862400   \n",
       "1                     0                       0      1  1346976000   \n",
       "2                     1                       1      4  1219017600   \n",
       "3                     3                       3      2  1307923200   \n",
       "4                     0                       0      5  1350777600   \n",
       "\n",
       "                 Summary                                               Text  \n",
       "0  Good Quality Dog Food  I have bought several of the Vitality canned d...  \n",
       "1      Not as Advertised  Product arrived labeled as Jumbo Salted Peanut...  \n",
       "2  \"Delight\" says it all  This is a confection that has been around a fe...  \n",
       "3         Cough Medicine  If you are looking for the secret ingredient i...  \n",
       "4            Great taffy  Great taffy at a great price.  There was a wid...  "
      ]
     },
     "execution_count": 62,
     "metadata": {},
     "output_type": "execute_result"
    }
   ],
   "source": [
    "df.head(5)"
   ]
  },
  {
   "cell_type": "code",
   "execution_count": 50,
   "id": "f4f6735f-5122-45dd-8b9b-48abd91051fc",
   "metadata": {},
   "outputs": [
    {
     "name": "stdout",
     "output_type": "stream",
     "text": [
      "<class 'pandas.core.frame.DataFrame'>\n",
      "RangeIndex: 568454 entries, 0 to 568453\n",
      "Data columns (total 10 columns):\n",
      " #   Column                  Non-Null Count   Dtype \n",
      "---  ------                  --------------   ----- \n",
      " 0   Id                      568454 non-null  int64 \n",
      " 1   ProductId               568454 non-null  object\n",
      " 2   UserId                  568454 non-null  object\n",
      " 3   ProfileName             568428 non-null  object\n",
      " 4   HelpfulnessNumerator    568454 non-null  int64 \n",
      " 5   HelpfulnessDenominator  568454 non-null  int64 \n",
      " 6   Score                   568454 non-null  int64 \n",
      " 7   Time                    568454 non-null  int64 \n",
      " 8   Summary                 568427 non-null  object\n",
      " 9   Text                    568454 non-null  object\n",
      "dtypes: int64(5), object(5)\n",
      "memory usage: 43.4+ MB\n"
     ]
    }
   ],
   "source": [
    "df.info()"
   ]
  },
  {
   "cell_type": "code",
   "execution_count": 63,
   "id": "9c3f54e1-18ca-430f-9547-a5cd42007ec9",
   "metadata": {},
   "outputs": [
    {
     "data": {
      "text/plain": [
       "(568454, 10)"
      ]
     },
     "execution_count": 63,
     "metadata": {},
     "output_type": "execute_result"
    }
   ],
   "source": [
    "df.shape"
   ]
  },
  {
   "cell_type": "markdown",
   "id": "186c4247-9430-45cc-84e5-1592891a3f57",
   "metadata": {},
   "source": [
    "#### Data Cleaning"
   ]
  },
  {
   "cell_type": "markdown",
   "id": "b3ff276b-be19-453c-909f-cdc761391402",
   "metadata": {},
   "source": [
    "##### Remove Nan"
   ]
  },
  {
   "cell_type": "code",
   "execution_count": 91,
   "id": "8f2df8ea-1aed-4fd0-9164-829b24ce6aa4",
   "metadata": {},
   "outputs": [
    {
     "data": {
      "text/plain": [
       "27"
      ]
     },
     "execution_count": 91,
     "metadata": {},
     "output_type": "execute_result"
    }
   ],
   "source": [
    "df.Summary.isnull().sum()"
   ]
  },
  {
   "cell_type": "code",
   "execution_count": 92,
   "id": "0961d863-4047-48cc-91ad-e229705d4139",
   "metadata": {},
   "outputs": [],
   "source": [
    "df.dropna(subset=['Summary'], inplace=True)"
   ]
  },
  {
   "cell_type": "code",
   "execution_count": 93,
   "id": "c8a7a6d4-9fe2-4259-9d58-c8d171cb8d8f",
   "metadata": {},
   "outputs": [
    {
     "data": {
      "text/plain": [
       "0"
      ]
     },
     "execution_count": 93,
     "metadata": {},
     "output_type": "execute_result"
    }
   ],
   "source": [
    "df.Summary.isnull().sum()"
   ]
  },
  {
   "cell_type": "code",
   "execution_count": 94,
   "id": "99163495-3b99-43b9-9f22-02ca0faab09c",
   "metadata": {},
   "outputs": [
    {
     "name": "stdout",
     "output_type": "stream",
     "text": [
      "<class 'pandas.core.frame.DataFrame'>\n",
      "Index: 568427 entries, 0 to 568453\n",
      "Data columns (total 10 columns):\n",
      " #   Column                  Non-Null Count   Dtype \n",
      "---  ------                  --------------   ----- \n",
      " 0   Id                      568427 non-null  int64 \n",
      " 1   ProductId               568427 non-null  object\n",
      " 2   UserId                  568427 non-null  object\n",
      " 3   ProfileName             568401 non-null  object\n",
      " 4   HelpfulnessNumerator    568427 non-null  int64 \n",
      " 5   HelpfulnessDenominator  568427 non-null  int64 \n",
      " 6   Score                   568427 non-null  int64 \n",
      " 7   Time                    568427 non-null  int64 \n",
      " 8   Summary                 568427 non-null  object\n",
      " 9   Text                    568427 non-null  object\n",
      "dtypes: int64(5), object(5)\n",
      "memory usage: 47.7+ MB\n"
     ]
    }
   ],
   "source": [
    "df.info()"
   ]
  },
  {
   "cell_type": "code",
   "execution_count": 95,
   "id": "2bda2da3-3646-45ae-9e36-ea64034d227f",
   "metadata": {},
   "outputs": [
    {
     "data": {
      "text/plain": [
       "(568427, 10)"
      ]
     },
     "execution_count": 95,
     "metadata": {},
     "output_type": "execute_result"
    }
   ],
   "source": [
    "df.shape"
   ]
  },
  {
   "cell_type": "markdown",
   "id": "e1cb8dda-abcc-453f-9488-b97fc503fdb5",
   "metadata": {},
   "source": [
    "##### Deduplication"
   ]
  },
  {
   "cell_type": "code",
   "execution_count": 96,
   "id": "190548da-5b30-40de-b139-0d209a386744",
   "metadata": {},
   "outputs": [],
   "source": [
    "df.drop_duplicates(subset=['UserId','ProfileName','Time','Text'], keep='first',inplace=True)"
   ]
  },
  {
   "cell_type": "code",
   "execution_count": 97,
   "id": "1fcb84b2-3ed7-4013-bfdf-c75f7a973d6f",
   "metadata": {},
   "outputs": [
    {
     "data": {
      "text/plain": [
       "(393930, 10)"
      ]
     },
     "execution_count": 97,
     "metadata": {},
     "output_type": "execute_result"
    }
   ],
   "source": [
    "df.shape"
   ]
  },
  {
   "cell_type": "markdown",
   "id": "3b485fd2-4a47-47fd-a447-ac44501b157a",
   "metadata": {},
   "source": [
    "##### Remove colums without useful information"
   ]
  },
  {
   "cell_type": "code",
   "execution_count": 98,
   "id": "efd97729-3e36-4557-8723-db9566c66905",
   "metadata": {},
   "outputs": [],
   "source": [
    "df.drop(['Id','UserId','ProfileName'], axis=1, inplace=True)"
   ]
  },
  {
   "cell_type": "code",
   "execution_count": 99,
   "id": "524d8c4d-a5a0-4cad-8c9c-785777a4fab5",
   "metadata": {},
   "outputs": [
    {
     "data": {
      "text/plain": [
       "(393930, 7)"
      ]
     },
     "execution_count": 99,
     "metadata": {},
     "output_type": "execute_result"
    }
   ],
   "source": [
    "df.shape"
   ]
  },
  {
   "cell_type": "code",
   "execution_count": 100,
   "id": "dadadbb9-cae2-4c7b-bff3-cd26843a5bb3",
   "metadata": {},
   "outputs": [
    {
     "data": {
      "text/html": [
       "<div>\n",
       "<style scoped>\n",
       "    .dataframe tbody tr th:only-of-type {\n",
       "        vertical-align: middle;\n",
       "    }\n",
       "\n",
       "    .dataframe tbody tr th {\n",
       "        vertical-align: top;\n",
       "    }\n",
       "\n",
       "    .dataframe thead th {\n",
       "        text-align: right;\n",
       "    }\n",
       "</style>\n",
       "<table border=\"1\" class=\"dataframe\">\n",
       "  <thead>\n",
       "    <tr style=\"text-align: right;\">\n",
       "      <th></th>\n",
       "      <th>ProductId</th>\n",
       "      <th>HelpfulnessNumerator</th>\n",
       "      <th>HelpfulnessDenominator</th>\n",
       "      <th>Score</th>\n",
       "      <th>Time</th>\n",
       "      <th>Summary</th>\n",
       "      <th>Text</th>\n",
       "    </tr>\n",
       "  </thead>\n",
       "  <tbody>\n",
       "    <tr>\n",
       "      <th>0</th>\n",
       "      <td>B001E4KFG0</td>\n",
       "      <td>1</td>\n",
       "      <td>1</td>\n",
       "      <td>5</td>\n",
       "      <td>1303862400</td>\n",
       "      <td>Good Quality Dog Food</td>\n",
       "      <td>I have bought several of the Vitality canned d...</td>\n",
       "    </tr>\n",
       "    <tr>\n",
       "      <th>1</th>\n",
       "      <td>B00813GRG4</td>\n",
       "      <td>0</td>\n",
       "      <td>0</td>\n",
       "      <td>1</td>\n",
       "      <td>1346976000</td>\n",
       "      <td>Not as Advertised</td>\n",
       "      <td>Product arrived labeled as Jumbo Salted Peanut...</td>\n",
       "    </tr>\n",
       "    <tr>\n",
       "      <th>2</th>\n",
       "      <td>B000LQOCH0</td>\n",
       "      <td>1</td>\n",
       "      <td>1</td>\n",
       "      <td>4</td>\n",
       "      <td>1219017600</td>\n",
       "      <td>\"Delight\" says it all</td>\n",
       "      <td>This is a confection that has been around a fe...</td>\n",
       "    </tr>\n",
       "    <tr>\n",
       "      <th>3</th>\n",
       "      <td>B000UA0QIQ</td>\n",
       "      <td>3</td>\n",
       "      <td>3</td>\n",
       "      <td>2</td>\n",
       "      <td>1307923200</td>\n",
       "      <td>Cough Medicine</td>\n",
       "      <td>If you are looking for the secret ingredient i...</td>\n",
       "    </tr>\n",
       "    <tr>\n",
       "      <th>4</th>\n",
       "      <td>B006K2ZZ7K</td>\n",
       "      <td>0</td>\n",
       "      <td>0</td>\n",
       "      <td>5</td>\n",
       "      <td>1350777600</td>\n",
       "      <td>Great taffy</td>\n",
       "      <td>Great taffy at a great price.  There was a wid...</td>\n",
       "    </tr>\n",
       "  </tbody>\n",
       "</table>\n",
       "</div>"
      ],
      "text/plain": [
       "    ProductId  HelpfulnessNumerator  HelpfulnessDenominator  Score  \\\n",
       "0  B001E4KFG0                     1                       1      5   \n",
       "1  B00813GRG4                     0                       0      1   \n",
       "2  B000LQOCH0                     1                       1      4   \n",
       "3  B000UA0QIQ                     3                       3      2   \n",
       "4  B006K2ZZ7K                     0                       0      5   \n",
       "\n",
       "         Time                Summary  \\\n",
       "0  1303862400  Good Quality Dog Food   \n",
       "1  1346976000      Not as Advertised   \n",
       "2  1219017600  \"Delight\" says it all   \n",
       "3  1307923200         Cough Medicine   \n",
       "4  1350777600            Great taffy   \n",
       "\n",
       "                                                Text  \n",
       "0  I have bought several of the Vitality canned d...  \n",
       "1  Product arrived labeled as Jumbo Salted Peanut...  \n",
       "2  This is a confection that has been around a fe...  \n",
       "3  If you are looking for the secret ingredient i...  \n",
       "4  Great taffy at a great price.  There was a wid...  "
      ]
     },
     "execution_count": 100,
     "metadata": {},
     "output_type": "execute_result"
    }
   ],
   "source": [
    "df.head(5)"
   ]
  },
  {
   "cell_type": "markdown",
   "id": "4cd175e9-479d-404d-ae3e-24f0134cc505",
   "metadata": {},
   "source": [
    "##### Transform time format and add new column"
   ]
  },
  {
   "cell_type": "code",
   "execution_count": 101,
   "id": "ca2c5e90-4b97-46b0-bdf0-573bf556c9fb",
   "metadata": {},
   "outputs": [],
   "source": [
    "import datetime"
   ]
  },
  {
   "cell_type": "code",
   "execution_count": 102,
   "id": "2b08dea5-2c15-4629-bf1b-abeb041d02bd",
   "metadata": {},
   "outputs": [
    {
     "data": {
      "text/plain": [
       "datetime.datetime(2011, 4, 27, 2, 0)"
      ]
     },
     "execution_count": 102,
     "metadata": {},
     "output_type": "execute_result"
    }
   ],
   "source": [
    "datetime.datetime.fromtimestamp(df.loc[0,'Time'])"
   ]
  },
  {
   "cell_type": "code",
   "execution_count": 103,
   "id": "fb252f6a-2043-44e0-b7b8-22d3ab6bd70e",
   "metadata": {},
   "outputs": [],
   "source": [
    "df['DateTime'] = df['Time'].apply(lambda x: datetime.datetime.fromtimestamp(x))"
   ]
  },
  {
   "cell_type": "code",
   "execution_count": 104,
   "id": "71fdb0e9-7def-44b6-9190-506a5b549f8a",
   "metadata": {},
   "outputs": [
    {
     "data": {
      "text/html": [
       "<div>\n",
       "<style scoped>\n",
       "    .dataframe tbody tr th:only-of-type {\n",
       "        vertical-align: middle;\n",
       "    }\n",
       "\n",
       "    .dataframe tbody tr th {\n",
       "        vertical-align: top;\n",
       "    }\n",
       "\n",
       "    .dataframe thead th {\n",
       "        text-align: right;\n",
       "    }\n",
       "</style>\n",
       "<table border=\"1\" class=\"dataframe\">\n",
       "  <thead>\n",
       "    <tr style=\"text-align: right;\">\n",
       "      <th></th>\n",
       "      <th>ProductId</th>\n",
       "      <th>HelpfulnessNumerator</th>\n",
       "      <th>HelpfulnessDenominator</th>\n",
       "      <th>Score</th>\n",
       "      <th>Time</th>\n",
       "      <th>Summary</th>\n",
       "      <th>Text</th>\n",
       "      <th>DateTime</th>\n",
       "    </tr>\n",
       "  </thead>\n",
       "  <tbody>\n",
       "    <tr>\n",
       "      <th>0</th>\n",
       "      <td>B001E4KFG0</td>\n",
       "      <td>1</td>\n",
       "      <td>1</td>\n",
       "      <td>5</td>\n",
       "      <td>1303862400</td>\n",
       "      <td>Good Quality Dog Food</td>\n",
       "      <td>I have bought several of the Vitality canned d...</td>\n",
       "      <td>2011-04-27 02:00:00</td>\n",
       "    </tr>\n",
       "    <tr>\n",
       "      <th>1</th>\n",
       "      <td>B00813GRG4</td>\n",
       "      <td>0</td>\n",
       "      <td>0</td>\n",
       "      <td>1</td>\n",
       "      <td>1346976000</td>\n",
       "      <td>Not as Advertised</td>\n",
       "      <td>Product arrived labeled as Jumbo Salted Peanut...</td>\n",
       "      <td>2012-09-07 02:00:00</td>\n",
       "    </tr>\n",
       "    <tr>\n",
       "      <th>2</th>\n",
       "      <td>B000LQOCH0</td>\n",
       "      <td>1</td>\n",
       "      <td>1</td>\n",
       "      <td>4</td>\n",
       "      <td>1219017600</td>\n",
       "      <td>\"Delight\" says it all</td>\n",
       "      <td>This is a confection that has been around a fe...</td>\n",
       "      <td>2008-08-18 02:00:00</td>\n",
       "    </tr>\n",
       "    <tr>\n",
       "      <th>3</th>\n",
       "      <td>B000UA0QIQ</td>\n",
       "      <td>3</td>\n",
       "      <td>3</td>\n",
       "      <td>2</td>\n",
       "      <td>1307923200</td>\n",
       "      <td>Cough Medicine</td>\n",
       "      <td>If you are looking for the secret ingredient i...</td>\n",
       "      <td>2011-06-13 02:00:00</td>\n",
       "    </tr>\n",
       "    <tr>\n",
       "      <th>4</th>\n",
       "      <td>B006K2ZZ7K</td>\n",
       "      <td>0</td>\n",
       "      <td>0</td>\n",
       "      <td>5</td>\n",
       "      <td>1350777600</td>\n",
       "      <td>Great taffy</td>\n",
       "      <td>Great taffy at a great price.  There was a wid...</td>\n",
       "      <td>2012-10-21 02:00:00</td>\n",
       "    </tr>\n",
       "  </tbody>\n",
       "</table>\n",
       "</div>"
      ],
      "text/plain": [
       "    ProductId  HelpfulnessNumerator  HelpfulnessDenominator  Score  \\\n",
       "0  B001E4KFG0                     1                       1      5   \n",
       "1  B00813GRG4                     0                       0      1   \n",
       "2  B000LQOCH0                     1                       1      4   \n",
       "3  B000UA0QIQ                     3                       3      2   \n",
       "4  B006K2ZZ7K                     0                       0      5   \n",
       "\n",
       "         Time                Summary  \\\n",
       "0  1303862400  Good Quality Dog Food   \n",
       "1  1346976000      Not as Advertised   \n",
       "2  1219017600  \"Delight\" says it all   \n",
       "3  1307923200         Cough Medicine   \n",
       "4  1350777600            Great taffy   \n",
       "\n",
       "                                                Text            DateTime  \n",
       "0  I have bought several of the Vitality canned d... 2011-04-27 02:00:00  \n",
       "1  Product arrived labeled as Jumbo Salted Peanut... 2012-09-07 02:00:00  \n",
       "2  This is a confection that has been around a fe... 2008-08-18 02:00:00  \n",
       "3  If you are looking for the secret ingredient i... 2011-06-13 02:00:00  \n",
       "4  Great taffy at a great price.  There was a wid... 2012-10-21 02:00:00  "
      ]
     },
     "execution_count": 104,
     "metadata": {},
     "output_type": "execute_result"
    }
   ],
   "source": [
    "df.head(5)"
   ]
  },
  {
   "cell_type": "code",
   "execution_count": 106,
   "id": "b02664c0-36a4-4ce8-b1d8-799784e73f1e",
   "metadata": {},
   "outputs": [
    {
     "data": {
      "text/plain": [
       "(393930, 8)"
      ]
     },
     "execution_count": 106,
     "metadata": {},
     "output_type": "execute_result"
    }
   ],
   "source": [
    "df.shape"
   ]
  },
  {
   "cell_type": "markdown",
   "id": "d4142bfb-574a-4447-a3c4-40f7a39bf51d",
   "metadata": {},
   "source": [
    "##### Avoid HelpfulnessNumerator bigger that HelpfulnessDenominator"
   ]
  },
  {
   "cell_type": "code",
   "execution_count": 107,
   "id": "7bdd074a-d90b-40e3-81bc-7511c8ded18d",
   "metadata": {},
   "outputs": [
    {
     "data": {
      "text/html": [
       "<div>\n",
       "<style scoped>\n",
       "    .dataframe tbody tr th:only-of-type {\n",
       "        vertical-align: middle;\n",
       "    }\n",
       "\n",
       "    .dataframe tbody tr th {\n",
       "        vertical-align: top;\n",
       "    }\n",
       "\n",
       "    .dataframe thead th {\n",
       "        text-align: right;\n",
       "    }\n",
       "</style>\n",
       "<table border=\"1\" class=\"dataframe\">\n",
       "  <thead>\n",
       "    <tr style=\"text-align: right;\">\n",
       "      <th></th>\n",
       "      <th>ProductId</th>\n",
       "      <th>HelpfulnessNumerator</th>\n",
       "      <th>HelpfulnessDenominator</th>\n",
       "      <th>Score</th>\n",
       "      <th>Time</th>\n",
       "      <th>Summary</th>\n",
       "      <th>Text</th>\n",
       "      <th>DateTime</th>\n",
       "    </tr>\n",
       "  </thead>\n",
       "  <tbody>\n",
       "    <tr>\n",
       "      <th>44736</th>\n",
       "      <td>B001EQ55RW</td>\n",
       "      <td>3</td>\n",
       "      <td>2</td>\n",
       "      <td>4</td>\n",
       "      <td>1212883200</td>\n",
       "      <td>Pure cocoa taste with crunchy almonds inside</td>\n",
       "      <td>It was almost a 'love at first bite' - the per...</td>\n",
       "      <td>2008-06-08 02:00:00</td>\n",
       "    </tr>\n",
       "    <tr>\n",
       "      <th>64421</th>\n",
       "      <td>B000MIDROQ</td>\n",
       "      <td>3</td>\n",
       "      <td>1</td>\n",
       "      <td>5</td>\n",
       "      <td>1224892800</td>\n",
       "      <td>Bought This for My Son at College</td>\n",
       "      <td>My son loves spaghetti so I didn't hesitate or...</td>\n",
       "      <td>2008-10-25 02:00:00</td>\n",
       "    </tr>\n",
       "  </tbody>\n",
       "</table>\n",
       "</div>"
      ],
      "text/plain": [
       "        ProductId  HelpfulnessNumerator  HelpfulnessDenominator  Score  \\\n",
       "44736  B001EQ55RW                     3                       2      4   \n",
       "64421  B000MIDROQ                     3                       1      5   \n",
       "\n",
       "             Time                                       Summary  \\\n",
       "44736  1212883200  Pure cocoa taste with crunchy almonds inside   \n",
       "64421  1224892800             Bought This for My Son at College   \n",
       "\n",
       "                                                    Text            DateTime  \n",
       "44736  It was almost a 'love at first bite' - the per... 2008-06-08 02:00:00  \n",
       "64421  My son loves spaghetti so I didn't hesitate or... 2008-10-25 02:00:00  "
      ]
     },
     "execution_count": 107,
     "metadata": {},
     "output_type": "execute_result"
    }
   ],
   "source": [
    "df[df['HelpfulnessNumerator'] > df['HelpfulnessDenominator']]"
   ]
  },
  {
   "cell_type": "code",
   "execution_count": 108,
   "id": "2c86b240-06a3-4999-a7f8-46b3204d86a3",
   "metadata": {},
   "outputs": [],
   "source": [
    "df = df[df['HelpfulnessNumerator'] <= df['HelpfulnessDenominator']]"
   ]
  },
  {
   "cell_type": "code",
   "execution_count": 112,
   "id": "78fdeaf3-e10d-4a08-af2d-5527dcd1623c",
   "metadata": {},
   "outputs": [
    {
     "data": {
      "text/plain": [
       "(393928, 8)"
      ]
     },
     "execution_count": 112,
     "metadata": {},
     "output_type": "execute_result"
    }
   ],
   "source": [
    "df.shape"
   ]
  },
  {
   "cell_type": "code",
   "execution_count": 115,
   "id": "1c797fcc-1bb5-486e-b1c9-13b018278a6c",
   "metadata": {},
   "outputs": [
    {
     "name": "stdout",
     "output_type": "stream",
     "text": [
      "Remaining data is 100.0\n"
     ]
    }
   ],
   "source": [
    "#Checking to see how much % of data still remains\n",
    "print(f'Remaining data is {((shape[0]*1.0)/(df.shape[0]*1.0))*100}')"
   ]
  },
  {
   "cell_type": "markdown",
   "id": "c1e870d1-5b87-4c4f-b13e-45e7a5629414",
   "metadata": {},
   "source": [
    "https://www.kaggle.com/code/prasheel1047/review-positive-or-negative?scriptVersionId=78532145&cellId=16"
   ]
  },
  {
   "cell_type": "markdown",
   "id": "5c979fa3-f54e-4950-a06d-12b63b6ad6df",
   "metadata": {},
   "source": [
    "https://www.kaggle.com/code/harits/amazon-reviews-sentiment-analysis?scriptVersionId=115541011&cellId=5"
   ]
  },
  {
   "cell_type": "markdown",
   "id": "3f6c2fff-49b3-4dc6-a790-958f29e6dc0a",
   "metadata": {},
   "source": [
    "##### Remove Special characters"
   ]
  },
  {
   "cell_type": "markdown",
   "id": "3d4d60ec-e65d-430c-a188-954ea36896c7",
   "metadata": {},
   "source": [
    "##### Tokenization"
   ]
  },
  {
   "cell_type": "markdown",
   "id": "949f7373-0c34-4954-9479-bc917ace07a6",
   "metadata": {},
   "source": [
    "##### Remove Stop-words"
   ]
  },
  {
   "cell_type": "markdown",
   "id": "80d7f487-bdf6-44d0-be95-206e6a6625ee",
   "metadata": {},
   "source": [
    "##### Text normalization\n",
    "- Convert Lower or Upper case\n",
    "- Remove punctuation\n",
    "  "
   ]
  },
  {
   "cell_type": "markdown",
   "id": "4ec45e0e-6da9-47b9-a9df-b383dc5d7325",
   "metadata": {},
   "source": [
    "##### Steamming or Lemmatization"
   ]
  },
  {
   "cell_type": "markdown",
   "id": "f56d2ab4-d855-4a5c-8f46-04cf080b8b76",
   "metadata": {},
   "source": [
    "### 2. Exploratory Data Analysis"
   ]
  },
  {
   "cell_type": "code",
   "execution_count": 120,
   "id": "b6a2854c-abed-464c-99cc-f8eda83a9941",
   "metadata": {},
   "outputs": [],
   "source": [
    "#!pip install matplotlib"
   ]
  },
  {
   "cell_type": "code",
   "execution_count": 121,
   "id": "7de00946-9843-40df-9e54-59d032daa54e",
   "metadata": {},
   "outputs": [],
   "source": [
    "import matplotlib.pyplot as plt"
   ]
  },
  {
   "cell_type": "markdown",
   "id": "9d6bf57c-78bf-4a30-ab43-4221bc2b3319",
   "metadata": {},
   "source": [
    "#### Descriptive analysis of the data (basic statistics, distributions, etc.)."
   ]
  },
  {
   "cell_type": "code",
   "execution_count": 124,
   "id": "414b4fd8-f114-411c-9c72-06746567d007",
   "metadata": {},
   "outputs": [
    {
     "data": {
      "text/html": [
       "<div>\n",
       "<style scoped>\n",
       "    .dataframe tbody tr th:only-of-type {\n",
       "        vertical-align: middle;\n",
       "    }\n",
       "\n",
       "    .dataframe tbody tr th {\n",
       "        vertical-align: top;\n",
       "    }\n",
       "\n",
       "    .dataframe thead th {\n",
       "        text-align: right;\n",
       "    }\n",
       "</style>\n",
       "<table border=\"1\" class=\"dataframe\">\n",
       "  <thead>\n",
       "    <tr style=\"text-align: right;\">\n",
       "      <th></th>\n",
       "      <th>ProductId</th>\n",
       "      <th>HelpfulnessNumerator</th>\n",
       "      <th>HelpfulnessDenominator</th>\n",
       "      <th>Score</th>\n",
       "      <th>Time</th>\n",
       "      <th>Summary</th>\n",
       "      <th>Text</th>\n",
       "      <th>DateTime</th>\n",
       "    </tr>\n",
       "  </thead>\n",
       "  <tbody>\n",
       "    <tr>\n",
       "      <th>0</th>\n",
       "      <td>B001E4KFG0</td>\n",
       "      <td>1</td>\n",
       "      <td>1</td>\n",
       "      <td>5</td>\n",
       "      <td>1303862400</td>\n",
       "      <td>Good Quality Dog Food</td>\n",
       "      <td>I have bought several of the Vitality canned d...</td>\n",
       "      <td>2011-04-27 02:00:00</td>\n",
       "    </tr>\n",
       "    <tr>\n",
       "      <th>1</th>\n",
       "      <td>B00813GRG4</td>\n",
       "      <td>0</td>\n",
       "      <td>0</td>\n",
       "      <td>1</td>\n",
       "      <td>1346976000</td>\n",
       "      <td>Not as Advertised</td>\n",
       "      <td>Product arrived labeled as Jumbo Salted Peanut...</td>\n",
       "      <td>2012-09-07 02:00:00</td>\n",
       "    </tr>\n",
       "    <tr>\n",
       "      <th>2</th>\n",
       "      <td>B000LQOCH0</td>\n",
       "      <td>1</td>\n",
       "      <td>1</td>\n",
       "      <td>4</td>\n",
       "      <td>1219017600</td>\n",
       "      <td>\"Delight\" says it all</td>\n",
       "      <td>This is a confection that has been around a fe...</td>\n",
       "      <td>2008-08-18 02:00:00</td>\n",
       "    </tr>\n",
       "    <tr>\n",
       "      <th>3</th>\n",
       "      <td>B000UA0QIQ</td>\n",
       "      <td>3</td>\n",
       "      <td>3</td>\n",
       "      <td>2</td>\n",
       "      <td>1307923200</td>\n",
       "      <td>Cough Medicine</td>\n",
       "      <td>If you are looking for the secret ingredient i...</td>\n",
       "      <td>2011-06-13 02:00:00</td>\n",
       "    </tr>\n",
       "    <tr>\n",
       "      <th>4</th>\n",
       "      <td>B006K2ZZ7K</td>\n",
       "      <td>0</td>\n",
       "      <td>0</td>\n",
       "      <td>5</td>\n",
       "      <td>1350777600</td>\n",
       "      <td>Great taffy</td>\n",
       "      <td>Great taffy at a great price.  There was a wid...</td>\n",
       "      <td>2012-10-21 02:00:00</td>\n",
       "    </tr>\n",
       "  </tbody>\n",
       "</table>\n",
       "</div>"
      ],
      "text/plain": [
       "    ProductId  HelpfulnessNumerator  HelpfulnessDenominator  Score  \\\n",
       "0  B001E4KFG0                     1                       1      5   \n",
       "1  B00813GRG4                     0                       0      1   \n",
       "2  B000LQOCH0                     1                       1      4   \n",
       "3  B000UA0QIQ                     3                       3      2   \n",
       "4  B006K2ZZ7K                     0                       0      5   \n",
       "\n",
       "         Time                Summary  \\\n",
       "0  1303862400  Good Quality Dog Food   \n",
       "1  1346976000      Not as Advertised   \n",
       "2  1219017600  \"Delight\" says it all   \n",
       "3  1307923200         Cough Medicine   \n",
       "4  1350777600            Great taffy   \n",
       "\n",
       "                                                Text            DateTime  \n",
       "0  I have bought several of the Vitality canned d... 2011-04-27 02:00:00  \n",
       "1  Product arrived labeled as Jumbo Salted Peanut... 2012-09-07 02:00:00  \n",
       "2  This is a confection that has been around a fe... 2008-08-18 02:00:00  \n",
       "3  If you are looking for the secret ingredient i... 2011-06-13 02:00:00  \n",
       "4  Great taffy at a great price.  There was a wid... 2012-10-21 02:00:00  "
      ]
     },
     "execution_count": 124,
     "metadata": {},
     "output_type": "execute_result"
    }
   ],
   "source": [
    "df.head()"
   ]
  },
  {
   "cell_type": "code",
   "execution_count": 128,
   "id": "caaf610c-66b7-40e3-9595-00c125d46eef",
   "metadata": {},
   "outputs": [
    {
     "data": {
      "text/html": [
       "<div>\n",
       "<style scoped>\n",
       "    .dataframe tbody tr th:only-of-type {\n",
       "        vertical-align: middle;\n",
       "    }\n",
       "\n",
       "    .dataframe tbody tr th {\n",
       "        vertical-align: top;\n",
       "    }\n",
       "\n",
       "    .dataframe thead th {\n",
       "        text-align: right;\n",
       "    }\n",
       "</style>\n",
       "<table border=\"1\" class=\"dataframe\">\n",
       "  <thead>\n",
       "    <tr style=\"text-align: right;\">\n",
       "      <th></th>\n",
       "      <th>HelpfulnessNumerator</th>\n",
       "      <th>HelpfulnessDenominator</th>\n",
       "      <th>Score</th>\n",
       "      <th>Time</th>\n",
       "      <th>DateTime</th>\n",
       "    </tr>\n",
       "  </thead>\n",
       "  <tbody>\n",
       "    <tr>\n",
       "      <th>count</th>\n",
       "      <td>393928.000000</td>\n",
       "      <td>393928.000000</td>\n",
       "      <td>393928.000000</td>\n",
       "      <td>3.939280e+05</td>\n",
       "      <td>393928</td>\n",
       "    </tr>\n",
       "    <tr>\n",
       "      <th>mean</th>\n",
       "      <td>1.734401</td>\n",
       "      <td>2.204758</td>\n",
       "      <td>4.179408</td>\n",
       "      <td>1.296449e+09</td>\n",
       "      <td>2011-01-31 06:26:31.618773248</td>\n",
       "    </tr>\n",
       "    <tr>\n",
       "      <th>min</th>\n",
       "      <td>0.000000</td>\n",
       "      <td>0.000000</td>\n",
       "      <td>1.000000</td>\n",
       "      <td>9.393408e+08</td>\n",
       "      <td>1999-10-08 02:00:00</td>\n",
       "    </tr>\n",
       "    <tr>\n",
       "      <th>25%</th>\n",
       "      <td>0.000000</td>\n",
       "      <td>0.000000</td>\n",
       "      <td>4.000000</td>\n",
       "      <td>1.271376e+09</td>\n",
       "      <td>2010-04-16 02:00:00</td>\n",
       "    </tr>\n",
       "    <tr>\n",
       "      <th>50%</th>\n",
       "      <td>0.000000</td>\n",
       "      <td>1.000000</td>\n",
       "      <td>5.000000</td>\n",
       "      <td>1.311638e+09</td>\n",
       "      <td>2011-07-26 02:00:00</td>\n",
       "    </tr>\n",
       "    <tr>\n",
       "      <th>75%</th>\n",
       "      <td>2.000000</td>\n",
       "      <td>2.000000</td>\n",
       "      <td>5.000000</td>\n",
       "      <td>1.332979e+09</td>\n",
       "      <td>2012-03-29 02:00:00</td>\n",
       "    </tr>\n",
       "    <tr>\n",
       "      <th>max</th>\n",
       "      <td>866.000000</td>\n",
       "      <td>923.000000</td>\n",
       "      <td>5.000000</td>\n",
       "      <td>1.351210e+09</td>\n",
       "      <td>2012-10-26 02:00:00</td>\n",
       "    </tr>\n",
       "    <tr>\n",
       "      <th>std</th>\n",
       "      <td>6.872306</td>\n",
       "      <td>7.534738</td>\n",
       "      <td>1.311925</td>\n",
       "      <td>4.840316e+07</td>\n",
       "      <td>NaN</td>\n",
       "    </tr>\n",
       "  </tbody>\n",
       "</table>\n",
       "</div>"
      ],
      "text/plain": [
       "       HelpfulnessNumerator  HelpfulnessDenominator          Score  \\\n",
       "count         393928.000000           393928.000000  393928.000000   \n",
       "mean               1.734401                2.204758       4.179408   \n",
       "min                0.000000                0.000000       1.000000   \n",
       "25%                0.000000                0.000000       4.000000   \n",
       "50%                0.000000                1.000000       5.000000   \n",
       "75%                2.000000                2.000000       5.000000   \n",
       "max              866.000000              923.000000       5.000000   \n",
       "std                6.872306                7.534738       1.311925   \n",
       "\n",
       "               Time                       DateTime  \n",
       "count  3.939280e+05                         393928  \n",
       "mean   1.296449e+09  2011-01-31 06:26:31.618773248  \n",
       "min    9.393408e+08            1999-10-08 02:00:00  \n",
       "25%    1.271376e+09            2010-04-16 02:00:00  \n",
       "50%    1.311638e+09            2011-07-26 02:00:00  \n",
       "75%    1.332979e+09            2012-03-29 02:00:00  \n",
       "max    1.351210e+09            2012-10-26 02:00:00  \n",
       "std    4.840316e+07                            NaN  "
      ]
     },
     "execution_count": 128,
     "metadata": {},
     "output_type": "execute_result"
    }
   ],
   "source": [
    "df.describe()"
   ]
  },
  {
   "cell_type": "code",
   "execution_count": 139,
   "id": "0fdddd7b-1410-44cb-b1ec-465bb5782c1f",
   "metadata": {},
   "outputs": [
    {
     "data": {
      "image/png": "[encoded data removed]",
      "text/plain": [
       "<Figure size 1000x500 with 1 Axes>"
      ]
     },
     "metadata": {},
     "output_type": "display_data"
    }
   ],
   "source": [
    "# Assuming 'DateTime' is the column containing timestamps\n",
    "# Convert the column to datetime format if needed\n",
    "df['DateTime'] = pd.to_datetime(df['DateTime'])\n",
    " \n",
    "# Extract the year and month components\n",
    "df['Year'] = df['DateTime'].dt.year\n",
    "df['Month'] = df['DateTime'].dt.month\n",
    "\n",
    "# Group by year and month, and count occurrences\n",
    "monthly_counts = df.groupby(['Year', 'Month']).size()\n",
    "\n",
    "# Create the time series plot\n",
    "plt.figure(figsize=(10, 5))\n",
    "monthly_counts.plot(kind='bar', title='Number of Reviews by Year and Month')\n",
    "\n",
    "xticks = monthly_counts.index.map(lambda x: f\"{x[0]}-{x[1]}\")\n",
    "xticks = xticks[::6]  # Selecciona cada 6 meses\n",
    "plt.gca().set_xticks(range(0, len(xticks) * 6, 6))\n",
    "plt.gca().set_xticklabels(xticks, rotation=45, ha='right')\n",
    "\n",
    "plt.ylabel('Number of Reviews')\n",
    "\n",
    "# Save the plot\n",
    "plt.savefig('../reports/images/reviews_for_Year_Month.png')\n",
    " \n",
    "# Show the plot\n",
    "plt.show()"
   ]
  },
  {
   "cell_type": "code",
   "execution_count": 152,
   "id": "f407105c-56a2-46f4-900f-4a24bd801a6f",
   "metadata": {},
   "outputs": [
    {
     "data": {
      "text/html": [
       "<div>\n",
       "<style scoped>\n",
       "    .dataframe tbody tr th:only-of-type {\n",
       "        vertical-align: middle;\n",
       "    }\n",
       "\n",
       "    .dataframe tbody tr th {\n",
       "        vertical-align: top;\n",
       "    }\n",
       "\n",
       "    .dataframe thead th {\n",
       "        text-align: right;\n",
       "    }\n",
       "</style>\n",
       "<table border=\"1\" class=\"dataframe\">\n",
       "  <thead>\n",
       "    <tr style=\"text-align: right;\">\n",
       "      <th></th>\n",
       "      <th>ProductId</th>\n",
       "      <th>HelpfulnessNumerator</th>\n",
       "      <th>HelpfulnessDenominator</th>\n",
       "      <th>Score</th>\n",
       "      <th>Time</th>\n",
       "      <th>Summary</th>\n",
       "      <th>Text</th>\n",
       "      <th>DateTime</th>\n",
       "      <th>Day</th>\n",
       "      <th>Year</th>\n",
       "      <th>Month</th>\n",
       "    </tr>\n",
       "  </thead>\n",
       "  <tbody>\n",
       "    <tr>\n",
       "      <th>0</th>\n",
       "      <td>B001E4KFG0</td>\n",
       "      <td>1</td>\n",
       "      <td>1</td>\n",
       "      <td>5</td>\n",
       "      <td>1303862400</td>\n",
       "      <td>Good Quality Dog Food</td>\n",
       "      <td>I have bought several of the Vitality canned d...</td>\n",
       "      <td>2011-04-27 02:00:00</td>\n",
       "      <td>2011-04-27</td>\n",
       "      <td>2011</td>\n",
       "      <td>4</td>\n",
       "    </tr>\n",
       "  </tbody>\n",
       "</table>\n",
       "</div>"
      ],
      "text/plain": [
       "    ProductId  HelpfulnessNumerator  HelpfulnessDenominator  Score  \\\n",
       "0  B001E4KFG0                     1                       1      5   \n",
       "\n",
       "         Time                Summary  \\\n",
       "0  1303862400  Good Quality Dog Food   \n",
       "\n",
       "                                                Text            DateTime  \\\n",
       "0  I have bought several of the Vitality canned d... 2011-04-27 02:00:00   \n",
       "\n",
       "          Day  Year  Month  \n",
       "0  2011-04-27  2011      4  "
      ]
     },
     "execution_count": 152,
     "metadata": {},
     "output_type": "execute_result"
    }
   ],
   "source": [
    "df.head(1)"
   ]
  },
  {
   "cell_type": "code",
   "execution_count": 268,
   "id": "319b1f2a-1985-4467-ace1-b46f2697efc0",
   "metadata": {},
   "outputs": [
    {
     "name": "stderr",
     "output_type": "stream",
     "text": [
      "C:\\Users\\ana.poveda.garcia\\AppData\\Local\\Temp\\ipykernel_7272\\1429197469.py:2: SettingWithCopyWarning: \n",
      "A value is trying to be set on a copy of a slice from a DataFrame.\n",
      "Try using .loc[row_indexer,col_indexer] = value instead\n",
      "\n",
      "See the caveats in the documentation: https://pandas.pydata.org/pandas-docs/stable/user_guide/indexing.html#returning-a-view-versus-a-copy\n",
      "  dff['date'] = pd.to_datetime(df['Time'],unit='s')\n"
     ]
    }
   ],
   "source": [
    "dff = df[['Text','Score']]\n",
    "dff['date'] = pd.to_datetime(df['Time'],unit='s')"
   ]
  },
  {
   "cell_type": "code",
   "execution_count": 269,
   "id": "b601f014-31bb-41d0-bbff-8769d3abe1fa",
   "metadata": {},
   "outputs": [
    {
     "data": {
      "text/html": [
       "<div>\n",
       "<style scoped>\n",
       "    .dataframe tbody tr th:only-of-type {\n",
       "        vertical-align: middle;\n",
       "    }\n",
       "\n",
       "    .dataframe tbody tr th {\n",
       "        vertical-align: top;\n",
       "    }\n",
       "\n",
       "    .dataframe thead th {\n",
       "        text-align: right;\n",
       "    }\n",
       "</style>\n",
       "<table border=\"1\" class=\"dataframe\">\n",
       "  <thead>\n",
       "    <tr style=\"text-align: right;\">\n",
       "      <th></th>\n",
       "      <th>Text</th>\n",
       "      <th>Score</th>\n",
       "      <th>date</th>\n",
       "    </tr>\n",
       "  </thead>\n",
       "  <tbody>\n",
       "    <tr>\n",
       "      <th>0</th>\n",
       "      <td>I have bought several of the Vitality canned d...</td>\n",
       "      <td>5</td>\n",
       "      <td>2011-04-27</td>\n",
       "    </tr>\n",
       "    <tr>\n",
       "      <th>1</th>\n",
       "      <td>Product arrived labeled as Jumbo Salted Peanut...</td>\n",
       "      <td>1</td>\n",
       "      <td>2012-09-07</td>\n",
       "    </tr>\n",
       "    <tr>\n",
       "      <th>2</th>\n",
       "      <td>This is a confection that has been around a fe...</td>\n",
       "      <td>4</td>\n",
       "      <td>2008-08-18</td>\n",
       "    </tr>\n",
       "    <tr>\n",
       "      <th>3</th>\n",
       "      <td>If you are looking for the secret ingredient i...</td>\n",
       "      <td>2</td>\n",
       "      <td>2011-06-13</td>\n",
       "    </tr>\n",
       "    <tr>\n",
       "      <th>4</th>\n",
       "      <td>Great taffy at a great price.  There was a wid...</td>\n",
       "      <td>5</td>\n",
       "      <td>2012-10-21</td>\n",
       "    </tr>\n",
       "    <tr>\n",
       "      <th>...</th>\n",
       "      <td>...</td>\n",
       "      <td>...</td>\n",
       "      <td>...</td>\n",
       "    </tr>\n",
       "    <tr>\n",
       "      <th>568449</th>\n",
       "      <td>Great for sesame chicken..this is a good if no...</td>\n",
       "      <td>5</td>\n",
       "      <td>2011-03-09</td>\n",
       "    </tr>\n",
       "    <tr>\n",
       "      <th>568450</th>\n",
       "      <td>I'm disappointed with the flavor. The chocolat...</td>\n",
       "      <td>2</td>\n",
       "      <td>2012-03-09</td>\n",
       "    </tr>\n",
       "    <tr>\n",
       "      <th>568451</th>\n",
       "      <td>These stars are small, so you can give 10-15 o...</td>\n",
       "      <td>5</td>\n",
       "      <td>2012-02-21</td>\n",
       "    </tr>\n",
       "    <tr>\n",
       "      <th>568452</th>\n",
       "      <td>These are the BEST treats for training and rew...</td>\n",
       "      <td>5</td>\n",
       "      <td>2012-03-13</td>\n",
       "    </tr>\n",
       "    <tr>\n",
       "      <th>568453</th>\n",
       "      <td>I am very satisfied ,product is as advertised,...</td>\n",
       "      <td>5</td>\n",
       "      <td>2012-05-31</td>\n",
       "    </tr>\n",
       "  </tbody>\n",
       "</table>\n",
       "<p>393928 rows × 3 columns</p>\n",
       "</div>"
      ],
      "text/plain": [
       "                                                     Text  Score       date\n",
       "0       I have bought several of the Vitality canned d...      5 2011-04-27\n",
       "1       Product arrived labeled as Jumbo Salted Peanut...      1 2012-09-07\n",
       "2       This is a confection that has been around a fe...      4 2008-08-18\n",
       "3       If you are looking for the secret ingredient i...      2 2011-06-13\n",
       "4       Great taffy at a great price.  There was a wid...      5 2012-10-21\n",
       "...                                                   ...    ...        ...\n",
       "568449  Great for sesame chicken..this is a good if no...      5 2011-03-09\n",
       "568450  I'm disappointed with the flavor. The chocolat...      2 2012-03-09\n",
       "568451  These stars are small, so you can give 10-15 o...      5 2012-02-21\n",
       "568452  These are the BEST treats for training and rew...      5 2012-03-13\n",
       "568453  I am very satisfied ,product is as advertised,...      5 2012-05-31\n",
       "\n",
       "[393928 rows x 3 columns]"
      ]
     },
     "execution_count": 269,
     "metadata": {},
     "output_type": "execute_result"
    }
   ],
   "source": [
    "dff"
   ]
  },
  {
   "cell_type": "markdown",
   "id": "fbf910f9-452f-49d8-9fef-af71446cea10",
   "metadata": {},
   "source": [
    "More year, more internet, more reviews"
   ]
  },
  {
   "cell_type": "markdown",
   "id": "4125c936-cd66-46c8-b294-57ee10cc7dbb",
   "metadata": {},
   "source": [
    "##### Reviews Days"
   ]
  },
  {
   "cell_type": "code",
   "execution_count": 270,
   "id": "9eda21db-200b-4fba-a9c2-68df58815294",
   "metadata": {},
   "outputs": [
    {
     "data": {
      "image/png": "[encoded data removed]",
      "text/plain": [
       "<Figure size 2000x800 with 1 Axes>"
      ]
     },
     "metadata": {},
     "output_type": "display_data"
    }
   ],
   "source": [
    "# Assuming 'dff' is your DataFrame\n",
    "\n",
    "# Convert 'date' to datetime\n",
    "#dff.date = df.date.dt.strftime('%Y-%m-%d')\n",
    "#dff['date'] = pd.to_datetime(dff['date'] )\n",
    "\n",
    "# Filter and count by score\n",
    "scores = [1, 2, 3, 4, 5]\n",
    "plt.figure(figsize=(20, 8))\n",
    "for score in scores:\n",
    "    dff_score = dff[dff['Score'] == score].groupby('date').size().reset_index(name='Count')\n",
    "    plt.plot_date(x=dff_score['date'], y=dff_score['Count'], label=f'Score={score}')\n",
    "\n",
    "# Customize the plot\n",
    "plt.grid(linewidth=0.5, alpha=0.75)\n",
    "plt.xticks(rotation=90)\n",
    "plt.xlim(pd.Timestamp('2000-01-01'), pd.Timestamp('2012-10-01'))\n",
    "plt.xlabel('Date', fontsize=22)\n",
    "plt.ylabel('Number of review', fontsize=22)\n",
    "plt.title('Review trend from 2000 to 2012', fontsize=24)\n",
    "\n",
    "# Save the plot\n",
    "plt.savefig('../reports/images/review_trend_day.png')\n",
    "\n",
    "# Show the legend\n",
    "plt.legend()\n",
    "\n",
    "# Show the plot\n",
    "plt.show()"
   ]
  },
  {
   "cell_type": "markdown",
   "id": "10c75ce0-e3cf-472a-9990-a8b59df00e67",
   "metadata": {},
   "source": [
    "##### Reviews Month"
   ]
  },
  {
   "cell_type": "code",
   "execution_count": 272,
   "id": "6c272c17-6330-4bbf-8d6d-f7fd8c50d963",
   "metadata": {},
   "outputs": [
    {
     "name": "stderr",
     "output_type": "stream",
     "text": [
      "C:\\Users\\ana.poveda.garcia\\AppData\\Local\\Temp\\ipykernel_7272\\2067159032.py:4: SettingWithCopyWarning: \n",
      "A value is trying to be set on a copy of a slice from a DataFrame.\n",
      "Try using .loc[row_indexer,col_indexer] = value instead\n",
      "\n",
      "See the caveats in the documentation: https://pandas.pydata.org/pandas-docs/stable/user_guide/indexing.html#returning-a-view-versus-a-copy\n",
      "  dff.date = dff.date.dt.strftime('%Y-%m')\n",
      "C:\\Users\\ana.poveda.garcia\\AppData\\Local\\Temp\\ipykernel_7272\\2067159032.py:5: SettingWithCopyWarning: \n",
      "A value is trying to be set on a copy of a slice from a DataFrame.\n",
      "Try using .loc[row_indexer,col_indexer] = value instead\n",
      "\n",
      "See the caveats in the documentation: https://pandas.pydata.org/pandas-docs/stable/user_guide/indexing.html#returning-a-view-versus-a-copy\n",
      "  dff['date'] = pd.to_datetime(dff['date'] )\n"
     ]
    },
    {
     "data": {
      "text/html": [
       "<div>\n",
       "<style scoped>\n",
       "    .dataframe tbody tr th:only-of-type {\n",
       "        vertical-align: middle;\n",
       "    }\n",
       "\n",
       "    .dataframe tbody tr th {\n",
       "        vertical-align: top;\n",
       "    }\n",
       "\n",
       "    .dataframe thead th {\n",
       "        text-align: right;\n",
       "    }\n",
       "</style>\n",
       "<table border=\"1\" class=\"dataframe\">\n",
       "  <thead>\n",
       "    <tr style=\"text-align: right;\">\n",
       "      <th></th>\n",
       "      <th>Text</th>\n",
       "      <th>Score</th>\n",
       "      <th>date</th>\n",
       "    </tr>\n",
       "  </thead>\n",
       "  <tbody>\n",
       "    <tr>\n",
       "      <th>0</th>\n",
       "      <td>I have bought several of the Vitality canned d...</td>\n",
       "      <td>5</td>\n",
       "      <td>2011-04-01</td>\n",
       "    </tr>\n",
       "    <tr>\n",
       "      <th>1</th>\n",
       "      <td>Product arrived labeled as Jumbo Salted Peanut...</td>\n",
       "      <td>1</td>\n",
       "      <td>2012-09-01</td>\n",
       "    </tr>\n",
       "    <tr>\n",
       "      <th>2</th>\n",
       "      <td>This is a confection that has been around a fe...</td>\n",
       "      <td>4</td>\n",
       "      <td>2008-08-01</td>\n",
       "    </tr>\n",
       "    <tr>\n",
       "      <th>3</th>\n",
       "      <td>If you are looking for the secret ingredient i...</td>\n",
       "      <td>2</td>\n",
       "      <td>2011-06-01</td>\n",
       "    </tr>\n",
       "    <tr>\n",
       "      <th>4</th>\n",
       "      <td>Great taffy at a great price.  There was a wid...</td>\n",
       "      <td>5</td>\n",
       "      <td>2012-10-01</td>\n",
       "    </tr>\n",
       "    <tr>\n",
       "      <th>...</th>\n",
       "      <td>...</td>\n",
       "      <td>...</td>\n",
       "      <td>...</td>\n",
       "    </tr>\n",
       "    <tr>\n",
       "      <th>568449</th>\n",
       "      <td>Great for sesame chicken..this is a good if no...</td>\n",
       "      <td>5</td>\n",
       "      <td>2011-03-01</td>\n",
       "    </tr>\n",
       "    <tr>\n",
       "      <th>568450</th>\n",
       "      <td>I'm disappointed with the flavor. The chocolat...</td>\n",
       "      <td>2</td>\n",
       "      <td>2012-03-01</td>\n",
       "    </tr>\n",
       "    <tr>\n",
       "      <th>568451</th>\n",
       "      <td>These stars are small, so you can give 10-15 o...</td>\n",
       "      <td>5</td>\n",
       "      <td>2012-02-01</td>\n",
       "    </tr>\n",
       "    <tr>\n",
       "      <th>568452</th>\n",
       "      <td>These are the BEST treats for training and rew...</td>\n",
       "      <td>5</td>\n",
       "      <td>2012-03-01</td>\n",
       "    </tr>\n",
       "    <tr>\n",
       "      <th>568453</th>\n",
       "      <td>I am very satisfied ,product is as advertised,...</td>\n",
       "      <td>5</td>\n",
       "      <td>2012-05-01</td>\n",
       "    </tr>\n",
       "  </tbody>\n",
       "</table>\n",
       "<p>393928 rows × 3 columns</p>\n",
       "</div>"
      ],
      "text/plain": [
       "                                                     Text  Score       date\n",
       "0       I have bought several of the Vitality canned d...      5 2011-04-01\n",
       "1       Product arrived labeled as Jumbo Salted Peanut...      1 2012-09-01\n",
       "2       This is a confection that has been around a fe...      4 2008-08-01\n",
       "3       If you are looking for the secret ingredient i...      2 2011-06-01\n",
       "4       Great taffy at a great price.  There was a wid...      5 2012-10-01\n",
       "...                                                   ...    ...        ...\n",
       "568449  Great for sesame chicken..this is a good if no...      5 2011-03-01\n",
       "568450  I'm disappointed with the flavor. The chocolat...      2 2012-03-01\n",
       "568451  These stars are small, so you can give 10-15 o...      5 2012-02-01\n",
       "568452  These are the BEST treats for training and rew...      5 2012-03-01\n",
       "568453  I am very satisfied ,product is as advertised,...      5 2012-05-01\n",
       "\n",
       "[393928 rows x 3 columns]"
      ]
     },
     "metadata": {},
     "output_type": "display_data"
    },
    {
     "data": {
      "image/png": "[encoded data removed]",
      "text/plain": [
       "<Figure size 2000x800 with 1 Axes>"
      ]
     },
     "metadata": {},
     "output_type": "display_data"
    }
   ],
   "source": [
    "# Assuming 'dff' is your DataFrame\n",
    "\n",
    "# Convert 'date' to datetime\n",
    "dff.date = dff.date.dt.strftime('%Y-%m')\n",
    "dff['date'] = pd.to_datetime(dff['date'] )\n",
    "display(dff)\n",
    "\n",
    "# Filter and count by score\n",
    "scores = [1, 2, 3, 4, 5]\n",
    "plt.figure(figsize=(20, 8))\n",
    "for score in scores:\n",
    "    dff_score = dff[dff['Score'] == score].groupby('date').size().reset_index(name='Count')\n",
    "    plt.plot_date(x=dff_score['date'], y=dff_score['Count'], label=f'Score={score}')\n",
    "\n",
    "# Customize the plot\n",
    "plt.grid(linewidth=0.5, alpha=0.75)\n",
    "plt.xticks(rotation=90)\n",
    "plt.xlim(pd.Timestamp('2000-01-01'), pd.Timestamp('2012-10-01'))\n",
    "plt.xlabel('Date', fontsize=22)\n",
    "plt.ylabel('Number of review', fontsize=22)\n",
    "plt.title('Review trend from 2000 to 2012', fontsize=24)\n",
    "\n",
    "# Save the plot\n",
    "plt.savefig('../reports/images/review_trend_month.png')\n",
    "\n",
    "# Show the legend\n",
    "plt.legend()\n",
    "\n",
    "# Show the plot\n",
    "plt.show()"
   ]
  },
  {
   "cell_type": "markdown",
   "id": "deee11cb-7798-490b-bc5a-e4c2b8e67983",
   "metadata": {},
   "source": [
    "#### Visualisation of the distribution of ratings (score column)"
   ]
  },
  {
   "cell_type": "code",
   "execution_count": 127,
   "id": "3a254627-b32f-4aa1-a856-646c184ffacc",
   "metadata": {},
   "outputs": [
    {
     "data": {
      "image/png": "[encoded data removed]",
      "text/plain": [
       "<Figure size 1000x500 with 1 Axes>"
      ]
     },
     "metadata": {},
     "output_type": "display_data"
    }
   ],
   "source": [
    "ax = df['Score'].value_counts().sort_index().plot(kind='bar',\n",
    "          title='Count of Reviews by Stars',\n",
    "          figsize=(10, 5))\n",
    "ax.set_xlabel('Review Stars')\n",
    "\n",
    "# Save the plot\n",
    "plt.savefig('../reports/images/review_score.png')\n",
    "\n",
    "plt.show()"
   ]
  },
  {
   "cell_type": "markdown",
   "id": "86f64604-bc3d-4cb6-9a3a-e41add0b45d5",
   "metadata": {},
   "source": [
    "The dataset is unbalanced"
   ]
  },
  {
   "cell_type": "markdown",
   "id": "5eac80de-0b5c-40e4-9f4d-5225d4ed5626",
   "metadata": {},
   "source": [
    "### 3. Exploratory Data Text"
   ]
  },
  {
   "cell_type": "markdown",
   "id": "a715af49-8b0f-410b-8797-5e607e3b6460",
   "metadata": {},
   "source": [
    "#### Text Preprocessing "
   ]
  },
  {
   "cell_type": "markdown",
   "id": "32c7d83f-a733-4412-9fb5-6cf22faacf00",
   "metadata": {},
   "source": [
    "https://www.kaggle.com/code/prasheel1047/review-positive-or-negative?scriptVersionId=78532145&cellId=16\n",
    "https://www.kaggle.com/code/harits/amazon-reviews-sentiment-analysis?scriptVersionId=115541011&cellId=5"
   ]
  },
  {
   "cell_type": "markdown",
   "id": "d0297712-cea3-49f3-98ea-3a6913ff6c18",
   "metadata": {},
   "source": [
    "##### Remove Special characters"
   ]
  },
  {
   "cell_type": "markdown",
   "id": "5cdcc78c-27cd-43f9-9ac3-d83d5d65d5a3",
   "metadata": {},
   "source": [
    "##### Tokenization"
   ]
  },
  {
   "cell_type": "markdown",
   "id": "e41e8ee2-aaa6-4f9b-912f-4e7ac5ab010f",
   "metadata": {},
   "source": [
    "##### Remove Stop-words"
   ]
  },
  {
   "cell_type": "markdown",
   "id": "eae8a875-22d2-4160-afd1-8bae21e35f90",
   "metadata": {},
   "source": [
    "##### Text normalization\n",
    "- Convert Lower or Upper case\n",
    "- Remove punctuation"
   ]
  },
  {
   "cell_type": "markdown",
   "id": "61b82ec3-3d96-4407-9d58-42bb78133364",
   "metadata": {},
   "source": [
    "##### Steamming or Lemmatization"
   ]
  },
  {
   "cell_type": "markdown",
   "id": "a2c18640-bc2f-496f-8584-531c316af855",
   "metadata": {},
   "source": [
    "### 3. Sentiment Analysis"
   ]
  },
  {
   "cell_type": "markdown",
   "id": "0077d95d-4a5b-48f1-92f7-5510df83b7f4",
   "metadata": {},
   "source": [
    "https://www.kaggle.com/code/harits/amazon-reviews-sentiment-analysis"
   ]
  },
  {
   "cell_type": "markdown",
   "id": "14a2d871-377d-4403-8ce2-fad7dcaa948f",
   "metadata": {},
   "source": [
    "#### Analysis of the most frequent words in the reviews"
   ]
  },
  {
   "cell_type": "markdown",
   "id": "d96211ce-a7c2-4174-8814-82268822ef6e",
   "metadata": {},
   "source": [
    "#### Visualise the most frequent words in positive and negative reviews."
   ]
  },
  {
   "cell_type": "markdown",
   "id": "29859c85-4abc-4323-b14b-b4289d0d5c59",
   "metadata": {},
   "source": [
    "#### Analysis of the length of the reviews."
   ]
  },
  {
   "cell_type": "markdown",
   "id": "0071a2e5-774b-42a4-8f91-fbb1671ab758",
   "metadata": {},
   "source": [
    "#### Display the relationship between review length and score."
   ]
  },
  {
   "cell_type": "markdown",
   "id": "edc3ab45-f80d-475d-ad25-905efdcdb489",
   "metadata": {},
   "source": []
  },
  {
   "cell_type": "markdown",
   "id": "de59c0b3-abec-48ed-bbdf-18184309236e",
   "metadata": {},
   "source": [
    "### 4. Deep Learning with TensorFlow/Keras"
   ]
  },
  {
   "cell_type": "markdown",
   "id": "7af34ecc-3434-4ad9-9e3a-9bf43b470754",
   "metadata": {},
   "source": []
  },
  {
   "cell_type": "markdown",
   "id": "2da0defd-00d0-421a-9212-5980eb917f8e",
   "metadata": {},
   "source": [
    "https://www.kaggle.com/code/raman007/amazon-finefood-sentiment-classification-using-knn"
   ]
  },
  {
   "cell_type": "markdown",
   "id": "4a699f4c-64f8-4495-bbc2-71122f4d8014",
   "metadata": {},
   "source": [
    "#### Matrix confusion to see the correlation"
   ]
  },
  {
   "cell_type": "markdown",
   "id": "05ae65b6-4926-4270-bdf9-a05e5bc52954",
   "metadata": {},
   "source": [
    "#### Grid Search --> try all methods ML"
   ]
  },
  {
   "cell_type": "markdown",
   "id": "8615794a-2e1c-480c-9163-99a94ae64778",
   "metadata": {},
   "source": [
    "#### See all metrics"
   ]
  },
  {
   "cell_type": "markdown",
   "id": "fac5e2ea-da23-4013-aabb-97f5c509f6ee",
   "metadata": {},
   "source": [
    "### 5. Parameter Tuning"
   ]
  },
  {
   "cell_type": "markdown",
   "id": "9eb49807-b5a7-446e-9c8e-93d3a68a4b93",
   "metadata": {},
   "source": [
    "#### Grid Search"
   ]
  },
  {
   "cell_type": "markdown",
   "id": "36e58cef-7ea4-4275-9e63-3b9171e41e91",
   "metadata": {},
   "source": []
  },
  {
   "cell_type": "markdown",
   "id": "e57fb91f-88c2-401e-8f59-699a2ed5a7ef",
   "metadata": {},
   "source": [
    "### 6. Integration with Azure ML"
   ]
  },
  {
   "cell_type": "markdown",
   "id": "6042c735-2b0b-460d-bb4f-03d25752d41e",
   "metadata": {},
   "source": []
  },
  {
   "cell_type": "markdown",
   "id": "663629c6-a406-4d88-81c3-471e0ffdca0b",
   "metadata": {},
   "source": []
  },
  {
   "cell_type": "markdown",
   "id": "31a06049-4436-4c1b-bfd5-8472f7dccf0e",
   "metadata": {},
   "source": [
    "### 7. Model Evaluation and Interpretation"
   ]
  },
  {
   "cell_type": "markdown",
   "id": "8143ac4f-d968-44f7-8fdc-7bf53c998823",
   "metadata": {},
   "source": []
  },
  {
   "cell_type": "markdown",
   "id": "cf4ea356-0f29-4a7b-893e-53a4285c5e22",
   "metadata": {},
   "source": []
  },
  {
   "cell_type": "markdown",
   "id": "4370eb06-e9cf-4a4d-9335-4f47147f59e8",
   "metadata": {},
   "source": [
    "### 8. Visualization with Python's Data Visualization Libraries"
   ]
  },
  {
   "cell_type": "markdown",
   "id": "9f8563ec-33a8-44b6-b066-06b214d6d012",
   "metadata": {},
   "source": []
  },
  {
   "cell_type": "markdown",
   "id": "d842f4d2-aa70-493f-850e-b15529ac5ffd",
   "metadata": {},
   "source": []
  }
 ],
 "metadata": {
  "kernelspec": {
   "display_name": "Python 3 (ipykernel)",
   "language": "python",
   "name": "python3"
  },
  "language_info": {
   "codemirror_mode": {
    "name": "ipython",
    "version": 3
   },
   "file_extension": ".py",
   "mimetype": "text/x-python",
   "name": "python",
   "nbconvert_exporter": "python",
   "pygments_lexer": "ipython3",
   "version": "3.8.0"
  }
 },
 "nbformat": 4,
 "nbformat_minor": 5
}
