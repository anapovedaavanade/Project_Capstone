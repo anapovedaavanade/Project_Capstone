{
 "cells": [
  {
   "cell_type": "markdown",
   "id": "0123e99e-c075-4cb8-be73-7197d4de79bb",
   "metadata": {},
   "source": [
    "https://github.com/arunm8489/Amazon_Fine_Food_Reviews-sentiment_analysis/blob/master/Notebooks/4.%20Logistic_regression.ipynb"
   ]
  },
  {
   "cell_type": "markdown",
   "id": "199fc425-048b-4fa9-a2a3-adc796c7b864",
   "metadata": {},
   "source": [
    "https://towardsdatascience.com/sentiment-analysis-on-amazon-food-reviews-from-eda-to-deployment-f985c417b0c"
   ]
  },
  {
   "cell_type": "markdown",
   "id": "0a036018-0067-4203-b50b-104130976e14",
   "metadata": {},
   "source": [
    "https://www.kaggle.com/code/poonaml/text-classification-using-spacy"
   ]
  },
  {
   "cell_type": "markdown",
   "id": "67cb97af-132d-4906-85dc-447087fafb60",
   "metadata": {},
   "source": [
    "#### Dependencies"
   ]
  },
  {
   "cell_type": "code",
   "execution_count": null,
   "id": "81557fd4-d7be-4dc1-b5f8-f7210bcbdbfe",
   "metadata": {},
   "outputs": [],
   "source": []
  },
  {
   "cell_type": "markdown",
   "id": "23027998-5fb3-4b44-9fa3-28996f7de01f",
   "metadata": {},
   "source": []
  },
  {
   "cell_type": "markdown",
   "id": "f96c9d9a-21f6-4477-a906-8e5eaef8759c",
   "metadata": {},
   "source": [
    "###  1. Data Processing"
   ]
  },
  {
   "cell_type": "markdown",
   "id": "186c4247-9430-45cc-84e5-1592891a3f57",
   "metadata": {},
   "source": [
    "#### Data Cleaning"
   ]
  },
  {
   "cell_type": "markdown",
   "id": "b3ff276b-be19-453c-909f-cdc761391402",
   "metadata": {},
   "source": [
    "##### Remove Nan"
   ]
  },
  {
   "cell_type": "markdown",
   "id": "e1cb8dda-abcc-453f-9488-b97fc503fdb5",
   "metadata": {},
   "source": [
    "##### Deduplication"
   ]
  },
  {
   "cell_type": "markdown",
   "id": "a715af49-8b0f-410b-8797-5e607e3b6460",
   "metadata": {},
   "source": [
    "#### Text Preprocessing "
   ]
  },
  {
   "cell_type": "markdown",
   "id": "c1e870d1-5b87-4c4f-b13e-45e7a5629414",
   "metadata": {},
   "source": [
    "https://www.kaggle.com/code/prasheel1047/review-positive-or-negative?scriptVersionId=78532145&cellId=16"
   ]
  },
  {
   "cell_type": "markdown",
   "id": "5c979fa3-f54e-4950-a06d-12b63b6ad6df",
   "metadata": {},
   "source": [
    "https://www.kaggle.com/code/harits/amazon-reviews-sentiment-analysis?scriptVersionId=115541011&cellId=5"
   ]
  },
  {
   "cell_type": "markdown",
   "id": "3f6c2fff-49b3-4dc6-a790-958f29e6dc0a",
   "metadata": {},
   "source": [
    "##### Remove Special characters"
   ]
  },
  {
   "cell_type": "markdown",
   "id": "3d4d60ec-e65d-430c-a188-954ea36896c7",
   "metadata": {},
   "source": [
    "##### Tokenization"
   ]
  },
  {
   "cell_type": "markdown",
   "id": "949f7373-0c34-4954-9479-bc917ace07a6",
   "metadata": {},
   "source": [
    "##### Remove Stop-words"
   ]
  },
  {
   "cell_type": "markdown",
   "id": "80d7f487-bdf6-44d0-be95-206e6a6625ee",
   "metadata": {},
   "source": [
    "##### Text normalization\n",
    "- Convert Lower or Upper case\n",
    "- Remove punctuation\n",
    "  "
   ]
  },
  {
   "cell_type": "markdown",
   "id": "4ec45e0e-6da9-47b9-a9df-b383dc5d7325",
   "metadata": {},
   "source": [
    "##### Steamming or Lemmatization"
   ]
  },
  {
   "cell_type": "markdown",
   "id": "f56d2ab4-d855-4a5c-8f46-04cf080b8b76",
   "metadata": {},
   "source": [
    "### 2. Exploratory Data Analysis"
   ]
  },
  {
   "cell_type": "markdown",
   "id": "9d6bf57c-78bf-4a30-ab43-4221bc2b3319",
   "metadata": {},
   "source": [
    "#### Descriptive analysis of the data (basic statistics, distributions, etc.)."
   ]
  },
  {
   "cell_type": "markdown",
   "id": "deee11cb-7798-490b-bc5a-e4c2b8e67983",
   "metadata": {},
   "source": [
    "#### Visualisation of the distribution of ratings (score column)"
   ]
  },
  {
   "cell_type": "markdown",
   "id": "14a2d871-377d-4403-8ce2-fad7dcaa948f",
   "metadata": {},
   "source": [
    "#### Analysis of the most frequent words in the reviews"
   ]
  },
  {
   "cell_type": "markdown",
   "id": "d96211ce-a7c2-4174-8814-82268822ef6e",
   "metadata": {},
   "source": [
    "#### Visualise the most frequent words in positive and negative reviews."
   ]
  },
  {
   "cell_type": "markdown",
   "id": "29859c85-4abc-4323-b14b-b4289d0d5c59",
   "metadata": {},
   "source": [
    "#### Analysis of the length of the reviews."
   ]
  },
  {
   "cell_type": "markdown",
   "id": "0071a2e5-774b-42a4-8f91-fbb1671ab758",
   "metadata": {},
   "source": [
    "#### Display the relationship between review length and score."
   ]
  },
  {
   "cell_type": "markdown",
   "id": "a2c18640-bc2f-496f-8584-531c316af855",
   "metadata": {},
   "source": [
    "### 3. Sentiment Analysis"
   ]
  },
  {
   "cell_type": "markdown",
   "id": "0077d95d-4a5b-48f1-92f7-5510df83b7f4",
   "metadata": {},
   "source": [
    "https://www.kaggle.com/code/harits/amazon-reviews-sentiment-analysis"
   ]
  },
  {
   "cell_type": "markdown",
   "id": "edc3ab45-f80d-475d-ad25-905efdcdb489",
   "metadata": {},
   "source": []
  },
  {
   "cell_type": "markdown",
   "id": "de59c0b3-abec-48ed-bbdf-18184309236e",
   "metadata": {},
   "source": [
    "### 4. Deep Learning with TensorFlow/Keras"
   ]
  },
  {
   "cell_type": "markdown",
   "id": "ca0a25dc-f8a9-4737-95e3-7adb555fc3dc",
   "metadata": {},
   "source": [
    "https://www.kaggle.com/code/raman007/amazon-finefood-sentiment-classification-using-knn"
   ]
  },
  {
   "cell_type": "markdown",
   "id": "05ae65b6-4926-4270-bdf9-a05e5bc52954",
   "metadata": {},
   "source": []
  },
  {
   "cell_type": "markdown",
   "id": "fac5e2ea-da23-4013-aabb-97f5c509f6ee",
   "metadata": {},
   "source": [
    "### 5. Parameter Tuning"
   ]
  },
  {
   "cell_type": "markdown",
   "id": "9eb49807-b5a7-446e-9c8e-93d3a68a4b93",
   "metadata": {},
   "source": [
    "#### Grid Search"
   ]
  },
  {
   "cell_type": "markdown",
   "id": "36e58cef-7ea4-4275-9e63-3b9171e41e91",
   "metadata": {},
   "source": []
  },
  {
   "cell_type": "markdown",
   "id": "e57fb91f-88c2-401e-8f59-699a2ed5a7ef",
   "metadata": {},
   "source": [
    "### 6. Integration with Azure ML"
   ]
  },
  {
   "cell_type": "markdown",
   "id": "6042c735-2b0b-460d-bb4f-03d25752d41e",
   "metadata": {},
   "source": []
  },
  {
   "cell_type": "markdown",
   "id": "663629c6-a406-4d88-81c3-471e0ffdca0b",
   "metadata": {},
   "source": []
  },
  {
   "cell_type": "markdown",
   "id": "31a06049-4436-4c1b-bfd5-8472f7dccf0e",
   "metadata": {},
   "source": [
    "### 7. Model Evaluation and Interpretation"
   ]
  },
  {
   "cell_type": "markdown",
   "id": "8143ac4f-d968-44f7-8fdc-7bf53c998823",
   "metadata": {},
   "source": []
  },
  {
   "cell_type": "markdown",
   "id": "cf4ea356-0f29-4a7b-893e-53a4285c5e22",
   "metadata": {},
   "source": []
  },
  {
   "cell_type": "markdown",
   "id": "4370eb06-e9cf-4a4d-9335-4f47147f59e8",
   "metadata": {},
   "source": [
    "### 8. Visualization with Python's Data Visualization Libraries"
   ]
  },
  {
   "cell_type": "markdown",
   "id": "9f8563ec-33a8-44b6-b066-06b214d6d012",
   "metadata": {},
   "source": []
  },
  {
   "cell_type": "markdown",
   "id": "d842f4d2-aa70-493f-850e-b15529ac5ffd",
   "metadata": {},
   "source": []
  }
 ],
 "metadata": {
  "kernelspec": {
   "display_name": "Python 3 (ipykernel)",
   "language": "python",
   "name": "python3"
  },
  "language_info": {
   "codemirror_mode": {
    "name": "ipython",
    "version": 3
   },
   "file_extension": ".py",
   "mimetype": "text/x-python",
   "name": "python",
   "nbconvert_exporter": "python",
   "pygments_lexer": "ipython3",
   "version": "3.9.18"
  }
 },
 "nbformat": 4,
 "nbformat_minor": 5
}
